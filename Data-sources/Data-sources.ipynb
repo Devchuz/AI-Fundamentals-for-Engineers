{
 "cells": [
  {
   "cell_type": "markdown",
   "metadata": {},
   "source": [
    "# Data Source\n",
    "\n",
    "![Texto alternativo](\\Images\\Image_1.png)\n"
   ]
  },
  {
   "cell_type": "markdown",
   "metadata": {},
   "source": [
    "# Introduction to Data Retrieval\n",
    "\n",
    "In the information era, data has become an invaluable resource for analysis, decision-making, and the development of innovative applications. The ability to collect, analyze, and derive insights from data is an essential skill in fields as varied as data science, software development, digital marketing, and beyond.\n",
    "\n",
    "Data retrieval is the critical first step in any data analysis project or development of data-based applications. It involves gathering information from different sources, which can be as diverse as a company's internal databases, local files, public APIs, or even web pages from which data is extracted using web scraping techniques.\n",
    "\n",
    "This process not only involves the collection of data but also its initial inspection and understanding. Before being able to analyze the data or use it to train machine learning models, it is essential to ensure that they are accessible, relevant, and of quality.\n",
    "\n",
    "In the following sections, we will explore various techniques and tools for data retrieval, from consuming APIs to web scraping and loading local files. Our goal is to provide you with a set of practical skills that allow you to gather data from a wide range of sources and prepare it for further analysis or development."
   ]
  },
  {
   "cell_type": "markdown",
   "metadata": {},
   "source": [
    "## Data Sources\n",
    "- **Public APIs**: We will use the OpenWeatherMap API as an example to obtain weather data.\n",
    "- **Web Scraping**: We will extract data from a sample web page to demonstrate how data collection from websites can be automated.\n",
    "- **Local Files**: We will load and analyze data from CSV and Excel files, a common practice in data analysis.\n"
   ]
  },
  {
   "cell_type": "markdown",
   "metadata": {},
   "source": [
    "### Public APIs \n",
    "\n",
    "\n",
    "https://openweathermap.org/api\n",
    "\n",
    "\n",
    "![Texto alternativo](Images\\Image_2.png)"
   ]
  },
  {
   "cell_type": "code",
   "execution_count": 2,
   "metadata": {},
   "outputs": [
    {
     "name": "stdout",
     "output_type": "stream",
     "text": [
      "Datos obtenidos de OpenWeatherMap:\n",
      "{'coord': {'lon': -3.7026, 'lat': 40.4165}, 'weather': [{'id': 800, 'main': 'Clear', 'description': 'clear sky', 'icon': '01n'}], 'base': 'stations', 'main': {'temp': 279.77, 'feels_like': 276.23, 'temp_min': 278.15, 'temp_max': 280.58, 'pressure': 1002, 'humidity': 75}, 'visibility': 10000, 'wind': {'speed': 5.66, 'deg': 230}, 'clouds': {'all': 0}, 'dt': 1711914239, 'sys': {'type': 2, 'id': 2007545, 'country': 'ES', 'sunrise': 1711864773, 'sunset': 1711910273}, 'timezone': 7200, 'id': 3117735, 'name': 'Madrid', 'cod': 200}\n"
     ]
    }
   ],
   "source": [
    "import requests\n",
    "\n",
    "api_url = \"http://api.openweathermap.org/data/2.5/weather?q=Madrid,es&appid={YOUR-APIKEY}\"\n",
    "\n",
    "# Realiza la solicitud a la API\n",
    "response = requests.get(api_url)\n",
    "# Verifica si la solicitud fue exitosa\n",
    "if response.status_code == 200:\n",
    "    data = response.json()\n",
    "    print(\"Datos obtenidos de OpenWeatherMap:\")\n",
    "    print(data)\n",
    "else:\n",
    "    print(\"Error al obtener los datos desde la API.\")"
   ]
  },
  {
   "cell_type": "markdown",
   "metadata": {},
   "source": [
    "### Web escraping"
   ]
  },
  {
   "cell_type": "markdown",
   "metadata": {},
   "source": [
    "![Texto alternativo](\\Images\\Image_3.jpg)"
   ]
  },
  {
   "cell_type": "markdown",
   "metadata": {},
   "source": [
    "### Herramientas de webscraping"
   ]
  },
  {
   "cell_type": "code",
   "execution_count": 3,
   "metadata": {},
   "outputs": [
    {
     "name": "stdout",
     "output_type": "stream",
     "text": [
      "Elemento 'main' con clase 'col__content' no encontrado en https://larepublica.pe/ultimas-noticias\n",
      "Elemento 'main' con clase 'col__content' no encontrado en https://larepublica.pe/\n",
      "Elemento 'main' con clase 'col__content' no encontrado en https://larepublica.pe/ultimas-noticias\n",
      "Elemento 'main' con clase 'col__content' no encontrado en https://larepublica.pe/politica\n",
      "Elemento 'main' con clase 'col__content' no encontrado en https://larepublica.pe/economia\n",
      "Elemento 'main' con clase 'col__content' no encontrado en https://larepublica.pe/sociedad\n",
      "Elemento 'main' con clase 'col__content' no encontrado en https://larepublica.pe/mundo\n",
      "Elemento 'main' con clase 'col__content' no encontrado en https://larepublica.pe/peru\n",
      "Elemento 'main' con clase 'col__content' no encontrado en https://larepublica.pe/deportes\n",
      "Elemento 'main' con clase 'col__content' no encontrado en https://larepublica.pe/espectaculos\n",
      "Elemento 'main' con clase 'col__content' no encontrado en https://larepublica.pe/cine-series\n",
      "Elemento 'main' con clase 'col__content' no encontrado en https://larepublica.pe/economia/precio-del-dolar\n",
      "Elemento 'main' con clase 'col__content' no encontrado en https://larepublica.pe/newsletter\n",
      "Elemento 'main' con clase 'col__content' no encontrado en https://larepublica.pe/ultimas-noticias\n",
      "Elemento 'main' con clase 'col__content' no encontrado en https://larepublica.pe/tag/reniec\n",
      "Elemento 'main' con clase 'col__content' no encontrado en https://larepublica.pe/autor/emely-matos\n",
      "Elemento 'main' con clase 'col__content' no encontrado en https://larepublica.pe/tag/chimbote\n",
      "Elemento 'main' con clase 'col__content' no encontrado en https://larepublica.pe/autor/celeste-diaz\n",
      "Elemento 'main' con clase 'col__content' no encontrado en https://larepublica.pe/tag/universidad-nacional-mayor-de-san-marcos\n",
      "Elemento 'main' con clase 'col__content' no encontrado en https://larepublica.pe/autor/isabel-nomberto\n",
      "Elemento 'main' con clase 'col__content' no encontrado en https://larepublica.pe/tag/sunedu\n",
      "Elemento 'main' con clase 'col__content' no encontrado en https://larepublica.pe/autor/emely-matos\n",
      "Elemento 'main' con clase 'col__content' no encontrado en https://larepublica.pe/tag/unmsm\n",
      "Elemento 'main' con clase 'col__content' no encontrado en https://larepublica.pe/autor/pamela-arroyo\n",
      "Elemento 'main' con clase 'col__content' no encontrado en https://larepublica.pe/tag/sismos\n",
      "Elemento 'main' con clase 'col__content' no encontrado en https://larepublica.pe/autor/daniel-tapia\n",
      "Elemento 'main' con clase 'col__content' no encontrado en https://larepublica.pe/tag/arequipa\n",
      "Elemento 'main' con clase 'col__content' no encontrado en https://larepublica.pe/autor/milagros-corrales\n",
      "Elemento 'main' con clase 'col__content' no encontrado en https://larepublica.pe/tag/callao\n",
      "Elemento 'main' con clase 'col__content' no encontrado en https://larepublica.pe/autor/lizbeth-ubillus\n",
      "Elemento 'main' con clase 'col__content' no encontrado en https://larepublica.pe/tag/san-martin\n",
      "Elemento 'main' con clase 'col__content' no encontrado en https://larepublica.pe/autor/rosario-ticona\n",
      "Elemento 'main' con clase 'col__content' no encontrado en https://larepublica.pe/tag/senamhi\n",
      "Elemento 'main' con clase 'col__content' no encontrado en https://larepublica.pe/autor/milagros-corrales\n",
      "Elemento 'main' con clase 'col__content' no encontrado en https://larepublica.pe/tag/regiones\n",
      "Elemento 'main' con clase 'col__content' no encontrado en https://larepublica.pe/autor/claudia-beltran\n",
      "Elemento 'main' con clase 'col__content' no encontrado en https://larepublica.pe/tag/regiones\n",
      "Elemento 'main' con clase 'col__content' no encontrado en https://larepublica.pe/autor/claudia-beltran\n",
      "Elemento 'main' con clase 'col__content' no encontrado en https://larepublica.pe/tag/arequipa\n",
      "Elemento 'main' con clase 'col__content' no encontrado en https://larepublica.pe/autor/milagros-corrales\n",
      "Elemento 'main' con clase 'col__content' no encontrado en https://larepublica.pe/tag/surquillo\n",
      "Elemento 'main' con clase 'col__content' no encontrado en https://larepublica.pe/autor/emely-matos\n",
      "Elemento 'main' con clase 'col__content' no encontrado en https://larepublica.pe/tag/convocatorias-de-trabajo\n",
      "Elemento 'main' con clase 'col__content' no encontrado en https://larepublica.pe/autor/daniel-tapia\n",
      "Elemento 'main' con clase 'col__content' no encontrado en https://larepublica.pe/tag/la-libertad\n",
      "Elemento 'main' con clase 'col__content' no encontrado en https://larepublica.pe/autor/oscar-chumpitaz\n",
      "Elemento 'main' con clase 'col__content' no encontrado en https://larepublica.pe/tag/impresa\n",
      "Elemento 'main' con clase 'col__content' no encontrado en https://larepublica.pe/autor/oscar-miranda\n",
      "Elemento 'main' con clase 'col__content' no encontrado en https://larepublica.pe/tag/universidad-nacional-mayor-de-san-marcos\n",
      "Elemento 'main' con clase 'col__content' no encontrado en https://larepublica.pe/autor/scheila-tolentino\n",
      "Elemento 'main' con clase 'col__content' no encontrado en https://larepublica.pe/tag/uni-universidad-nacional-de-ingenieria\n",
      "Elemento 'main' con clase 'col__content' no encontrado en https://larepublica.pe/autor/mary-espiritu\n",
      "Elemento 'main' con clase 'col__content' no encontrado en https://larepublica.pe/tag/san-juan-de-lurigancho\n",
      "Elemento 'main' con clase 'col__content' no encontrado en https://larepublica.pe/autor/jose-saenz\n",
      "Elemento 'main' con clase 'col__content' no encontrado en https://larepublica.pe/tag/reniec\n",
      "Elemento 'main' con clase 'col__content' no encontrado en https://larepublica.pe/autor/sociedad-lr\n",
      "Elemento 'main' con clase 'col__content' no encontrado en https://larepublica.pe/tag/poder-judicial\n",
      "Elemento 'main' con clase 'col__content' no encontrado en https://larepublica.pe/autor/oscar-chumpitaz\n",
      "Elemento 'main' con clase 'col__content' no encontrado en https://larepublica.pe/tag/san-juan-de-lurigancho\n",
      "Elemento 'main' con clase 'col__content' no encontrado en https://larepublica.pe/autor/jose-saenz\n",
      "Elemento 'main' con clase 'col__content' no encontrado en https://larepublica.pe/tag/impresa\n",
      "Elemento 'main' con clase 'col__content' no encontrado en https://larepublica.pe/autor/oscar-chumpitaz\n",
      "Elemento 'main' con clase 'col__content' no encontrado en https://larepublica.pe/\n",
      "Elemento 'main' con clase 'col__content' no encontrado en https://larepublica.pe/ultimas-noticias\n",
      "Elemento 'main' con clase 'col__content' no encontrado en https://larepublica.pe/politica\n",
      "Elemento 'main' con clase 'col__content' no encontrado en https://larepublica.pe/economia\n",
      "Elemento 'main' con clase 'col__content' no encontrado en https://larepublica.pe/sociedad\n",
      "Elemento 'main' con clase 'col__content' no encontrado en https://larepublica.pe/deportes\n",
      "Elemento 'main' con clase 'col__content' no encontrado en https://larepublica.pe/espectaculos\n",
      "Elemento 'main' con clase 'col__content' no encontrado en https://larepublica.pe/cine-series\n",
      "Elemento 'main' con clase 'col__content' no encontrado en https://larepublica.pe/mundo\n",
      "Elemento 'main' con clase 'col__content' no encontrado en https://larepublica.pe/tendencias\n",
      "Elemento 'main' con clase 'col__content' no encontrado en https://larepublica.pe/tecnologia\n",
      "Elemento 'main' con clase 'col__content' no encontrado en https://larepublica.pe/cultura-asiatica\n",
      "Elemento 'main' con clase 'col__content' no encontrado en https://larepublica.pe/loterias-sorteos\n",
      "Elemento 'main' con clase 'col__content' no encontrado en https://larepublica.pe/datos-lr\n",
      "Elemento 'main' con clase 'col__content' no encontrado en https://larepublica.pe/columnistas\n",
      "Elemento 'main' con clase 'col__content' no encontrado en https://larepublica.pe/verificador\n",
      "Elemento 'main' con clase 'col__content' no encontrado en https://larepublica.pe/mundo/argentina\n",
      "Elemento 'main' con clase 'col__content' no encontrado en https://larepublica.pe/mundo/mexico\n",
      "Elemento 'main' con clase 'col__content' no encontrado en https://larepublica.pe/mundo/venezuela\n",
      "Elemento 'main' con clase 'col__content' no encontrado en https://larepublica.pe/horoscopo\n",
      "Elemento 'main' con clase 'col__content' no encontrado en https://larepublica.pe/contactenos\n",
      "Elemento 'main' con clase 'col__content' no encontrado en https://larepublica.pe/newsletter\n",
      "Elemento 'main' con clase 'col__content' no encontrado en https://larepublica.pe/terminos-de-uso\n",
      "Elemento 'main' con clase 'col__content' no encontrado en https://larepublica.pe/politicas-y-estandares\n",
      "Elemento 'main' con clase 'col__content' no encontrado en https://www.facebook.com/larepublicape/\n",
      "Elemento 'main' con clase 'col__content' no encontrado en https://twitter.com/larepublica_pe\n",
      "Elemento 'main' con clase 'col__content' no encontrado en https://www.instagram.com/larepublica_pe/\n",
      "Elemento 'main' con clase 'col__content' no encontrado en https://www.tiktok.com/@larepublica.pe\n",
      "Elemento 'main' con clase 'col__content' no encontrado en https://whatsapp.com/channel/0029Va53wfSDp2Q5gaRw5i3e\n",
      "Elemento 'main' con clase 'col__content' no encontrado en https://larepublica.pe/contactenos\n",
      "Elemento 'main' con clase 'col__content' no encontrado en https://larepublica.pe/newsletter\n",
      "Elemento 'main' con clase 'col__content' no encontrado en https://larepublica.pe/terminos-de-uso\n",
      "Elemento 'main' con clase 'col__content' no encontrado en https://larepublica.pe/politicas-y-estandares\n",
      "Elemento 'main' con clase 'col__content' no encontrado en https://larepublica.pe/\n",
      "Elemento 'main' con clase 'col__content' no encontrado en https://podcast.larepublica.pe\n",
      "Elemento 'main' con clase 'col__content' no encontrado en https://elpopular.pe/\n",
      "Elemento 'main' con clase 'col__content' no encontrado en https://libero.pe/\n",
      "Elemento 'main' con clase 'col__content' no encontrado en https://libero.pe/esports\n",
      "Elemento 'main' con clase 'col__content' no encontrado en https://wapa.pe/\n",
      "Elemento 'main' con clase 'col__content' no encontrado en https://lol.larepublica.pe/\n",
      "Elemento 'main' con clase 'col__content' no encontrado en https://buenazo.pe/\n",
      "Elemento 'main' con clase 'col__content' no encontrado en https://larepublica.pe/verificador\n",
      "Elemento 'main' con clase 'col__content' no encontrado en https://perulegal.larepublica.pe\n",
      "Elemento 'main' con clase 'col__content' no encontrado en https://lrmas.larepublica.pe\n",
      "Elemento 'main' con clase 'col__content' no encontrado en https://perubazar.pe/\n",
      "Elemento 'main' con clase 'col__content' no encontrado en https://cuponidad.pe/\n",
      "Elemento 'main' con clase 'col__content' no encontrado en https://larepublica.pe/ultimas-noticias\n",
      "Elemento 'main' con clase 'col__content' no encontrado en https://larepublica.pe/\n",
      "Elemento 'main' con clase 'col__content' no encontrado en https://larepublica.pe/ultimas-noticias\n",
      "Elemento 'main' con clase 'col__content' no encontrado en https://larepublica.pe/politica\n",
      "Elemento 'main' con clase 'col__content' no encontrado en https://larepublica.pe/economia\n",
      "Elemento 'main' con clase 'col__content' no encontrado en https://larepublica.pe/sociedad\n",
      "Elemento 'main' con clase 'col__content' no encontrado en https://larepublica.pe/mundo\n",
      "Elemento 'main' con clase 'col__content' no encontrado en https://larepublica.pe/peru\n",
      "Elemento 'main' con clase 'col__content' no encontrado en https://larepublica.pe/deportes\n",
      "Elemento 'main' con clase 'col__content' no encontrado en https://larepublica.pe/espectaculos\n",
      "Elemento 'main' con clase 'col__content' no encontrado en https://larepublica.pe/cine-series\n",
      "Elemento 'main' con clase 'col__content' no encontrado en https://larepublica.pe/economia/precio-del-dolar\n",
      "Elemento 'main' con clase 'col__content' no encontrado en https://larepublica.pe/newsletter\n",
      "Elemento 'main' con clase 'col__content' no encontrado en https://larepublica.pe/ultimas-noticias\n",
      "Elemento 'main' con clase 'col__content' no encontrado en https://larepublica.pe/tag/agricultura\n",
      "Elemento 'main' con clase 'col__content' no encontrado en https://larepublica.pe/autor/esteban-salazar-herrada\n",
      "Elemento 'main' con clase 'col__content' no encontrado en https://larepublica.pe/tag/impresa\n",
      "Elemento 'main' con clase 'col__content' no encontrado en https://larepublica.pe/autor/esteban-salazar-herrada\n",
      "Elemento 'main' con clase 'col__content' no encontrado en https://larepublica.pe/tag/exportacion\n",
      "Elemento 'main' con clase 'col__content' no encontrado en https://larepublica.pe/autor/economia-lr\n",
      "Elemento 'main' con clase 'col__content' no encontrado en https://larepublica.pe/tag/congreso-del-peru\n",
      "Elemento 'main' con clase 'col__content' no encontrado en https://larepublica.pe/autor/fernando-cuadros\n",
      "Elemento 'main' con clase 'col__content' no encontrado en https://larepublica.pe/tag/dolar\n",
      "Elemento 'main' con clase 'col__content' no encontrado en https://larepublica.pe/autor/daniel-tapia\n",
      "Elemento 'main' con clase 'col__content' no encontrado en https://larepublica.pe/tag/onp\n",
      "Elemento 'main' con clase 'col__content' no encontrado en https://larepublica.pe/autor/renato-delgado\n",
      "Elemento 'main' con clase 'col__content' no encontrado en https://larepublica.pe/tag/deudas\n",
      "Elemento 'main' con clase 'col__content' no encontrado en https://larepublica.pe/autor/renato-delgado\n",
      "Elemento 'main' con clase 'col__content' no encontrado en https://larepublica.pe/tag/retiro-afp\n",
      "Elemento 'main' con clase 'col__content' no encontrado en https://larepublica.pe/autor/daniel-tapia\n",
      "Elemento 'main' con clase 'col__content' no encontrado en https://larepublica.pe/tag/fonavi\n",
      "Elemento 'main' con clase 'col__content' no encontrado en https://larepublica.pe/autor/lucia-castro\n",
      "Elemento 'main' con clase 'col__content' no encontrado en https://larepublica.pe/tag/sisfoh\n",
      "Elemento 'main' con clase 'col__content' no encontrado en https://larepublica.pe/autor/emely-matos\n",
      "Elemento 'main' con clase 'col__content' no encontrado en https://larepublica.pe/tag/impresa\n",
      "Elemento 'main' con clase 'col__content' no encontrado en https://larepublica.pe/autor/fernando-cuadros\n",
      "Elemento 'main' con clase 'col__content' no encontrado en https://larepublica.pe/tag/congreso-del-peru\n",
      "Elemento 'main' con clase 'col__content' no encontrado en https://larepublica.pe/autor/daniel-tapia\n",
      "Elemento 'main' con clase 'col__content' no encontrado en https://larepublica.pe/tag/empleo\n",
      "Elemento 'main' con clase 'col__content' no encontrado en https://larepublica.pe/autor/fernando-cuadros\n",
      "Elemento 'main' con clase 'col__content' no encontrado en https://larepublica.pe/tag/cts\n",
      "Elemento 'main' con clase 'col__content' no encontrado en https://larepublica.pe/autor/daniel-tapia\n",
      "Elemento 'main' con clase 'col__content' no encontrado en https://larepublica.pe/tag/onp\n",
      "Elemento 'main' con clase 'col__content' no encontrado en https://larepublica.pe/autor/daniel-tapia\n",
      "Elemento 'main' con clase 'col__content' no encontrado en https://larepublica.pe/tag/impresa\n",
      "Elemento 'main' con clase 'col__content' no encontrado en https://larepublica.pe/autor/fernando-cuadros\n",
      "Elemento 'main' con clase 'col__content' no encontrado en https://larepublica.pe/tag/impresa\n",
      "Elemento 'main' con clase 'col__content' no encontrado en https://larepublica.pe/autor/fernando-cuadros\n",
      "Elemento 'main' con clase 'col__content' no encontrado en https://larepublica.pe/tag/impresa\n",
      "Elemento 'main' con clase 'col__content' no encontrado en https://larepublica.pe/autor/fernando-cuadros\n",
      "Elemento 'main' con clase 'col__content' no encontrado en https://larepublica.pe/tag/dolar\n",
      "Elemento 'main' con clase 'col__content' no encontrado en https://larepublica.pe/autor/emely-matos\n",
      "Elemento 'main' con clase 'col__content' no encontrado en https://larepublica.pe/tag/yape\n",
      "Elemento 'main' con clase 'col__content' no encontrado en https://larepublica.pe/autor/emely-matos\n",
      "Elemento 'main' con clase 'col__content' no encontrado en https://larepublica.pe/tag/bcrp\n",
      "Elemento 'main' con clase 'col__content' no encontrado en https://larepublica.pe/autor/lucia-castro\n",
      "Elemento 'main' con clase 'col__content' no encontrado en https://larepublica.pe/tag/banco-de-la-nacion\n",
      "Elemento 'main' con clase 'col__content' no encontrado en https://larepublica.pe/autor/daniel-tapia\n",
      "Elemento 'main' con clase 'col__content' no encontrado en https://larepublica.pe/tag/yape\n",
      "Elemento 'main' con clase 'col__content' no encontrado en https://larepublica.pe/autor/lucia-castro\n",
      "Elemento 'main' con clase 'col__content' no encontrado en https://larepublica.pe/tag/afp\n",
      "Elemento 'main' con clase 'col__content' no encontrado en https://larepublica.pe/autor/lucia-castro\n",
      "Elemento 'main' con clase 'col__content' no encontrado en https://larepublica.pe/\n",
      "Elemento 'main' con clase 'col__content' no encontrado en https://larepublica.pe/ultimas-noticias\n",
      "Elemento 'main' con clase 'col__content' no encontrado en https://larepublica.pe/politica\n",
      "Elemento 'main' con clase 'col__content' no encontrado en https://larepublica.pe/economia\n",
      "Elemento 'main' con clase 'col__content' no encontrado en https://larepublica.pe/sociedad\n",
      "Elemento 'main' con clase 'col__content' no encontrado en https://larepublica.pe/deportes\n",
      "Elemento 'main' con clase 'col__content' no encontrado en https://larepublica.pe/espectaculos\n",
      "Elemento 'main' con clase 'col__content' no encontrado en https://larepublica.pe/cine-series\n",
      "Elemento 'main' con clase 'col__content' no encontrado en https://larepublica.pe/mundo\n",
      "Elemento 'main' con clase 'col__content' no encontrado en https://larepublica.pe/tendencias\n",
      "Elemento 'main' con clase 'col__content' no encontrado en https://larepublica.pe/tecnologia\n",
      "Elemento 'main' con clase 'col__content' no encontrado en https://larepublica.pe/cultura-asiatica\n",
      "Elemento 'main' con clase 'col__content' no encontrado en https://larepublica.pe/loterias-sorteos\n",
      "Elemento 'main' con clase 'col__content' no encontrado en https://larepublica.pe/datos-lr\n",
      "Elemento 'main' con clase 'col__content' no encontrado en https://larepublica.pe/columnistas\n",
      "Elemento 'main' con clase 'col__content' no encontrado en https://larepublica.pe/verificador\n",
      "Elemento 'main' con clase 'col__content' no encontrado en https://larepublica.pe/mundo/argentina\n",
      "Elemento 'main' con clase 'col__content' no encontrado en https://larepublica.pe/mundo/mexico\n",
      "Elemento 'main' con clase 'col__content' no encontrado en https://larepublica.pe/mundo/venezuela\n",
      "Elemento 'main' con clase 'col__content' no encontrado en https://larepublica.pe/horoscopo\n",
      "Elemento 'main' con clase 'col__content' no encontrado en https://larepublica.pe/contactenos\n",
      "Elemento 'main' con clase 'col__content' no encontrado en https://larepublica.pe/newsletter\n",
      "Elemento 'main' con clase 'col__content' no encontrado en https://larepublica.pe/terminos-de-uso\n",
      "Elemento 'main' con clase 'col__content' no encontrado en https://larepublica.pe/politicas-y-estandares\n",
      "Elemento 'main' con clase 'col__content' no encontrado en https://www.facebook.com/larepublicape/\n",
      "Elemento 'main' con clase 'col__content' no encontrado en https://twitter.com/larepublica_pe\n",
      "Elemento 'main' con clase 'col__content' no encontrado en https://www.instagram.com/larepublica_pe/\n",
      "Elemento 'main' con clase 'col__content' no encontrado en https://www.tiktok.com/@larepublica.pe\n",
      "Elemento 'main' con clase 'col__content' no encontrado en https://whatsapp.com/channel/0029Va53wfSDp2Q5gaRw5i3e\n",
      "Elemento 'main' con clase 'col__content' no encontrado en https://larepublica.pe/contactenos\n",
      "Elemento 'main' con clase 'col__content' no encontrado en https://larepublica.pe/newsletter\n",
      "Elemento 'main' con clase 'col__content' no encontrado en https://larepublica.pe/terminos-de-uso\n",
      "Elemento 'main' con clase 'col__content' no encontrado en https://larepublica.pe/politicas-y-estandares\n",
      "Elemento 'main' con clase 'col__content' no encontrado en https://larepublica.pe/\n",
      "Elemento 'main' con clase 'col__content' no encontrado en https://podcast.larepublica.pe\n",
      "Elemento 'main' con clase 'col__content' no encontrado en https://elpopular.pe/\n",
      "Elemento 'main' con clase 'col__content' no encontrado en https://libero.pe/\n",
      "Elemento 'main' con clase 'col__content' no encontrado en https://libero.pe/esports\n",
      "Elemento 'main' con clase 'col__content' no encontrado en https://wapa.pe/\n",
      "Elemento 'main' con clase 'col__content' no encontrado en https://lol.larepublica.pe/\n",
      "Elemento 'main' con clase 'col__content' no encontrado en https://buenazo.pe/\n",
      "Elemento 'main' con clase 'col__content' no encontrado en https://larepublica.pe/verificador\n",
      "Elemento 'main' con clase 'col__content' no encontrado en https://perulegal.larepublica.pe\n",
      "Elemento 'main' con clase 'col__content' no encontrado en https://lrmas.larepublica.pe\n",
      "Elemento 'main' con clase 'col__content' no encontrado en https://perubazar.pe/\n",
      "Elemento 'main' con clase 'col__content' no encontrado en https://cuponidad.pe/\n",
      "Elemento 'main' con clase 'col__content' no encontrado en https://larepublica.pe/ultimas-noticias\n",
      "Elemento 'main' con clase 'col__content' no encontrado en https://larepublica.pe/\n",
      "Elemento 'main' con clase 'col__content' no encontrado en https://larepublica.pe/ultimas-noticias\n",
      "Elemento 'main' con clase 'col__content' no encontrado en https://larepublica.pe/politica\n",
      "Elemento 'main' con clase 'col__content' no encontrado en https://larepublica.pe/economia\n",
      "Elemento 'main' con clase 'col__content' no encontrado en https://larepublica.pe/sociedad\n",
      "Elemento 'main' con clase 'col__content' no encontrado en https://larepublica.pe/mundo\n",
      "Elemento 'main' con clase 'col__content' no encontrado en https://larepublica.pe/peru\n",
      "Elemento 'main' con clase 'col__content' no encontrado en https://larepublica.pe/deportes\n",
      "Elemento 'main' con clase 'col__content' no encontrado en https://larepublica.pe/espectaculos\n",
      "Elemento 'main' con clase 'col__content' no encontrado en https://larepublica.pe/cine-series\n",
      "Elemento 'main' con clase 'col__content' no encontrado en https://larepublica.pe/economia/precio-del-dolar\n",
      "Elemento 'main' con clase 'col__content' no encontrado en https://larepublica.pe/newsletter\n",
      "Elemento 'main' con clase 'col__content' no encontrado en https://larepublica.pe/ultimas-noticias\n",
      "Elemento 'main' con clase 'col__content' no encontrado en https://larepublica.pe/tag/dina-boluarte\n",
      "Elemento 'main' con clase 'col__content' no encontrado en https://larepublica.pe/autor/daniel-munoz\n",
      "Elemento 'main' con clase 'col__content' no encontrado en https://larepublica.pe/tag/dina-boluarte\n",
      "Elemento 'main' con clase 'col__content' no encontrado en https://larepublica.pe/autor/erick-torres\n",
      "Elemento 'main' con clase 'col__content' no encontrado en https://larepublica.pe/tag/comision-de-etica\n",
      "Elemento 'main' con clase 'col__content' no encontrado en https://larepublica.pe/autor/wilber-huacasi\n",
      "Elemento 'main' con clase 'col__content' no encontrado en https://larepublica.pe/tag/dina-boluarte\n",
      "Elemento 'main' con clase 'col__content' no encontrado en https://larepublica.pe/autor/daniel-munoz\n",
      "Elemento 'main' con clase 'col__content' no encontrado en https://larepublica.pe/tag/dina-boluarte\n",
      "Elemento 'main' con clase 'col__content' no encontrado en https://larepublica.pe/autor/jose-ancajima\n",
      "Elemento 'main' con clase 'col__content' no encontrado en https://larepublica.pe/tag/guillermo-bermejo\n",
      "Elemento 'main' con clase 'col__content' no encontrado en https://larepublica.pe/autor/erick-torres\n",
      "Elemento 'main' con clase 'col__content' no encontrado en https://larepublica.pe/tag/fiscalia\n",
      "Elemento 'main' con clase 'col__content' no encontrado en https://larepublica.pe/autor/daniel-munoz\n",
      "Elemento 'main' con clase 'col__content' no encontrado en https://larepublica.pe/tag/dina-boluarte\n",
      "Elemento 'main' con clase 'col__content' no encontrado en https://larepublica.pe/autor/deyna-cornejo\n",
      "Elemento 'main' con clase 'col__content' no encontrado en https://larepublica.pe/tag/congreso-del-peru\n",
      "Elemento 'main' con clase 'col__content' no encontrado en https://larepublica.pe/autor/diego-quispe\n",
      "Elemento 'main' con clase 'col__content' no encontrado en https://larepublica.pe/tag/impresa\n",
      "Elemento 'main' con clase 'col__content' no encontrado en https://larepublica.pe/autor/enrique-patriau\n",
      "Elemento 'main' con clase 'col__content' no encontrado en https://larepublica.pe/tag/dina-boluarte\n",
      "Elemento 'main' con clase 'col__content' no encontrado en https://larepublica.pe/autor/elias-guillen\n",
      "Elemento 'main' con clase 'col__content' no encontrado en https://larepublica.pe/tag/impresa\n",
      "Elemento 'main' con clase 'col__content' no encontrado en https://larepublica.pe/autor/enrique-patriau\n",
      "Elemento 'main' con clase 'col__content' no encontrado en https://larepublica.pe/tag/impresa\n",
      "Elemento 'main' con clase 'col__content' no encontrado en https://larepublica.pe/autor/mariana-quilca\n",
      "Elemento 'main' con clase 'col__content' no encontrado en https://larepublica.pe/tag/impresa\n",
      "Elemento 'main' con clase 'col__content' no encontrado en https://larepublica.pe/autor/elizabeth-prado\n",
      "Elemento 'main' con clase 'col__content' no encontrado en https://larepublica.pe/tag/impresa\n",
      "Elemento 'main' con clase 'col__content' no encontrado en https://larepublica.pe/autor/doris-aguirre\n",
      "Elemento 'main' con clase 'col__content' no encontrado en https://larepublica.pe/tag/dina-boluarte\n",
      "Elemento 'main' con clase 'col__content' no encontrado en https://larepublica.pe/autor/elias-guillen\n",
      "Elemento 'main' con clase 'col__content' no encontrado en https://larepublica.pe/tag/dina-boluarte\n",
      "Elemento 'main' con clase 'col__content' no encontrado en https://larepublica.pe/autor/mariana-quilca\n",
      "Elemento 'main' con clase 'col__content' no encontrado en https://larepublica.pe/tag/sigrid-bazan\n",
      "Elemento 'main' con clase 'col__content' no encontrado en https://larepublica.pe/autor/mariana-quilca\n",
      "Elemento 'main' con clase 'col__content' no encontrado en https://larepublica.pe/tag/dina-boluarte\n",
      "Elemento 'main' con clase 'col__content' no encontrado en https://larepublica.pe/autor/elias-guillen\n",
      "Elemento 'main' con clase 'col__content' no encontrado en https://larepublica.pe/tag/dina-boluarte\n",
      "Elemento 'main' con clase 'col__content' no encontrado en https://larepublica.pe/autor/erick-torres\n",
      "Elemento 'main' con clase 'col__content' no encontrado en https://larepublica.pe/tag/dina-boluarte\n",
      "Elemento 'main' con clase 'col__content' no encontrado en https://larepublica.pe/autor/cesar-romero\n",
      "Elemento 'main' con clase 'col__content' no encontrado en https://larepublica.pe/tag/dina-boluarte\n",
      "Elemento 'main' con clase 'col__content' no encontrado en https://larepublica.pe/autor/jean-pierre-rojas\n",
      "Elemento 'main' con clase 'col__content' no encontrado en https://larepublica.pe/tag/dina-boluarte\n",
      "Elemento 'main' con clase 'col__content' no encontrado en https://larepublica.pe/autor/elias-guillen\n",
      "Elemento 'main' con clase 'col__content' no encontrado en https://larepublica.pe/tag/dina-boluarte\n",
      "Elemento 'main' con clase 'col__content' no encontrado en https://larepublica.pe/autor/mariana-quilca\n",
      "Elemento 'main' con clase 'col__content' no encontrado en https://larepublica.pe/\n",
      "Elemento 'main' con clase 'col__content' no encontrado en https://larepublica.pe/ultimas-noticias\n",
      "Elemento 'main' con clase 'col__content' no encontrado en https://larepublica.pe/politica\n",
      "Elemento 'main' con clase 'col__content' no encontrado en https://larepublica.pe/economia\n",
      "Elemento 'main' con clase 'col__content' no encontrado en https://larepublica.pe/sociedad\n",
      "Elemento 'main' con clase 'col__content' no encontrado en https://larepublica.pe/deportes\n",
      "Elemento 'main' con clase 'col__content' no encontrado en https://larepublica.pe/espectaculos\n",
      "Elemento 'main' con clase 'col__content' no encontrado en https://larepublica.pe/cine-series\n",
      "Elemento 'main' con clase 'col__content' no encontrado en https://larepublica.pe/mundo\n",
      "Elemento 'main' con clase 'col__content' no encontrado en https://larepublica.pe/tendencias\n",
      "Elemento 'main' con clase 'col__content' no encontrado en https://larepublica.pe/tecnologia\n",
      "Elemento 'main' con clase 'col__content' no encontrado en https://larepublica.pe/cultura-asiatica\n",
      "Elemento 'main' con clase 'col__content' no encontrado en https://larepublica.pe/loterias-sorteos\n",
      "Elemento 'main' con clase 'col__content' no encontrado en https://larepublica.pe/datos-lr\n",
      "Elemento 'main' con clase 'col__content' no encontrado en https://larepublica.pe/columnistas\n",
      "Elemento 'main' con clase 'col__content' no encontrado en https://larepublica.pe/verificador\n",
      "Elemento 'main' con clase 'col__content' no encontrado en https://larepublica.pe/mundo/argentina\n",
      "Elemento 'main' con clase 'col__content' no encontrado en https://larepublica.pe/mundo/mexico\n",
      "Elemento 'main' con clase 'col__content' no encontrado en https://larepublica.pe/mundo/venezuela\n",
      "Elemento 'main' con clase 'col__content' no encontrado en https://larepublica.pe/horoscopo\n",
      "Elemento 'main' con clase 'col__content' no encontrado en https://larepublica.pe/contactenos\n",
      "Elemento 'main' con clase 'col__content' no encontrado en https://larepublica.pe/newsletter\n",
      "Elemento 'main' con clase 'col__content' no encontrado en https://larepublica.pe/terminos-de-uso\n",
      "Elemento 'main' con clase 'col__content' no encontrado en https://larepublica.pe/politicas-y-estandares\n",
      "Elemento 'main' con clase 'col__content' no encontrado en https://www.facebook.com/larepublicape/\n",
      "Elemento 'main' con clase 'col__content' no encontrado en https://twitter.com/larepublica_pe\n",
      "Elemento 'main' con clase 'col__content' no encontrado en https://www.instagram.com/larepublica_pe/\n",
      "Elemento 'main' con clase 'col__content' no encontrado en https://www.tiktok.com/@larepublica.pe\n",
      "Elemento 'main' con clase 'col__content' no encontrado en https://whatsapp.com/channel/0029Va53wfSDp2Q5gaRw5i3e\n",
      "Elemento 'main' con clase 'col__content' no encontrado en https://larepublica.pe/contactenos\n",
      "Elemento 'main' con clase 'col__content' no encontrado en https://larepublica.pe/newsletter\n",
      "Elemento 'main' con clase 'col__content' no encontrado en https://larepublica.pe/terminos-de-uso\n",
      "Elemento 'main' con clase 'col__content' no encontrado en https://larepublica.pe/politicas-y-estandares\n",
      "Elemento 'main' con clase 'col__content' no encontrado en https://larepublica.pe/\n",
      "Elemento 'main' con clase 'col__content' no encontrado en https://podcast.larepublica.pe\n",
      "Elemento 'main' con clase 'col__content' no encontrado en https://elpopular.pe/\n",
      "Elemento 'main' con clase 'col__content' no encontrado en https://libero.pe/\n",
      "Elemento 'main' con clase 'col__content' no encontrado en https://libero.pe/esports\n",
      "Elemento 'main' con clase 'col__content' no encontrado en https://wapa.pe/\n",
      "Elemento 'main' con clase 'col__content' no encontrado en https://lol.larepublica.pe/\n",
      "Elemento 'main' con clase 'col__content' no encontrado en https://buenazo.pe/\n",
      "Elemento 'main' con clase 'col__content' no encontrado en https://larepublica.pe/verificador\n",
      "Elemento 'main' con clase 'col__content' no encontrado en https://perulegal.larepublica.pe\n",
      "Elemento 'main' con clase 'col__content' no encontrado en https://lrmas.larepublica.pe\n",
      "Elemento 'main' con clase 'col__content' no encontrado en https://perubazar.pe/\n",
      "Elemento 'main' con clase 'col__content' no encontrado en https://cuponidad.pe/\n",
      "Elemento 'main' con clase 'col__content' no encontrado en https://larepublica.pe/ultimas-noticias\n",
      "Elemento 'main' con clase 'col__content' no encontrado en https://larepublica.pe/\n",
      "Elemento 'main' con clase 'col__content' no encontrado en https://larepublica.pe/ultimas-noticias\n",
      "Elemento 'main' con clase 'col__content' no encontrado en https://larepublica.pe/politica\n",
      "Elemento 'main' con clase 'col__content' no encontrado en https://larepublica.pe/economia\n",
      "Elemento 'main' con clase 'col__content' no encontrado en https://larepublica.pe/sociedad\n",
      "Elemento 'main' con clase 'col__content' no encontrado en https://larepublica.pe/mundo\n",
      "Elemento 'main' con clase 'col__content' no encontrado en https://larepublica.pe/peru\n",
      "Elemento 'main' con clase 'col__content' no encontrado en https://larepublica.pe/deportes\n",
      "Elemento 'main' con clase 'col__content' no encontrado en https://larepublica.pe/espectaculos\n",
      "Elemento 'main' con clase 'col__content' no encontrado en https://larepublica.pe/cine-series\n",
      "Elemento 'main' con clase 'col__content' no encontrado en https://larepublica.pe/economia/precio-del-dolar\n",
      "Elemento 'main' con clase 'col__content' no encontrado en https://larepublica.pe/newsletter\n",
      "Elemento 'main' con clase 'col__content' no encontrado en https://larepublica.pe/ultimas-noticias\n",
      "Elemento 'main' con clase 'col__content' no encontrado en https://larepublica.pe/tag/hipodromo-la-rinconada\n",
      "Elemento 'main' con clase 'col__content' no encontrado en https://larepublica.pe/autor/walter-espinoza\n",
      "Elemento 'main' con clase 'col__content' no encontrado en https://larepublica.pe/tag/sudamericano-sub-17\n",
      "Elemento 'main' con clase 'col__content' no encontrado en https://larepublica.pe/autor/sergio-huayanca\n",
      "Elemento 'main' con clase 'col__content' no encontrado en https://larepublica.pe/tag/hipodromo-la-rinconada\n",
      "Elemento 'main' con clase 'col__content' no encontrado en https://larepublica.pe/autor/walter-espinoza\n",
      "Elemento 'main' con clase 'col__content' no encontrado en https://larepublica.pe/tag/sudamericano-sub-17\n",
      "Elemento 'main' con clase 'col__content' no encontrado en https://larepublica.pe/autor/sergio-huayanca\n",
      "Elemento 'main' con clase 'col__content' no encontrado en https://larepublica.pe/tag/hipodromo-la-rinconada\n",
      "Elemento 'main' con clase 'col__content' no encontrado en https://larepublica.pe/autor/walter-espinoza\n",
      "Elemento 'main' con clase 'col__content' no encontrado en https://larepublica.pe/tag/seleccion-colombia\n",
      "Elemento 'main' con clase 'col__content' no encontrado en https://larepublica.pe/autor/agustin-ricci\n",
      "Elemento 'main' con clase 'col__content' no encontrado en https://larepublica.pe/tag/universitario-de-deportes\n",
      "Elemento 'main' con clase 'col__content' no encontrado en https://larepublica.pe/autor/christian-cuchillo\n",
      "Elemento 'main' con clase 'col__content' no encontrado en https://larepublica.pe/tag/universitario-de-deportes\n",
      "Elemento 'main' con clase 'col__content' no encontrado en https://larepublica.pe/autor/christian-cuchillo\n",
      "Elemento 'main' con clase 'col__content' no encontrado en https://larepublica.pe/tag/premier-league\n",
      "Elemento 'main' con clase 'col__content' no encontrado en https://larepublica.pe/autor/carlo-melgarejo\n",
      "Elemento 'main' con clase 'col__content' no encontrado en https://larepublica.pe/tag/beisbol-mayor-fedebeis\n",
      "Elemento 'main' con clase 'col__content' no encontrado en https://larepublica.pe/autor/sergio-huayanca\n",
      "Elemento 'main' con clase 'col__content' no encontrado en https://larepublica.pe/tag/guillermo-salas\n",
      "Elemento 'main' con clase 'col__content' no encontrado en https://larepublica.pe/autor/emilio-carranza\n",
      "Elemento 'main' con clase 'col__content' no encontrado en https://larepublica.pe/tag/bryan-reyna\n",
      "Elemento 'main' con clase 'col__content' no encontrado en https://larepublica.pe/autor/deportes-lr\n",
      "Elemento 'main' con clase 'col__content' no encontrado en https://larepublica.pe/tag/mlb\n",
      "Elemento 'main' con clase 'col__content' no encontrado en https://larepublica.pe/autor/sergio-huayanca\n",
      "Elemento 'main' con clase 'col__content' no encontrado en https://larepublica.pe/tag/saprissa\n",
      "Elemento 'main' con clase 'col__content' no encontrado en https://larepublica.pe/autor/emilio-carranza\n",
      "Elemento 'main' con clase 'col__content' no encontrado en https://larepublica.pe/tag/sporting-cristal\n",
      "Elemento 'main' con clase 'col__content' no encontrado en https://larepublica.pe/autor/fabrizio-jauregui\n",
      "Elemento 'main' con clase 'col__content' no encontrado en https://larepublica.pe/tag/boxeo-en-vivo\n",
      "Elemento 'main' con clase 'col__content' no encontrado en https://larepublica.pe/autor/gabriel-medina\n",
      "Elemento 'main' con clase 'col__content' no encontrado en https://larepublica.pe/tag/kylian-mbappe\n",
      "Elemento 'main' con clase 'col__content' no encontrado en https://larepublica.pe/autor/emilio-carranza\n",
      "Elemento 'main' con clase 'col__content' no encontrado en https://larepublica.pe/tag/universitario-de-deportes\n",
      "Elemento 'main' con clase 'col__content' no encontrado en https://larepublica.pe/autor/kevin-melendez\n",
      "Elemento 'main' con clase 'col__content' no encontrado en https://larepublica.pe/tag/real-madrid\n",
      "Elemento 'main' con clase 'col__content' no encontrado en https://larepublica.pe/autor/miguel-salinas\n",
      "Elemento 'main' con clase 'col__content' no encontrado en https://larepublica.pe/tag/sport-boys\n",
      "Elemento 'main' con clase 'col__content' no encontrado en https://larepublica.pe/autor/miguel-salinas\n",
      "Elemento 'main' con clase 'col__content' no encontrado en https://larepublica.pe/tag/alianza-lima\n",
      "Elemento 'main' con clase 'col__content' no encontrado en https://larepublica.pe/autor/fabrizio-jauregui\n",
      "Elemento 'main' con clase 'col__content' no encontrado en https://larepublica.pe/tag/liverpool-fc\n",
      "Elemento 'main' con clase 'col__content' no encontrado en https://larepublica.pe/autor/gary-huaman\n",
      "Elemento 'main' con clase 'col__content' no encontrado en https://larepublica.pe/tag/paolo-guerrero\n",
      "Elemento 'main' con clase 'col__content' no encontrado en https://larepublica.pe/autor/francisco-claros\n",
      "Elemento 'main' con clase 'col__content' no encontrado en https://larepublica.pe/tag/yoshimar-yotun\n",
      "Elemento 'main' con clase 'col__content' no encontrado en https://larepublica.pe/autor/emilio-carranza\n",
      "Elemento 'main' con clase 'col__content' no encontrado en https://larepublica.pe/\n",
      "Elemento 'main' con clase 'col__content' no encontrado en https://larepublica.pe/ultimas-noticias\n",
      "Elemento 'main' con clase 'col__content' no encontrado en https://larepublica.pe/politica\n",
      "Elemento 'main' con clase 'col__content' no encontrado en https://larepublica.pe/economia\n",
      "Elemento 'main' con clase 'col__content' no encontrado en https://larepublica.pe/sociedad\n",
      "Elemento 'main' con clase 'col__content' no encontrado en https://larepublica.pe/deportes\n",
      "Elemento 'main' con clase 'col__content' no encontrado en https://larepublica.pe/espectaculos\n",
      "Elemento 'main' con clase 'col__content' no encontrado en https://larepublica.pe/cine-series\n",
      "Elemento 'main' con clase 'col__content' no encontrado en https://larepublica.pe/mundo\n",
      "Elemento 'main' con clase 'col__content' no encontrado en https://larepublica.pe/tendencias\n",
      "Elemento 'main' con clase 'col__content' no encontrado en https://larepublica.pe/tecnologia\n",
      "Elemento 'main' con clase 'col__content' no encontrado en https://larepublica.pe/cultura-asiatica\n",
      "Elemento 'main' con clase 'col__content' no encontrado en https://larepublica.pe/loterias-sorteos\n",
      "Elemento 'main' con clase 'col__content' no encontrado en https://larepublica.pe/datos-lr\n",
      "Elemento 'main' con clase 'col__content' no encontrado en https://larepublica.pe/columnistas\n",
      "Elemento 'main' con clase 'col__content' no encontrado en https://larepublica.pe/verificador\n",
      "Elemento 'main' con clase 'col__content' no encontrado en https://larepublica.pe/mundo/argentina\n",
      "Elemento 'main' con clase 'col__content' no encontrado en https://larepublica.pe/mundo/mexico\n",
      "Elemento 'main' con clase 'col__content' no encontrado en https://larepublica.pe/mundo/venezuela\n",
      "Elemento 'main' con clase 'col__content' no encontrado en https://larepublica.pe/horoscopo\n",
      "Elemento 'main' con clase 'col__content' no encontrado en https://larepublica.pe/contactenos\n",
      "Elemento 'main' con clase 'col__content' no encontrado en https://larepublica.pe/newsletter\n",
      "Elemento 'main' con clase 'col__content' no encontrado en https://larepublica.pe/terminos-de-uso\n",
      "Elemento 'main' con clase 'col__content' no encontrado en https://larepublica.pe/politicas-y-estandares\n",
      "Elemento 'main' con clase 'col__content' no encontrado en https://www.facebook.com/larepublicape/\n",
      "Elemento 'main' con clase 'col__content' no encontrado en https://twitter.com/larepublica_pe\n",
      "Elemento 'main' con clase 'col__content' no encontrado en https://www.instagram.com/larepublica_pe/\n",
      "Elemento 'main' con clase 'col__content' no encontrado en https://www.tiktok.com/@larepublica.pe\n",
      "Elemento 'main' con clase 'col__content' no encontrado en https://whatsapp.com/channel/0029Va53wfSDp2Q5gaRw5i3e\n",
      "Elemento 'main' con clase 'col__content' no encontrado en https://larepublica.pe/contactenos\n",
      "Elemento 'main' con clase 'col__content' no encontrado en https://larepublica.pe/newsletter\n",
      "Elemento 'main' con clase 'col__content' no encontrado en https://larepublica.pe/terminos-de-uso\n",
      "Elemento 'main' con clase 'col__content' no encontrado en https://larepublica.pe/politicas-y-estandares\n",
      "Elemento 'main' con clase 'col__content' no encontrado en https://larepublica.pe/\n",
      "Elemento 'main' con clase 'col__content' no encontrado en https://podcast.larepublica.pe\n",
      "Elemento 'main' con clase 'col__content' no encontrado en https://elpopular.pe/\n",
      "Elemento 'main' con clase 'col__content' no encontrado en https://libero.pe/\n",
      "Elemento 'main' con clase 'col__content' no encontrado en https://libero.pe/esports\n",
      "Elemento 'main' con clase 'col__content' no encontrado en https://wapa.pe/\n",
      "Elemento 'main' con clase 'col__content' no encontrado en https://lol.larepublica.pe/\n",
      "Elemento 'main' con clase 'col__content' no encontrado en https://buenazo.pe/\n",
      "Elemento 'main' con clase 'col__content' no encontrado en https://larepublica.pe/verificador\n",
      "Elemento 'main' con clase 'col__content' no encontrado en https://perulegal.larepublica.pe\n",
      "Elemento 'main' con clase 'col__content' no encontrado en https://lrmas.larepublica.pe\n",
      "Elemento 'main' con clase 'col__content' no encontrado en https://perubazar.pe/\n",
      "Elemento 'main' con clase 'col__content' no encontrado en https://cuponidad.pe/\n",
      "Elemento 'main' con clase 'col__content' no encontrado en https://larepublica.pe/ultimas-noticias\n",
      "Elemento 'main' con clase 'col__content' no encontrado en https://larepublica.pe/\n",
      "Elemento 'main' con clase 'col__content' no encontrado en https://larepublica.pe/ultimas-noticias\n",
      "Elemento 'main' con clase 'col__content' no encontrado en https://larepublica.pe/politica\n",
      "Elemento 'main' con clase 'col__content' no encontrado en https://larepublica.pe/economia\n",
      "Elemento 'main' con clase 'col__content' no encontrado en https://larepublica.pe/sociedad\n",
      "Elemento 'main' con clase 'col__content' no encontrado en https://larepublica.pe/mundo\n",
      "Elemento 'main' con clase 'col__content' no encontrado en https://larepublica.pe/peru\n",
      "Elemento 'main' con clase 'col__content' no encontrado en https://larepublica.pe/deportes\n",
      "Elemento 'main' con clase 'col__content' no encontrado en https://larepublica.pe/espectaculos\n",
      "Elemento 'main' con clase 'col__content' no encontrado en https://larepublica.pe/cine-series\n",
      "Elemento 'main' con clase 'col__content' no encontrado en https://larepublica.pe/economia/precio-del-dolar\n",
      "Elemento 'main' con clase 'col__content' no encontrado en https://larepublica.pe/newsletter\n",
      "Elemento 'main' con clase 'col__content' no encontrado en https://larepublica.pe/ultimas-noticias\n",
      "Elemento 'main' con clase 'col__content' no encontrado en https://larepublica.pe/tag/netflix\n",
      "Elemento 'main' con clase 'col__content' no encontrado en https://larepublica.pe/autor/jhon-luna\n",
      "Elemento 'main' con clase 'col__content' no encontrado en https://larepublica.pe/tag/semana-santa\n",
      "Elemento 'main' con clase 'col__content' no encontrado en https://larepublica.pe/autor/luis-pineda\n",
      "Elemento 'main' con clase 'col__content' no encontrado en https://larepublica.pe/tag/estrenos\n",
      "Elemento 'main' con clase 'col__content' no encontrado en https://larepublica.pe/autor/melani-vargas\n",
      "Elemento 'main' con clase 'col__content' no encontrado en https://larepublica.pe/tag/nickelodeon\n",
      "Elemento 'main' con clase 'col__content' no encontrado en https://larepublica.pe/autor/jhon-luna\n",
      "Elemento 'main' con clase 'col__content' no encontrado en https://larepublica.pe/tag/netflix\n",
      "Elemento 'main' con clase 'col__content' no encontrado en https://larepublica.pe/autor/jhon-luna\n",
      "Elemento 'main' con clase 'col__content' no encontrado en https://larepublica.pe/tag/drake-bell\n",
      "Elemento 'main' con clase 'col__content' no encontrado en https://larepublica.pe/autor/jhon-luna\n",
      "Elemento 'main' con clase 'col__content' no encontrado en https://larepublica.pe/tag/netflix\n",
      "Elemento 'main' con clase 'col__content' no encontrado en https://larepublica.pe/autor/jhon-luna\n",
      "Elemento 'main' con clase 'col__content' no encontrado en https://larepublica.pe/tag/the-walking-dead\n",
      "Elemento 'main' con clase 'col__content' no encontrado en https://larepublica.pe/autor/luis-pineda\n",
      "Elemento 'main' con clase 'col__content' no encontrado en https://larepublica.pe/tag/johnny-depp\n",
      "Elemento 'main' con clase 'col__content' no encontrado en https://larepublica.pe/autor/melani-vargas\n",
      "Elemento 'main' con clase 'col__content' no encontrado en https://larepublica.pe/tag/peliculas\n",
      "Elemento 'main' con clase 'col__content' no encontrado en https://larepublica.pe/autor/luis-pineda\n",
      "Elemento 'main' con clase 'col__content' no encontrado en https://larepublica.pe/tag/akira-toriyama\n",
      "Elemento 'main' con clase 'col__content' no encontrado en https://larepublica.pe/autor/melani-vargas\n",
      "Elemento 'main' con clase 'col__content' no encontrado en https://larepublica.pe/tag/disney-plus\n",
      "Elemento 'main' con clase 'col__content' no encontrado en https://larepublica.pe/autor/melani-vargas\n",
      "Elemento 'main' con clase 'col__content' no encontrado en https://larepublica.pe/tag/semana-santa\n",
      "Elemento 'main' con clase 'col__content' no encontrado en https://larepublica.pe/autor/pamela-arroyo\n",
      "Elemento 'main' con clase 'col__content' no encontrado en https://larepublica.pe/tag/la-sociedad-de-la-nieve\n",
      "Elemento 'main' con clase 'col__content' no encontrado en https://larepublica.pe/autor/melani-vargas\n",
      "Elemento 'main' con clase 'col__content' no encontrado en https://larepublica.pe/tag/actores-y-actrices\n",
      "Elemento 'main' con clase 'col__content' no encontrado en https://larepublica.pe/autor/luis-pineda\n",
      "Elemento 'main' con clase 'col__content' no encontrado en https://larepublica.pe/tag/cine-peruano\n",
      "Elemento 'main' con clase 'col__content' no encontrado en https://larepublica.pe/autor/cine-series-lr\n",
      "Elemento 'main' con clase 'col__content' no encontrado en https://larepublica.pe/tag/lindsay-lohan\n",
      "Elemento 'main' con clase 'col__content' no encontrado en https://larepublica.pe/autor/viyu-castillo\n",
      "Elemento 'main' con clase 'col__content' no encontrado en https://larepublica.pe/tag/nickelodeon\n",
      "Elemento 'main' con clase 'col__content' no encontrado en https://larepublica.pe/autor/melani-vargas\n",
      "Elemento 'main' con clase 'col__content' no encontrado en https://larepublica.pe/tag/charlton-heston\n",
      "Elemento 'main' con clase 'col__content' no encontrado en https://larepublica.pe/autor/luis-pineda\n",
      "Elemento 'main' con clase 'col__content' no encontrado en https://larepublica.pe/tag/hollywood\n",
      "Elemento 'main' con clase 'col__content' no encontrado en https://larepublica.pe/autor/viyu-castillo\n",
      "Elemento 'main' con clase 'col__content' no encontrado en https://larepublica.pe/tag/ben-hur\n",
      "Elemento 'main' con clase 'col__content' no encontrado en https://larepublica.pe/autor/luis-pineda\n",
      "Elemento 'main' con clase 'col__content' no encontrado en https://larepublica.pe/tag/cine\n",
      "Elemento 'main' con clase 'col__content' no encontrado en https://larepublica.pe/autor/bryam-esquen-del-carmen\n",
      "Elemento 'main' con clase 'col__content' no encontrado en https://larepublica.pe/tag/libros\n",
      "Elemento 'main' con clase 'col__content' no encontrado en https://larepublica.pe/autor/bruno-cueva\n",
      "Elemento 'main' con clase 'col__content' no encontrado en https://larepublica.pe/tag/pixar\n",
      "Elemento 'main' con clase 'col__content' no encontrado en https://larepublica.pe/autor/luis-pineda\n",
      "Elemento 'main' con clase 'col__content' no encontrado en https://larepublica.pe/\n",
      "Elemento 'main' con clase 'col__content' no encontrado en https://larepublica.pe/ultimas-noticias\n",
      "Elemento 'main' con clase 'col__content' no encontrado en https://larepublica.pe/politica\n",
      "Elemento 'main' con clase 'col__content' no encontrado en https://larepublica.pe/economia\n",
      "Elemento 'main' con clase 'col__content' no encontrado en https://larepublica.pe/sociedad\n",
      "Elemento 'main' con clase 'col__content' no encontrado en https://larepublica.pe/deportes\n",
      "Elemento 'main' con clase 'col__content' no encontrado en https://larepublica.pe/espectaculos\n",
      "Elemento 'main' con clase 'col__content' no encontrado en https://larepublica.pe/cine-series\n",
      "Elemento 'main' con clase 'col__content' no encontrado en https://larepublica.pe/mundo\n",
      "Elemento 'main' con clase 'col__content' no encontrado en https://larepublica.pe/tendencias\n",
      "Elemento 'main' con clase 'col__content' no encontrado en https://larepublica.pe/tecnologia\n",
      "Elemento 'main' con clase 'col__content' no encontrado en https://larepublica.pe/cultura-asiatica\n",
      "Elemento 'main' con clase 'col__content' no encontrado en https://larepublica.pe/loterias-sorteos\n",
      "Elemento 'main' con clase 'col__content' no encontrado en https://larepublica.pe/datos-lr\n",
      "Elemento 'main' con clase 'col__content' no encontrado en https://larepublica.pe/columnistas\n",
      "Elemento 'main' con clase 'col__content' no encontrado en https://larepublica.pe/verificador\n",
      "Elemento 'main' con clase 'col__content' no encontrado en https://larepublica.pe/mundo/argentina\n",
      "Elemento 'main' con clase 'col__content' no encontrado en https://larepublica.pe/mundo/mexico\n",
      "Elemento 'main' con clase 'col__content' no encontrado en https://larepublica.pe/mundo/venezuela\n",
      "Elemento 'main' con clase 'col__content' no encontrado en https://larepublica.pe/horoscopo\n",
      "Elemento 'main' con clase 'col__content' no encontrado en https://larepublica.pe/contactenos\n",
      "Elemento 'main' con clase 'col__content' no encontrado en https://larepublica.pe/newsletter\n",
      "Elemento 'main' con clase 'col__content' no encontrado en https://larepublica.pe/terminos-de-uso\n",
      "Elemento 'main' con clase 'col__content' no encontrado en https://larepublica.pe/politicas-y-estandares\n",
      "Elemento 'main' con clase 'col__content' no encontrado en https://www.facebook.com/larepublicape/\n",
      "Elemento 'main' con clase 'col__content' no encontrado en https://twitter.com/larepublica_pe\n",
      "Elemento 'main' con clase 'col__content' no encontrado en https://www.instagram.com/larepublica_pe/\n",
      "Elemento 'main' con clase 'col__content' no encontrado en https://www.tiktok.com/@larepublica.pe\n",
      "Elemento 'main' con clase 'col__content' no encontrado en https://whatsapp.com/channel/0029Va53wfSDp2Q5gaRw5i3e\n",
      "Elemento 'main' con clase 'col__content' no encontrado en https://larepublica.pe/contactenos\n",
      "Elemento 'main' con clase 'col__content' no encontrado en https://larepublica.pe/newsletter\n",
      "Elemento 'main' con clase 'col__content' no encontrado en https://larepublica.pe/terminos-de-uso\n",
      "Elemento 'main' con clase 'col__content' no encontrado en https://larepublica.pe/politicas-y-estandares\n",
      "Elemento 'main' con clase 'col__content' no encontrado en https://larepublica.pe/\n",
      "Elemento 'main' con clase 'col__content' no encontrado en https://podcast.larepublica.pe\n",
      "Elemento 'main' con clase 'col__content' no encontrado en https://elpopular.pe/\n",
      "Elemento 'main' con clase 'col__content' no encontrado en https://libero.pe/\n",
      "Elemento 'main' con clase 'col__content' no encontrado en https://libero.pe/esports\n",
      "Elemento 'main' con clase 'col__content' no encontrado en https://wapa.pe/\n",
      "Elemento 'main' con clase 'col__content' no encontrado en https://lol.larepublica.pe/\n",
      "Elemento 'main' con clase 'col__content' no encontrado en https://buenazo.pe/\n",
      "Elemento 'main' con clase 'col__content' no encontrado en https://larepublica.pe/verificador\n",
      "Elemento 'main' con clase 'col__content' no encontrado en https://perulegal.larepublica.pe\n",
      "Elemento 'main' con clase 'col__content' no encontrado en https://lrmas.larepublica.pe\n",
      "Elemento 'main' con clase 'col__content' no encontrado en https://perubazar.pe/\n",
      "Elemento 'main' con clase 'col__content' no encontrado en https://cuponidad.pe/\n",
      "Elemento 'main' con clase 'col__content' no encontrado en https://larepublica.pe/ultimas-noticias\n",
      "Elemento 'main' con clase 'col__content' no encontrado en https://larepublica.pe/\n",
      "Elemento 'main' con clase 'col__content' no encontrado en https://larepublica.pe/ultimas-noticias\n",
      "Elemento 'main' con clase 'col__content' no encontrado en https://larepublica.pe/politica\n",
      "Elemento 'main' con clase 'col__content' no encontrado en https://larepublica.pe/economia\n",
      "Elemento 'main' con clase 'col__content' no encontrado en https://larepublica.pe/sociedad\n",
      "Elemento 'main' con clase 'col__content' no encontrado en https://larepublica.pe/mundo\n",
      "Elemento 'main' con clase 'col__content' no encontrado en https://larepublica.pe/peru\n",
      "Elemento 'main' con clase 'col__content' no encontrado en https://larepublica.pe/deportes\n",
      "Elemento 'main' con clase 'col__content' no encontrado en https://larepublica.pe/espectaculos\n",
      "Elemento 'main' con clase 'col__content' no encontrado en https://larepublica.pe/cine-series\n",
      "Elemento 'main' con clase 'col__content' no encontrado en https://larepublica.pe/economia/precio-del-dolar\n",
      "Elemento 'main' con clase 'col__content' no encontrado en https://larepublica.pe/newsletter\n",
      "Elemento 'main' con clase 'col__content' no encontrado en https://larepublica.pe/ultimas-noticias\n",
      "Elemento 'main' con clase 'col__content' no encontrado en https://larepublica.pe/tag/estados-unidos\n",
      "Elemento 'main' con clase 'col__content' no encontrado en https://larepublica.pe/autor/eva-palomino\n",
      "Elemento 'main' con clase 'col__content' no encontrado en https://larepublica.pe/tag/america-latina\n",
      "Elemento 'main' con clase 'col__content' no encontrado en https://larepublica.pe/autor/betty-terrones\n",
      "Elemento 'main' con clase 'col__content' no encontrado en https://larepublica.pe/tag/america-latina\n",
      "Elemento 'main' con clase 'col__content' no encontrado en https://larepublica.pe/autor/jennifer-valqui-obregon\n",
      "Elemento 'main' con clase 'col__content' no encontrado en https://larepublica.pe/tag/everest\n",
      "Elemento 'main' con clase 'col__content' no encontrado en https://larepublica.pe/autor/jennifer-valqui-obregon\n",
      "Elemento 'main' con clase 'col__content' no encontrado en https://larepublica.pe/tag/america-latina\n",
      "Elemento 'main' con clase 'col__content' no encontrado en https://larepublica.pe/autor/jennifer-valqui-obregon\n",
      "Elemento 'main' con clase 'col__content' no encontrado en https://larepublica.pe/tag/america-latina\n",
      "Elemento 'main' con clase 'col__content' no encontrado en https://larepublica.pe/autor/jennifer-valqui-obregon\n",
      "Elemento 'main' con clase 'col__content' no encontrado en https://larepublica.pe/tag/estados-unidos\n",
      "Elemento 'main' con clase 'col__content' no encontrado en https://larepublica.pe/autor/enzo-florez\n",
      "Elemento 'main' con clase 'col__content' no encontrado en https://larepublica.pe/tag/puerto-rico\n",
      "Elemento 'main' con clase 'col__content' no encontrado en https://larepublica.pe/autor/enzo-florez\n",
      "Elemento 'main' con clase 'col__content' no encontrado en https://larepublica.pe/tag/estados-unidos\n",
      "Elemento 'main' con clase 'col__content' no encontrado en https://larepublica.pe/autor/enzo-florez\n",
      "Elemento 'main' con clase 'col__content' no encontrado en https://larepublica.pe/tag/especialeselecciones-venezuela\n",
      "Elemento 'main' con clase 'col__content' no encontrado en https://larepublica.pe/autor/pablo-zapata\n",
      "Elemento 'main' con clase 'col__content' no encontrado en https://larepublica.pe/tag/estados-unidos\n",
      "Elemento 'main' con clase 'col__content' no encontrado en https://larepublica.pe/autor/luis-guerrero\n",
      "Elemento 'main' con clase 'col__content' no encontrado en https://larepublica.pe/tag/america-latina\n",
      "Elemento 'main' con clase 'col__content' no encontrado en https://larepublica.pe/autor/mary-espiritu\n",
      "Elemento 'main' con clase 'col__content' no encontrado en https://larepublica.pe/tag/america-latina\n",
      "Elemento 'main' con clase 'col__content' no encontrado en https://larepublica.pe/autor/jennifer-valqui-obregon\n",
      "Elemento 'main' con clase 'col__content' no encontrado en https://larepublica.pe/tag/ecuador\n",
      "Elemento 'main' con clase 'col__content' no encontrado en https://larepublica.pe/autor/luis-guerrero\n",
      "Elemento 'main' con clase 'col__content' no encontrado en https://larepublica.pe/tag/papa-francisco\n",
      "Elemento 'main' con clase 'col__content' no encontrado en https://larepublica.pe/autor/melanie-cordova\n",
      "Elemento 'main' con clase 'col__content' no encontrado en https://larepublica.pe/tag/america-latina\n",
      "Elemento 'main' con clase 'col__content' no encontrado en https://larepublica.pe/autor/melanie-cordova\n",
      "Elemento 'main' con clase 'col__content' no encontrado en https://larepublica.pe/tag/america\n",
      "Elemento 'main' con clase 'col__content' no encontrado en https://larepublica.pe/autor/daniela-magallanes\n",
      "Elemento 'main' con clase 'col__content' no encontrado en https://larepublica.pe/tag/america-latina\n",
      "Elemento 'main' con clase 'col__content' no encontrado en https://larepublica.pe/autor/mauricio-guevara\n",
      "Elemento 'main' con clase 'col__content' no encontrado en https://larepublica.pe/tag/peru\n",
      "Elemento 'main' con clase 'col__content' no encontrado en https://larepublica.pe/autor/daniela-magallanes\n",
      "Elemento 'main' con clase 'col__content' no encontrado en https://larepublica.pe/tag/america-latina\n",
      "Elemento 'main' con clase 'col__content' no encontrado en https://larepublica.pe/autor/jennifer-valqui-obregon\n",
      "Elemento 'main' con clase 'col__content' no encontrado en https://larepublica.pe/tag/america-latina\n",
      "Elemento 'main' con clase 'col__content' no encontrado en https://larepublica.pe/autor/mauricio-guevara\n",
      "Elemento 'main' con clase 'col__content' no encontrado en https://larepublica.pe/tag/america-latina\n",
      "Elemento 'main' con clase 'col__content' no encontrado en https://larepublica.pe/autor/daniela-magallanes\n",
      "Elemento 'main' con clase 'col__content' no encontrado en https://larepublica.pe/tag/america-latina\n",
      "Elemento 'main' con clase 'col__content' no encontrado en https://larepublica.pe/autor/melanie-cordova\n",
      "Elemento 'main' con clase 'col__content' no encontrado en https://larepublica.pe/tag/america-latina\n",
      "Elemento 'main' con clase 'col__content' no encontrado en https://larepublica.pe/autor/daniela-magallanes\n",
      "Elemento 'main' con clase 'col__content' no encontrado en https://larepublica.pe/\n",
      "Elemento 'main' con clase 'col__content' no encontrado en https://larepublica.pe/ultimas-noticias\n",
      "Elemento 'main' con clase 'col__content' no encontrado en https://larepublica.pe/politica\n",
      "Elemento 'main' con clase 'col__content' no encontrado en https://larepublica.pe/economia\n",
      "Elemento 'main' con clase 'col__content' no encontrado en https://larepublica.pe/sociedad\n",
      "Elemento 'main' con clase 'col__content' no encontrado en https://larepublica.pe/deportes\n",
      "Elemento 'main' con clase 'col__content' no encontrado en https://larepublica.pe/espectaculos\n",
      "Elemento 'main' con clase 'col__content' no encontrado en https://larepublica.pe/cine-series\n",
      "Elemento 'main' con clase 'col__content' no encontrado en https://larepublica.pe/mundo\n",
      "Elemento 'main' con clase 'col__content' no encontrado en https://larepublica.pe/tendencias\n",
      "Elemento 'main' con clase 'col__content' no encontrado en https://larepublica.pe/tecnologia\n",
      "Elemento 'main' con clase 'col__content' no encontrado en https://larepublica.pe/cultura-asiatica\n",
      "Elemento 'main' con clase 'col__content' no encontrado en https://larepublica.pe/loterias-sorteos\n",
      "Elemento 'main' con clase 'col__content' no encontrado en https://larepublica.pe/datos-lr\n",
      "Elemento 'main' con clase 'col__content' no encontrado en https://larepublica.pe/columnistas\n",
      "Elemento 'main' con clase 'col__content' no encontrado en https://larepublica.pe/verificador\n",
      "Elemento 'main' con clase 'col__content' no encontrado en https://larepublica.pe/mundo/argentina\n",
      "Elemento 'main' con clase 'col__content' no encontrado en https://larepublica.pe/mundo/mexico\n",
      "Elemento 'main' con clase 'col__content' no encontrado en https://larepublica.pe/mundo/venezuela\n",
      "Elemento 'main' con clase 'col__content' no encontrado en https://larepublica.pe/horoscopo\n",
      "Elemento 'main' con clase 'col__content' no encontrado en https://larepublica.pe/contactenos\n",
      "Elemento 'main' con clase 'col__content' no encontrado en https://larepublica.pe/newsletter\n",
      "Elemento 'main' con clase 'col__content' no encontrado en https://larepublica.pe/terminos-de-uso\n",
      "Elemento 'main' con clase 'col__content' no encontrado en https://larepublica.pe/politicas-y-estandares\n",
      "Elemento 'main' con clase 'col__content' no encontrado en https://www.facebook.com/larepublicape/\n",
      "Elemento 'main' con clase 'col__content' no encontrado en https://twitter.com/larepublica_pe\n",
      "Elemento 'main' con clase 'col__content' no encontrado en https://www.instagram.com/larepublica_pe/\n",
      "Elemento 'main' con clase 'col__content' no encontrado en https://www.tiktok.com/@larepublica.pe\n",
      "Elemento 'main' con clase 'col__content' no encontrado en https://whatsapp.com/channel/0029Va53wfSDp2Q5gaRw5i3e\n",
      "Elemento 'main' con clase 'col__content' no encontrado en https://larepublica.pe/contactenos\n",
      "Elemento 'main' con clase 'col__content' no encontrado en https://larepublica.pe/newsletter\n",
      "Elemento 'main' con clase 'col__content' no encontrado en https://larepublica.pe/terminos-de-uso\n",
      "Elemento 'main' con clase 'col__content' no encontrado en https://larepublica.pe/politicas-y-estandares\n",
      "Elemento 'main' con clase 'col__content' no encontrado en https://larepublica.pe/\n",
      "Elemento 'main' con clase 'col__content' no encontrado en https://podcast.larepublica.pe\n",
      "Elemento 'main' con clase 'col__content' no encontrado en https://elpopular.pe/\n",
      "Elemento 'main' con clase 'col__content' no encontrado en https://libero.pe/\n",
      "Elemento 'main' con clase 'col__content' no encontrado en https://libero.pe/esports\n",
      "Elemento 'main' con clase 'col__content' no encontrado en https://wapa.pe/\n",
      "Elemento 'main' con clase 'col__content' no encontrado en https://lol.larepublica.pe/\n",
      "Elemento 'main' con clase 'col__content' no encontrado en https://buenazo.pe/\n",
      "Elemento 'main' con clase 'col__content' no encontrado en https://larepublica.pe/verificador\n",
      "Elemento 'main' con clase 'col__content' no encontrado en https://perulegal.larepublica.pe\n",
      "Elemento 'main' con clase 'col__content' no encontrado en https://lrmas.larepublica.pe\n",
      "Elemento 'main' con clase 'col__content' no encontrado en https://perubazar.pe/\n",
      "Elemento 'main' con clase 'col__content' no encontrado en https://cuponidad.pe/\n",
      "Elemento 'main' con clase 'col__content' no encontrado en https://larepublica.pe/ultimas-noticias\n",
      "Elemento 'main' con clase 'col__content' no encontrado en https://larepublica.pe/\n",
      "Elemento 'main' con clase 'col__content' no encontrado en https://larepublica.pe/ultimas-noticias\n",
      "Elemento 'main' con clase 'col__content' no encontrado en https://larepublica.pe/politica\n",
      "Elemento 'main' con clase 'col__content' no encontrado en https://larepublica.pe/economia\n",
      "Elemento 'main' con clase 'col__content' no encontrado en https://larepublica.pe/sociedad\n",
      "Elemento 'main' con clase 'col__content' no encontrado en https://larepublica.pe/mundo\n",
      "Elemento 'main' con clase 'col__content' no encontrado en https://larepublica.pe/peru\n",
      "Elemento 'main' con clase 'col__content' no encontrado en https://larepublica.pe/deportes\n",
      "Elemento 'main' con clase 'col__content' no encontrado en https://larepublica.pe/espectaculos\n",
      "Elemento 'main' con clase 'col__content' no encontrado en https://larepublica.pe/cine-series\n",
      "Elemento 'main' con clase 'col__content' no encontrado en https://larepublica.pe/economia/precio-del-dolar\n",
      "Elemento 'main' con clase 'col__content' no encontrado en https://larepublica.pe/newsletter\n",
      "Elemento 'main' con clase 'col__content' no encontrado en https://larepublica.pe/ultimas-noticias\n",
      "Elemento 'main' con clase 'col__content' no encontrado en https://larepublica.pe/tag/calentamiento-global\n",
      "Elemento 'main' con clase 'col__content' no encontrado en https://larepublica.pe/autor/camila-alomia\n",
      "Elemento 'main' con clase 'col__content' no encontrado en https://larepublica.pe/tag/eclipse\n",
      "Elemento 'main' con clase 'col__content' no encontrado en https://larepublica.pe/autor/jessica-garcia\n",
      "Elemento 'main' con clase 'col__content' no encontrado en https://larepublica.pe/tag/eclipse\n",
      "Elemento 'main' con clase 'col__content' no encontrado en https://larepublica.pe/autor/jessica-garcia\n",
      "Elemento 'main' con clase 'col__content' no encontrado en https://larepublica.pe/tag/eclipse-solar\n",
      "Elemento 'main' con clase 'col__content' no encontrado en https://larepublica.pe/autor/gabriel-medina\n",
      "Elemento 'main' con clase 'col__content' no encontrado en https://larepublica.pe/tag/eclipse-solar\n",
      "Elemento 'main' con clase 'col__content' no encontrado en https://larepublica.pe/autor/gabriel-medina\n",
      "Elemento 'main' con clase 'col__content' no encontrado en https://larepublica.pe/tag/animales\n",
      "Elemento 'main' con clase 'col__content' no encontrado en https://larepublica.pe/autor/camila-alomia\n",
      "Elemento 'main' con clase 'col__content' no encontrado en https://larepublica.pe/tag/ciencia\n",
      "Elemento 'main' con clase 'col__content' no encontrado en https://larepublica.pe/autor/melanie-cordova\n",
      "Elemento 'main' con clase 'col__content' no encontrado en https://larepublica.pe/tag/tierra\n",
      "Elemento 'main' con clase 'col__content' no encontrado en https://larepublica.pe/autor/camila-alomia\n",
      "Elemento 'main' con clase 'col__content' no encontrado en https://larepublica.pe/tag/eclipse-solar\n",
      "Elemento 'main' con clase 'col__content' no encontrado en https://larepublica.pe/autor/mauricio-guevara\n",
      "Elemento 'main' con clase 'col__content' no encontrado en https://larepublica.pe/tag/eclipse\n",
      "Elemento 'main' con clase 'col__content' no encontrado en https://larepublica.pe/autor/pablo-zapata\n",
      "Elemento 'main' con clase 'col__content' no encontrado en https://larepublica.pe/tag/eclipse-lunar\n",
      "Elemento 'main' con clase 'col__content' no encontrado en https://larepublica.pe/autor/jennifer-valqui-obregon\n",
      "Elemento 'main' con clase 'col__content' no encontrado en https://larepublica.pe/tag/impresa\n",
      "Elemento 'main' con clase 'col__content' no encontrado en https://larepublica.pe/autor/raul-mendoza\n",
      "Elemento 'main' con clase 'col__content' no encontrado en https://larepublica.pe/tag/estudio-cientifico\n",
      "Elemento 'main' con clase 'col__content' no encontrado en https://larepublica.pe/autor/camila-alomia\n",
      "Elemento 'main' con clase 'col__content' no encontrado en https://larepublica.pe/tag/astronomia\n",
      "Elemento 'main' con clase 'col__content' no encontrado en https://larepublica.pe/autor/camila-alomia\n",
      "Elemento 'main' con clase 'col__content' no encontrado en https://larepublica.pe/tag/luna\n",
      "Elemento 'main' con clase 'col__content' no encontrado en https://larepublica.pe/autor/ciencia-lr\n",
      "Elemento 'main' con clase 'col__content' no encontrado en https://larepublica.pe/tag/nasa\n",
      "Elemento 'main' con clase 'col__content' no encontrado en https://larepublica.pe/autor/daniela-magallanes\n",
      "Elemento 'main' con clase 'col__content' no encontrado en https://larepublica.pe/tag/oceano\n",
      "Elemento 'main' con clase 'col__content' no encontrado en https://larepublica.pe/autor/camila-alomia\n",
      "Elemento 'main' con clase 'col__content' no encontrado en https://larepublica.pe/tag/peru\n",
      "Elemento 'main' con clase 'col__content' no encontrado en https://larepublica.pe/autor/camila-alomia\n",
      "Elemento 'main' con clase 'col__content' no encontrado en https://larepublica.pe/tag/oceano\n",
      "Elemento 'main' con clase 'col__content' no encontrado en https://larepublica.pe/autor/camila-alomia\n",
      "Elemento 'main' con clase 'col__content' no encontrado en https://larepublica.pe/tag/peru\n",
      "Elemento 'main' con clase 'col__content' no encontrado en https://larepublica.pe/autor/camila-alomia\n",
      "Elemento 'main' con clase 'col__content' no encontrado en https://larepublica.pe/tag/eclipse\n",
      "Elemento 'main' con clase 'col__content' no encontrado en https://larepublica.pe/autor/camila-alomia\n",
      "Elemento 'main' con clase 'col__content' no encontrado en https://larepublica.pe/tag/bill-gates\n",
      "Elemento 'main' con clase 'col__content' no encontrado en https://larepublica.pe/autor/mauricio-guevara\n",
      "Elemento 'main' con clase 'col__content' no encontrado en https://larepublica.pe/tag/estados-unidos\n",
      "Elemento 'main' con clase 'col__content' no encontrado en https://larepublica.pe/autor/enzo-florez\n",
      "Elemento 'main' con clase 'col__content' no encontrado en https://larepublica.pe/tag/nasa\n",
      "Elemento 'main' con clase 'col__content' no encontrado en https://larepublica.pe/autor/mauricio-guevara\n",
      "Elemento 'main' con clase 'col__content' no encontrado en https://larepublica.pe/\n",
      "Elemento 'main' con clase 'col__content' no encontrado en https://larepublica.pe/ultimas-noticias\n",
      "Elemento 'main' con clase 'col__content' no encontrado en https://larepublica.pe/politica\n",
      "Elemento 'main' con clase 'col__content' no encontrado en https://larepublica.pe/economia\n",
      "Elemento 'main' con clase 'col__content' no encontrado en https://larepublica.pe/sociedad\n",
      "Elemento 'main' con clase 'col__content' no encontrado en https://larepublica.pe/deportes\n",
      "Elemento 'main' con clase 'col__content' no encontrado en https://larepublica.pe/espectaculos\n",
      "Elemento 'main' con clase 'col__content' no encontrado en https://larepublica.pe/cine-series\n",
      "Elemento 'main' con clase 'col__content' no encontrado en https://larepublica.pe/mundo\n",
      "Elemento 'main' con clase 'col__content' no encontrado en https://larepublica.pe/tendencias\n",
      "Elemento 'main' con clase 'col__content' no encontrado en https://larepublica.pe/tecnologia\n",
      "Elemento 'main' con clase 'col__content' no encontrado en https://larepublica.pe/cultura-asiatica\n",
      "Elemento 'main' con clase 'col__content' no encontrado en https://larepublica.pe/loterias-sorteos\n",
      "Elemento 'main' con clase 'col__content' no encontrado en https://larepublica.pe/datos-lr\n",
      "Elemento 'main' con clase 'col__content' no encontrado en https://larepublica.pe/columnistas\n",
      "Elemento 'main' con clase 'col__content' no encontrado en https://larepublica.pe/verificador\n",
      "Elemento 'main' con clase 'col__content' no encontrado en https://larepublica.pe/mundo/argentina\n",
      "Elemento 'main' con clase 'col__content' no encontrado en https://larepublica.pe/mundo/mexico\n",
      "Elemento 'main' con clase 'col__content' no encontrado en https://larepublica.pe/mundo/venezuela\n",
      "Elemento 'main' con clase 'col__content' no encontrado en https://larepublica.pe/horoscopo\n",
      "Elemento 'main' con clase 'col__content' no encontrado en https://larepublica.pe/contactenos\n",
      "Elemento 'main' con clase 'col__content' no encontrado en https://larepublica.pe/newsletter\n",
      "Elemento 'main' con clase 'col__content' no encontrado en https://larepublica.pe/terminos-de-uso\n",
      "Elemento 'main' con clase 'col__content' no encontrado en https://larepublica.pe/politicas-y-estandares\n",
      "Elemento 'main' con clase 'col__content' no encontrado en https://www.facebook.com/larepublicape/\n",
      "Elemento 'main' con clase 'col__content' no encontrado en https://twitter.com/larepublica_pe\n",
      "Elemento 'main' con clase 'col__content' no encontrado en https://www.instagram.com/larepublica_pe/\n",
      "Elemento 'main' con clase 'col__content' no encontrado en https://www.tiktok.com/@larepublica.pe\n",
      "Elemento 'main' con clase 'col__content' no encontrado en https://whatsapp.com/channel/0029Va53wfSDp2Q5gaRw5i3e\n",
      "Elemento 'main' con clase 'col__content' no encontrado en https://larepublica.pe/contactenos\n",
      "Elemento 'main' con clase 'col__content' no encontrado en https://larepublica.pe/newsletter\n",
      "Elemento 'main' con clase 'col__content' no encontrado en https://larepublica.pe/terminos-de-uso\n",
      "Elemento 'main' con clase 'col__content' no encontrado en https://larepublica.pe/politicas-y-estandares\n",
      "Elemento 'main' con clase 'col__content' no encontrado en https://larepublica.pe/\n",
      "Elemento 'main' con clase 'col__content' no encontrado en https://podcast.larepublica.pe\n",
      "Elemento 'main' con clase 'col__content' no encontrado en https://elpopular.pe/\n",
      "Elemento 'main' con clase 'col__content' no encontrado en https://libero.pe/\n",
      "Elemento 'main' con clase 'col__content' no encontrado en https://libero.pe/esports\n",
      "Elemento 'main' con clase 'col__content' no encontrado en https://wapa.pe/\n",
      "Elemento 'main' con clase 'col__content' no encontrado en https://lol.larepublica.pe/\n",
      "Elemento 'main' con clase 'col__content' no encontrado en https://buenazo.pe/\n",
      "Elemento 'main' con clase 'col__content' no encontrado en https://larepublica.pe/verificador\n",
      "Elemento 'main' con clase 'col__content' no encontrado en https://perulegal.larepublica.pe\n",
      "Elemento 'main' con clase 'col__content' no encontrado en https://lrmas.larepublica.pe\n",
      "Elemento 'main' con clase 'col__content' no encontrado en https://perubazar.pe/\n",
      "Elemento 'main' con clase 'col__content' no encontrado en https://cuponidad.pe/\n",
      "Elemento 'main' con clase 'col__content' no encontrado en https://larepublica.pe/ultimas-noticias\n",
      "Elemento 'main' con clase 'col__content' no encontrado en https://larepublica.pe/\n",
      "Elemento 'main' con clase 'col__content' no encontrado en https://larepublica.pe/ultimas-noticias\n",
      "Elemento 'main' con clase 'col__content' no encontrado en https://larepublica.pe/politica\n",
      "Elemento 'main' con clase 'col__content' no encontrado en https://larepublica.pe/economia\n",
      "Elemento 'main' con clase 'col__content' no encontrado en https://larepublica.pe/sociedad\n",
      "Elemento 'main' con clase 'col__content' no encontrado en https://larepublica.pe/mundo\n",
      "Elemento 'main' con clase 'col__content' no encontrado en https://larepublica.pe/peru\n",
      "Elemento 'main' con clase 'col__content' no encontrado en https://larepublica.pe/deportes\n",
      "Elemento 'main' con clase 'col__content' no encontrado en https://larepublica.pe/espectaculos\n",
      "Elemento 'main' con clase 'col__content' no encontrado en https://larepublica.pe/cine-series\n",
      "Elemento 'main' con clase 'col__content' no encontrado en https://larepublica.pe/economia/precio-del-dolar\n",
      "Elemento 'main' con clase 'col__content' no encontrado en https://larepublica.pe/newsletter\n",
      "Elemento 'main' con clase 'col__content' no encontrado en https://larepublica.pe/ultimas-noticias\n",
      "Elemento 'main' con clase 'col__content' no encontrado en https://larepublica.pe/tag/tiktok\n",
      "Elemento 'main' con clase 'col__content' no encontrado en https://larepublica.pe/autor/elisa-cruz\n",
      "Elemento 'main' con clase 'col__content' no encontrado en https://larepublica.pe/tag/uni\n",
      "Elemento 'main' con clase 'col__content' no encontrado en https://larepublica.pe/autor/isabel-nomberto\n",
      "Elemento 'main' con clase 'col__content' no encontrado en https://larepublica.pe/tag/youtube\n",
      "Elemento 'main' con clase 'col__content' no encontrado en https://larepublica.pe/autor/elisa-cruz\n",
      "Elemento 'main' con clase 'col__content' no encontrado en https://larepublica.pe/tag/tendencias\n",
      "Elemento 'main' con clase 'col__content' no encontrado en https://larepublica.pe/autor/rosario-ticona\n",
      "Elemento 'main' con clase 'col__content' no encontrado en https://larepublica.pe/tag/tendencias\n",
      "Elemento 'main' con clase 'col__content' no encontrado en https://larepublica.pe/autor/rosario-ticona\n",
      "Elemento 'main' con clase 'col__content' no encontrado en https://larepublica.pe/tag/tiktok\n",
      "Elemento 'main' con clase 'col__content' no encontrado en https://larepublica.pe/autor/elisa-cruz\n",
      "Elemento 'main' con clase 'col__content' no encontrado en https://larepublica.pe/tag/tiktok\n",
      "Elemento 'main' con clase 'col__content' no encontrado en https://larepublica.pe/autor/elisa-cruz\n",
      "Elemento 'main' con clase 'col__content' no encontrado en https://larepublica.pe/tag/uni\n",
      "Elemento 'main' con clase 'col__content' no encontrado en https://larepublica.pe/autor/isabel-nomberto\n",
      "Elemento 'main' con clase 'col__content' no encontrado en https://larepublica.pe/tag/uni-universidad-nacional-de-ingenieria\n",
      "Elemento 'main' con clase 'col__content' no encontrado en https://larepublica.pe/autor/isabel-nomberto\n",
      "Elemento 'main' con clase 'col__content' no encontrado en https://larepublica.pe/tag/redes-sociales\n",
      "Elemento 'main' con clase 'col__content' no encontrado en https://larepublica.pe/autor/elisa-cruz\n",
      "Elemento 'main' con clase 'col__content' no encontrado en https://larepublica.pe/tag/semana-santa\n",
      "Elemento 'main' con clase 'col__content' no encontrado en https://larepublica.pe/autor/rosario-ticona\n",
      "Elemento 'main' con clase 'col__content' no encontrado en https://larepublica.pe/tag/cuba\n",
      "Elemento 'main' con clase 'col__content' no encontrado en https://larepublica.pe/autor/rosario-ticona\n",
      "Elemento 'main' con clase 'col__content' no encontrado en https://larepublica.pe/tag/espana\n",
      "Elemento 'main' con clase 'col__content' no encontrado en https://larepublica.pe/autor/rosario-ticona\n",
      "Elemento 'main' con clase 'col__content' no encontrado en https://larepublica.pe/tag/tendencias\n",
      "Elemento 'main' con clase 'col__content' no encontrado en https://larepublica.pe/autor/rosario-ticona\n",
      "Elemento 'main' con clase 'col__content' no encontrado en https://larepublica.pe/tag/universidad-nacional-mayor-de-san-marcos\n",
      "Elemento 'main' con clase 'col__content' no encontrado en https://larepublica.pe/autor/pamela-arroyo\n",
      "Elemento 'main' con clase 'col__content' no encontrado en https://larepublica.pe/tag/tiktok\n",
      "Elemento 'main' con clase 'col__content' no encontrado en https://larepublica.pe/autor/elisa-cruz\n",
      "Elemento 'main' con clase 'col__content' no encontrado en https://larepublica.pe/tag/ayacucho\n",
      "Elemento 'main' con clase 'col__content' no encontrado en https://larepublica.pe/autor/pamela-arroyo\n",
      "Elemento 'main' con clase 'col__content' no encontrado en https://larepublica.pe/tag/tiktok\n",
      "Elemento 'main' con clase 'col__content' no encontrado en https://larepublica.pe/autor/elisa-cruz\n",
      "Elemento 'main' con clase 'col__content' no encontrado en https://larepublica.pe/tag/youtube\n",
      "Elemento 'main' con clase 'col__content' no encontrado en https://larepublica.pe/autor/elisa-cruz\n",
      "Elemento 'main' con clase 'col__content' no encontrado en https://larepublica.pe/tag/tiktok\n",
      "Elemento 'main' con clase 'col__content' no encontrado en https://larepublica.pe/autor/elisa-cruz\n",
      "Elemento 'main' con clase 'col__content' no encontrado en https://larepublica.pe/tag/el-salvador\n",
      "Elemento 'main' con clase 'col__content' no encontrado en https://larepublica.pe/autor/isabel-nomberto\n",
      "Elemento 'main' con clase 'col__content' no encontrado en https://larepublica.pe/tag/uni-universidad-nacional-de-ingenieria\n",
      "Elemento 'main' con clase 'col__content' no encontrado en https://larepublica.pe/autor/mary-espiritu\n",
      "Elemento 'main' con clase 'col__content' no encontrado en https://larepublica.pe/tag/semana-santa\n",
      "Elemento 'main' con clase 'col__content' no encontrado en https://larepublica.pe/autor/rosario-ticona\n",
      "Elemento 'main' con clase 'col__content' no encontrado en https://larepublica.pe/tag/europa\n",
      "Elemento 'main' con clase 'col__content' no encontrado en https://larepublica.pe/autor/rosario-ticona\n",
      "Elemento 'main' con clase 'col__content' no encontrado en https://larepublica.pe/\n",
      "Elemento 'main' con clase 'col__content' no encontrado en https://larepublica.pe/ultimas-noticias\n",
      "Elemento 'main' con clase 'col__content' no encontrado en https://larepublica.pe/politica\n",
      "Elemento 'main' con clase 'col__content' no encontrado en https://larepublica.pe/economia\n",
      "Elemento 'main' con clase 'col__content' no encontrado en https://larepublica.pe/sociedad\n",
      "Elemento 'main' con clase 'col__content' no encontrado en https://larepublica.pe/deportes\n",
      "Elemento 'main' con clase 'col__content' no encontrado en https://larepublica.pe/espectaculos\n",
      "Elemento 'main' con clase 'col__content' no encontrado en https://larepublica.pe/cine-series\n",
      "Elemento 'main' con clase 'col__content' no encontrado en https://larepublica.pe/mundo\n",
      "Elemento 'main' con clase 'col__content' no encontrado en https://larepublica.pe/tendencias\n",
      "Elemento 'main' con clase 'col__content' no encontrado en https://larepublica.pe/tecnologia\n",
      "Elemento 'main' con clase 'col__content' no encontrado en https://larepublica.pe/cultura-asiatica\n",
      "Elemento 'main' con clase 'col__content' no encontrado en https://larepublica.pe/loterias-sorteos\n",
      "Elemento 'main' con clase 'col__content' no encontrado en https://larepublica.pe/datos-lr\n",
      "Elemento 'main' con clase 'col__content' no encontrado en https://larepublica.pe/columnistas\n",
      "Elemento 'main' con clase 'col__content' no encontrado en https://larepublica.pe/verificador\n",
      "Elemento 'main' con clase 'col__content' no encontrado en https://larepublica.pe/mundo/argentina\n",
      "Elemento 'main' con clase 'col__content' no encontrado en https://larepublica.pe/mundo/mexico\n",
      "Elemento 'main' con clase 'col__content' no encontrado en https://larepublica.pe/mundo/venezuela\n",
      "Elemento 'main' con clase 'col__content' no encontrado en https://larepublica.pe/horoscopo\n",
      "Elemento 'main' con clase 'col__content' no encontrado en https://larepublica.pe/contactenos\n",
      "Elemento 'main' con clase 'col__content' no encontrado en https://larepublica.pe/newsletter\n",
      "Elemento 'main' con clase 'col__content' no encontrado en https://larepublica.pe/terminos-de-uso\n",
      "Elemento 'main' con clase 'col__content' no encontrado en https://larepublica.pe/politicas-y-estandares\n",
      "Elemento 'main' con clase 'col__content' no encontrado en https://www.facebook.com/larepublicape/\n",
      "Elemento 'main' con clase 'col__content' no encontrado en https://twitter.com/larepublica_pe\n",
      "Elemento 'main' con clase 'col__content' no encontrado en https://www.instagram.com/larepublica_pe/\n",
      "Elemento 'main' con clase 'col__content' no encontrado en https://www.tiktok.com/@larepublica.pe\n",
      "Elemento 'main' con clase 'col__content' no encontrado en https://whatsapp.com/channel/0029Va53wfSDp2Q5gaRw5i3e\n",
      "Elemento 'main' con clase 'col__content' no encontrado en https://larepublica.pe/contactenos\n",
      "Elemento 'main' con clase 'col__content' no encontrado en https://larepublica.pe/newsletter\n",
      "Elemento 'main' con clase 'col__content' no encontrado en https://larepublica.pe/terminos-de-uso\n",
      "Elemento 'main' con clase 'col__content' no encontrado en https://larepublica.pe/politicas-y-estandares\n",
      "Elemento 'main' con clase 'col__content' no encontrado en https://larepublica.pe/\n",
      "Elemento 'main' con clase 'col__content' no encontrado en https://podcast.larepublica.pe\n",
      "Elemento 'main' con clase 'col__content' no encontrado en https://elpopular.pe/\n",
      "Elemento 'main' con clase 'col__content' no encontrado en https://libero.pe/\n",
      "Elemento 'main' con clase 'col__content' no encontrado en https://libero.pe/esports\n",
      "Elemento 'main' con clase 'col__content' no encontrado en https://wapa.pe/\n",
      "Elemento 'main' con clase 'col__content' no encontrado en https://lol.larepublica.pe/\n",
      "Elemento 'main' con clase 'col__content' no encontrado en https://buenazo.pe/\n",
      "Elemento 'main' con clase 'col__content' no encontrado en https://larepublica.pe/verificador\n",
      "Elemento 'main' con clase 'col__content' no encontrado en https://perulegal.larepublica.pe\n",
      "Elemento 'main' con clase 'col__content' no encontrado en https://lrmas.larepublica.pe\n",
      "Elemento 'main' con clase 'col__content' no encontrado en https://perubazar.pe/\n",
      "Elemento 'main' con clase 'col__content' no encontrado en https://cuponidad.pe/\n"
     ]
    }
   ],
   "source": [
    "import requests\n",
    "from bs4 import BeautifulSoup as soup\n",
    "import pandas as pd\n",
    "def get_article_info(url):\n",
    "    headers = {'User-Agent': 'Mozilla/5.0'}\n",
    "    response = requests.get(url, headers=headers)\n",
    "    page_soup = soup(response.content, 'html.parser')\n",
    "    author_block = page_soup.find('div', class_='AboutAuthor_aboutAuthor__content__EoaFN')\n",
    "    if author_block:\n",
    "        author_block.decompose()  # Esto elimina el bloque del autor del soup\n",
    "\n",
    "    title = page_soup.find('h1')  # Asumiendo que el título está en <h1>\n",
    "\n",
    "    # Extraer la categoría del <span> que contiene <a>\n",
    "    category_span = page_soup.find('span', class_='TitleSection_titleSection__main__UjavR')\n",
    "    category = category_span.find('a').text.strip() if category_span else 'No Category Found'\n",
    "\n",
    "    # Extraer la fecha del artículo\n",
    "    date_element = page_soup.find('time', class_='TitleSection_main__date__L_7Cf')\n",
    "    date = date_element.text.strip() if date_element else 'No Date Found'\n",
    "\n",
    "    # Recoger todos los elementos <h2> y <p> para el cuerpo\n",
    "    body = []\n",
    "    pip_elements = page_soup.find('main', class_='col__content')\n",
    "    if pip_elements is not None:\n",
    "        body_elements = pip_elements.find_all(['h2', 'p'])\n",
    "        for element in body_elements:\n",
    "            if element.find_parent('blockquote'):\n",
    "                continue\n",
    "            body.append(element.text.strip()) \n",
    "    else:\n",
    "        print(f\"Elemento 'main' con clase 'col__content' no encontrado en {url}\")\n",
    "\n",
    "    return {\n",
    "        'url': url,\n",
    "        'title': title.text.strip() if title else 'No Title Found',\n",
    "        'category': category,\n",
    "        'date': date,\n",
    "        'body': ' '.join(body)\n",
    "    }\n",
    "\n",
    "\n",
    "def scrape_category(category_url):\n",
    "    response = requests.get(category_url, headers=headers)\n",
    "    soup_html = soup(response.content, 'html.parser')\n",
    "\n",
    "    articles = []\n",
    "    for link in soup_html.find_all('a', href=True):\n",
    "        article_url = link['href']\n",
    "\n",
    "        # Asegúrate de que la URL es completa y válida\n",
    "        if article_url.startswith('/'):\n",
    "            article_url = f'https://larepublica.pe{article_url}'\n",
    "        elif not article_url.startswith('http'):\n",
    "            continue  # Ignora las URLs que no son válidas\n",
    "\n",
    "        info = get_article_info(article_url)\n",
    "        articles.append(info)\n",
    "\n",
    "    return pd.DataFrame(articles)\n",
    "\n",
    "\n",
    "headers = {\n",
    "    'User-Agent': 'Mozilla/5.0 (Windows NT 10.0; Win64; x64) AppleWebKit/537.36 (KHTML, like Gecko) Chrome/58.0.3029.110 Safari/537.3'}\n",
    "\n",
    "# Lista de URLs de categorías\n",
    "categories = [\n",
    "    'https://larepublica.pe/sociedad/',\n",
    "    'https://larepublica.pe/economia/',\n",
    "    'https://larepublica.pe/politica/',\n",
    "    'https://larepublica.pe/deportes/',\n",
    "    'https://larepublica.pe/cine-series/',\n",
    "    'https://larepublica.pe/mundo/',\n",
    "    'https://larepublica.pe/ciencia/',\n",
    "    'https://larepublica.pe/tendencias/',\n",
    "]\n",
    "\n",
    "# Diccionario para almacenar DataFrames de cada categoría\n",
    "category_dfs = {}\n",
    "\n",
    "for category in categories:\n",
    "    category_dfs[category] = scrape_category(category)"
   ]
  },
  {
   "cell_type": "code",
   "execution_count": 4,
   "metadata": {},
   "outputs": [
    {
     "data": {
      "text/html": [
       "<div>\n",
       "<style scoped>\n",
       "    .dataframe tbody tr th:only-of-type {\n",
       "        vertical-align: middle;\n",
       "    }\n",
       "\n",
       "    .dataframe tbody tr th {\n",
       "        vertical-align: top;\n",
       "    }\n",
       "\n",
       "    .dataframe thead th {\n",
       "        text-align: right;\n",
       "    }\n",
       "</style>\n",
       "<table border=\"1\" class=\"dataframe\">\n",
       "  <thead>\n",
       "    <tr style=\"text-align: right;\">\n",
       "      <th></th>\n",
       "      <th>url</th>\n",
       "      <th>title</th>\n",
       "      <th>category</th>\n",
       "      <th>date</th>\n",
       "      <th>body</th>\n",
       "    </tr>\n",
       "  </thead>\n",
       "  <tbody>\n",
       "    <tr>\n",
       "      <th>0</th>\n",
       "      <td>https://larepublica.pe/ultimas-noticias</td>\n",
       "      <td>NOTICIAS DE ÚLTIMO MINUTO</td>\n",
       "      <td>No Category Found</td>\n",
       "      <td>No Date Found</td>\n",
       "      <td></td>\n",
       "    </tr>\n",
       "    <tr>\n",
       "      <th>1</th>\n",
       "      <td>https://larepublica.pe/politica/2024/03/31/din...</td>\n",
       "      <td>Se complica la situación procesal de Dina Bolu...</td>\n",
       "      <td>Política</td>\n",
       "      <td>31 Mar 2024 | 8:10 h</td>\n",
       "      <td>Patrimonio sospechoso. El allanamiento al domi...</td>\n",
       "    </tr>\n",
       "    <tr>\n",
       "      <th>2</th>\n",
       "      <td>https://larepublica.pe/politica/2024/03/29/din...</td>\n",
       "      <td>Dina Boluarte EN VIVO: últimas noticias tras a...</td>\n",
       "      <td>Política</td>\n",
       "      <td>31 Mar 2024 | 12:36 h</td>\n",
       "      <td>Mediante un operativo, efectivos policiales al...</td>\n",
       "    </tr>\n",
       "    <tr>\n",
       "      <th>3</th>\n",
       "      <td>https://larepublica.pe/sociedad/2024/03/27/hor...</td>\n",
       "      <td>CENTROS COMERCIALES en Semana Santa: ¿Atenderá...</td>\n",
       "      <td>Sociedad</td>\n",
       "      <td>29 Mar 2024 | 19:55 h</td>\n",
       "      <td>Si vas a descansar Jueves Santo o Viernes Sant...</td>\n",
       "    </tr>\n",
       "    <tr>\n",
       "      <th>4</th>\n",
       "      <td>https://larepublica.pe/economia/2024/03/27/ret...</td>\n",
       "      <td>Retiro CTS 2024 en Perú: ¿cuándo se deposita y...</td>\n",
       "      <td>Economía</td>\n",
       "      <td>31 Mar 2024 | 14:43 h</td>\n",
       "      <td>En menos de 2 meses, las empresas deben realiz...</td>\n",
       "    </tr>\n",
       "    <tr>\n",
       "      <th>...</th>\n",
       "      <td>...</td>\n",
       "      <td>...</td>\n",
       "      <td>...</td>\n",
       "      <td>...</td>\n",
       "      <td>...</td>\n",
       "    </tr>\n",
       "    <tr>\n",
       "      <th>1233</th>\n",
       "      <td>https://larepublica.pe/verificador</td>\n",
       "      <td>NOTICIAS</td>\n",
       "      <td>No Category Found</td>\n",
       "      <td>No Date Found</td>\n",
       "      <td></td>\n",
       "    </tr>\n",
       "    <tr>\n",
       "      <th>1234</th>\n",
       "      <td>https://perulegal.larepublica.pe</td>\n",
       "      <td>¿Quiénes son los accesitarios de la JNJ y cómo...</td>\n",
       "      <td>No Category Found</td>\n",
       "      <td>No Date Found</td>\n",
       "      <td></td>\n",
       "    </tr>\n",
       "    <tr>\n",
       "      <th>1235</th>\n",
       "      <td>https://lrmas.larepublica.pe</td>\n",
       "      <td>No Title Found</td>\n",
       "      <td>No Category Found</td>\n",
       "      <td>No Date Found</td>\n",
       "      <td></td>\n",
       "    </tr>\n",
       "    <tr>\n",
       "      <th>1236</th>\n",
       "      <td>https://perubazar.pe/</td>\n",
       "      <td>No Title Found</td>\n",
       "      <td>No Category Found</td>\n",
       "      <td>No Date Found</td>\n",
       "      <td></td>\n",
       "    </tr>\n",
       "    <tr>\n",
       "      <th>1237</th>\n",
       "      <td>https://cuponidad.pe/</td>\n",
       "      <td>No Title Found</td>\n",
       "      <td>No Category Found</td>\n",
       "      <td>No Date Found</td>\n",
       "      <td></td>\n",
       "    </tr>\n",
       "  </tbody>\n",
       "</table>\n",
       "<p>1238 rows × 5 columns</p>\n",
       "</div>"
      ],
      "text/plain": [
       "                                                    url  \\\n",
       "0               https://larepublica.pe/ultimas-noticias   \n",
       "1     https://larepublica.pe/politica/2024/03/31/din...   \n",
       "2     https://larepublica.pe/politica/2024/03/29/din...   \n",
       "3     https://larepublica.pe/sociedad/2024/03/27/hor...   \n",
       "4     https://larepublica.pe/economia/2024/03/27/ret...   \n",
       "...                                                 ...   \n",
       "1233                 https://larepublica.pe/verificador   \n",
       "1234                   https://perulegal.larepublica.pe   \n",
       "1235                       https://lrmas.larepublica.pe   \n",
       "1236                              https://perubazar.pe/   \n",
       "1237                              https://cuponidad.pe/   \n",
       "\n",
       "                                                  title           category  \\\n",
       "0                             NOTICIAS DE ÚLTIMO MINUTO  No Category Found   \n",
       "1     Se complica la situación procesal de Dina Bolu...           Política   \n",
       "2     Dina Boluarte EN VIVO: últimas noticias tras a...           Política   \n",
       "3     CENTROS COMERCIALES en Semana Santa: ¿Atenderá...           Sociedad   \n",
       "4     Retiro CTS 2024 en Perú: ¿cuándo se deposita y...           Economía   \n",
       "...                                                 ...                ...   \n",
       "1233                                           NOTICIAS  No Category Found   \n",
       "1234  ¿Quiénes son los accesitarios de la JNJ y cómo...  No Category Found   \n",
       "1235                                     No Title Found  No Category Found   \n",
       "1236                                     No Title Found  No Category Found   \n",
       "1237                                     No Title Found  No Category Found   \n",
       "\n",
       "                       date                                               body  \n",
       "0             No Date Found                                                     \n",
       "1      31 Mar 2024 | 8:10 h  Patrimonio sospechoso. El allanamiento al domi...  \n",
       "2     31 Mar 2024 | 12:36 h  Mediante un operativo, efectivos policiales al...  \n",
       "3     29 Mar 2024 | 19:55 h  Si vas a descansar Jueves Santo o Viernes Sant...  \n",
       "4     31 Mar 2024 | 14:43 h  En menos de 2 meses, las empresas deben realiz...  \n",
       "...                     ...                                                ...  \n",
       "1233          No Date Found                                                     \n",
       "1234          No Date Found                                                     \n",
       "1235          No Date Found                                                     \n",
       "1236          No Date Found                                                     \n",
       "1237          No Date Found                                                     \n",
       "\n",
       "[1238 rows x 5 columns]"
      ]
     },
     "execution_count": 4,
     "metadata": {},
     "output_type": "execute_result"
    }
   ],
   "source": [
    "df_all = pd.concat(category_dfs.values(), ignore_index=True)\n",
    "df_all"
   ]
  },
  {
   "cell_type": "code",
   "execution_count": 5,
   "metadata": {},
   "outputs": [
    {
     "data": {
      "text/plain": [
       "category\n",
       "No Category Found    864\n",
       "Deportes              67\n",
       "Economía              57\n",
       "Mundo                 52\n",
       "Política              48\n",
       "Sociedad              40\n",
       "Ciencia               35\n",
       "Cine y series         33\n",
       "Tendencias            31\n",
       "Horóscopo              8\n",
       "Espectáculos           1\n",
       "Tecnología             1\n",
       "Video viral            1\n",
       "dtype: int64"
      ]
     },
     "execution_count": 5,
     "metadata": {},
     "output_type": "execute_result"
    }
   ],
   "source": [
    "df_all.value_counts('category')"
   ]
  },
  {
   "cell_type": "code",
   "execution_count": 6,
   "metadata": {},
   "outputs": [],
   "source": [
    "df_all = df_all[df_all['category'] != 'No Category Found']"
   ]
  },
  {
   "cell_type": "code",
   "execution_count": 7,
   "metadata": {},
   "outputs": [
    {
     "data": {
      "application/vnd.plotly.v1+json": {
       "config": {
        "plotlyServerURL": "https://plot.ly"
       },
       "data": [
        {
         "name": "Política",
         "orientation": "h",
         "type": "box",
         "x": [
          657,
          6291,
          657,
          6291,
          657,
          6291,
          523,
          490,
          549,
          577,
          563,
          490,
          523,
          2127,
          557,
          563,
          490,
          549,
          6291,
          577,
          523,
          509,
          751,
          2127,
          1060,
          657,
          648,
          1068,
          1473,
          1702,
          808,
          586,
          863,
          678,
          1550,
          1506,
          581,
          576,
          657,
          6291,
          657,
          6291,
          657,
          6291,
          657,
          6291,
          657,
          6291
         ]
        },
        {
         "name": "Sociedad",
         "orientation": "h",
         "type": "box",
         "x": [
          531,
          509,
          535,
          365,
          1154,
          927,
          512,
          505,
          1037,
          953,
          580,
          943,
          363,
          860,
          536,
          319,
          365,
          871,
          509,
          452,
          412,
          967,
          436,
          481,
          462,
          1305,
          826,
          1013,
          567,
          606,
          606,
          692,
          512,
          531,
          531,
          531,
          531,
          531,
          531,
          531
         ]
        },
        {
         "name": "Economía",
         "orientation": "h",
         "type": "box",
         "x": [
          1067,
          673,
          587,
          1067,
          673,
          587,
          491,
          1067,
          692,
          1230,
          473,
          535,
          389,
          542,
          767,
          399,
          389,
          316,
          279,
          587,
          536,
          542,
          673,
          780,
          499,
          1230,
          860,
          300,
          1067,
          572,
          668,
          535,
          463,
          491,
          648,
          466,
          692,
          476,
          419,
          1067,
          673,
          587,
          1067,
          673,
          587,
          1067,
          673,
          587,
          1067,
          673,
          587,
          1067,
          673,
          587,
          1067,
          673,
          587
         ]
        },
        {
         "name": "Deportes",
         "orientation": "h",
         "type": "box",
         "x": [
          2398,
          778,
          656,
          984,
          2398,
          778,
          656,
          949,
          2398,
          778,
          656,
          984,
          2398,
          778,
          656,
          949,
          656,
          632,
          839,
          595,
          701,
          590,
          656,
          839,
          632,
          595,
          786,
          1677,
          949,
          1478,
          984,
          1819,
          674,
          550,
          572,
          701,
          742,
          742,
          590,
          412,
          541,
          839,
          2197,
          570,
          568,
          509,
          594,
          595,
          786,
          851,
          844,
          2398,
          778,
          656,
          984,
          2398,
          778,
          656,
          984,
          2398,
          778,
          656,
          984,
          2398,
          778,
          656,
          949
         ]
        },
        {
         "name": "Horóscopo",
         "orientation": "h",
         "type": "box",
         "x": [
          551,
          551,
          551,
          551,
          551,
          551,
          551,
          551
         ]
        },
        {
         "name": "Mundo",
         "orientation": "h",
         "type": "box",
         "x": [
          841,
          986,
          841,
          986,
          841,
          986,
          841,
          986,
          841,
          986,
          841,
          986,
          588,
          513,
          657,
          620,
          841,
          986,
          609,
          557,
          739,
          752,
          513,
          981,
          556,
          625,
          657,
          823,
          620,
          574,
          550,
          577,
          703,
          481,
          620,
          580,
          718,
          609,
          557,
          606,
          602,
          981,
          586,
          827,
          633,
          647,
          552,
          642,
          841,
          986,
          841,
          986
         ]
        },
        {
         "name": "Cine y series",
         "orientation": "h",
         "type": "box",
         "x": [
          611,
          634,
          753,
          785,
          1480,
          808,
          730,
          677,
          609,
          587,
          614,
          549,
          766,
          650,
          753,
          609,
          665,
          553,
          730,
          1480,
          469,
          603,
          527,
          785,
          695,
          764,
          606,
          820,
          791,
          808,
          506,
          1473,
          677
         ]
        },
        {
         "name": "Espectáculos",
         "orientation": "h",
         "type": "box",
         "x": [
          558
         ]
        },
        {
         "name": "Ciencia",
         "orientation": "h",
         "type": "box",
         "x": [
          1031,
          879,
          786,
          771,
          692,
          734,
          706,
          744,
          689,
          833,
          1488,
          744,
          582,
          832,
          771,
          644,
          734,
          611,
          833,
          706,
          858,
          642,
          1488,
          722,
          689,
          786,
          567,
          914,
          879,
          750,
          1243,
          605,
          626,
          631,
          474
         ]
        },
        {
         "name": "Tecnología",
         "orientation": "h",
         "type": "box",
         "x": [
          734
         ]
        },
        {
         "name": "Tendencias",
         "orientation": "h",
         "type": "box",
         "x": [
          916,
          369,
          520,
          1077,
          1313,
          655,
          584,
          488,
          597,
          520,
          879,
          632,
          517,
          526,
          882,
          757,
          1313,
          552,
          628,
          724,
          480,
          672,
          1077,
          562,
          543,
          551,
          397,
          587,
          844,
          598,
          600
         ]
        },
        {
         "name": "Video viral",
         "orientation": "h",
         "type": "box",
         "x": [
          761
         ]
        }
       ],
       "layout": {
        "height": 400,
        "template": {
         "data": {
          "bar": [
           {
            "error_x": {
             "color": "#2a3f5f"
            },
            "error_y": {
             "color": "#2a3f5f"
            },
            "marker": {
             "line": {
              "color": "#E5ECF6",
              "width": 0.5
             },
             "pattern": {
              "fillmode": "overlay",
              "size": 10,
              "solidity": 0.2
             }
            },
            "type": "bar"
           }
          ],
          "barpolar": [
           {
            "marker": {
             "line": {
              "color": "#E5ECF6",
              "width": 0.5
             },
             "pattern": {
              "fillmode": "overlay",
              "size": 10,
              "solidity": 0.2
             }
            },
            "type": "barpolar"
           }
          ],
          "carpet": [
           {
            "aaxis": {
             "endlinecolor": "#2a3f5f",
             "gridcolor": "white",
             "linecolor": "white",
             "minorgridcolor": "white",
             "startlinecolor": "#2a3f5f"
            },
            "baxis": {
             "endlinecolor": "#2a3f5f",
             "gridcolor": "white",
             "linecolor": "white",
             "minorgridcolor": "white",
             "startlinecolor": "#2a3f5f"
            },
            "type": "carpet"
           }
          ],
          "choropleth": [
           {
            "colorbar": {
             "outlinewidth": 0,
             "ticks": ""
            },
            "type": "choropleth"
           }
          ],
          "contour": [
           {
            "colorbar": {
             "outlinewidth": 0,
             "ticks": ""
            },
            "colorscale": [
             [
              0,
              "#0d0887"
             ],
             [
              0.1111111111111111,
              "#46039f"
             ],
             [
              0.2222222222222222,
              "#7201a8"
             ],
             [
              0.3333333333333333,
              "#9c179e"
             ],
             [
              0.4444444444444444,
              "#bd3786"
             ],
             [
              0.5555555555555556,
              "#d8576b"
             ],
             [
              0.6666666666666666,
              "#ed7953"
             ],
             [
              0.7777777777777778,
              "#fb9f3a"
             ],
             [
              0.8888888888888888,
              "#fdca26"
             ],
             [
              1,
              "#f0f921"
             ]
            ],
            "type": "contour"
           }
          ],
          "contourcarpet": [
           {
            "colorbar": {
             "outlinewidth": 0,
             "ticks": ""
            },
            "type": "contourcarpet"
           }
          ],
          "heatmap": [
           {
            "colorbar": {
             "outlinewidth": 0,
             "ticks": ""
            },
            "colorscale": [
             [
              0,
              "#0d0887"
             ],
             [
              0.1111111111111111,
              "#46039f"
             ],
             [
              0.2222222222222222,
              "#7201a8"
             ],
             [
              0.3333333333333333,
              "#9c179e"
             ],
             [
              0.4444444444444444,
              "#bd3786"
             ],
             [
              0.5555555555555556,
              "#d8576b"
             ],
             [
              0.6666666666666666,
              "#ed7953"
             ],
             [
              0.7777777777777778,
              "#fb9f3a"
             ],
             [
              0.8888888888888888,
              "#fdca26"
             ],
             [
              1,
              "#f0f921"
             ]
            ],
            "type": "heatmap"
           }
          ],
          "heatmapgl": [
           {
            "colorbar": {
             "outlinewidth": 0,
             "ticks": ""
            },
            "colorscale": [
             [
              0,
              "#0d0887"
             ],
             [
              0.1111111111111111,
              "#46039f"
             ],
             [
              0.2222222222222222,
              "#7201a8"
             ],
             [
              0.3333333333333333,
              "#9c179e"
             ],
             [
              0.4444444444444444,
              "#bd3786"
             ],
             [
              0.5555555555555556,
              "#d8576b"
             ],
             [
              0.6666666666666666,
              "#ed7953"
             ],
             [
              0.7777777777777778,
              "#fb9f3a"
             ],
             [
              0.8888888888888888,
              "#fdca26"
             ],
             [
              1,
              "#f0f921"
             ]
            ],
            "type": "heatmapgl"
           }
          ],
          "histogram": [
           {
            "marker": {
             "pattern": {
              "fillmode": "overlay",
              "size": 10,
              "solidity": 0.2
             }
            },
            "type": "histogram"
           }
          ],
          "histogram2d": [
           {
            "colorbar": {
             "outlinewidth": 0,
             "ticks": ""
            },
            "colorscale": [
             [
              0,
              "#0d0887"
             ],
             [
              0.1111111111111111,
              "#46039f"
             ],
             [
              0.2222222222222222,
              "#7201a8"
             ],
             [
              0.3333333333333333,
              "#9c179e"
             ],
             [
              0.4444444444444444,
              "#bd3786"
             ],
             [
              0.5555555555555556,
              "#d8576b"
             ],
             [
              0.6666666666666666,
              "#ed7953"
             ],
             [
              0.7777777777777778,
              "#fb9f3a"
             ],
             [
              0.8888888888888888,
              "#fdca26"
             ],
             [
              1,
              "#f0f921"
             ]
            ],
            "type": "histogram2d"
           }
          ],
          "histogram2dcontour": [
           {
            "colorbar": {
             "outlinewidth": 0,
             "ticks": ""
            },
            "colorscale": [
             [
              0,
              "#0d0887"
             ],
             [
              0.1111111111111111,
              "#46039f"
             ],
             [
              0.2222222222222222,
              "#7201a8"
             ],
             [
              0.3333333333333333,
              "#9c179e"
             ],
             [
              0.4444444444444444,
              "#bd3786"
             ],
             [
              0.5555555555555556,
              "#d8576b"
             ],
             [
              0.6666666666666666,
              "#ed7953"
             ],
             [
              0.7777777777777778,
              "#fb9f3a"
             ],
             [
              0.8888888888888888,
              "#fdca26"
             ],
             [
              1,
              "#f0f921"
             ]
            ],
            "type": "histogram2dcontour"
           }
          ],
          "mesh3d": [
           {
            "colorbar": {
             "outlinewidth": 0,
             "ticks": ""
            },
            "type": "mesh3d"
           }
          ],
          "parcoords": [
           {
            "line": {
             "colorbar": {
              "outlinewidth": 0,
              "ticks": ""
             }
            },
            "type": "parcoords"
           }
          ],
          "pie": [
           {
            "automargin": true,
            "type": "pie"
           }
          ],
          "scatter": [
           {
            "fillpattern": {
             "fillmode": "overlay",
             "size": 10,
             "solidity": 0.2
            },
            "type": "scatter"
           }
          ],
          "scatter3d": [
           {
            "line": {
             "colorbar": {
              "outlinewidth": 0,
              "ticks": ""
             }
            },
            "marker": {
             "colorbar": {
              "outlinewidth": 0,
              "ticks": ""
             }
            },
            "type": "scatter3d"
           }
          ],
          "scattercarpet": [
           {
            "marker": {
             "colorbar": {
              "outlinewidth": 0,
              "ticks": ""
             }
            },
            "type": "scattercarpet"
           }
          ],
          "scattergeo": [
           {
            "marker": {
             "colorbar": {
              "outlinewidth": 0,
              "ticks": ""
             }
            },
            "type": "scattergeo"
           }
          ],
          "scattergl": [
           {
            "marker": {
             "colorbar": {
              "outlinewidth": 0,
              "ticks": ""
             }
            },
            "type": "scattergl"
           }
          ],
          "scattermapbox": [
           {
            "marker": {
             "colorbar": {
              "outlinewidth": 0,
              "ticks": ""
             }
            },
            "type": "scattermapbox"
           }
          ],
          "scatterpolar": [
           {
            "marker": {
             "colorbar": {
              "outlinewidth": 0,
              "ticks": ""
             }
            },
            "type": "scatterpolar"
           }
          ],
          "scatterpolargl": [
           {
            "marker": {
             "colorbar": {
              "outlinewidth": 0,
              "ticks": ""
             }
            },
            "type": "scatterpolargl"
           }
          ],
          "scatterternary": [
           {
            "marker": {
             "colorbar": {
              "outlinewidth": 0,
              "ticks": ""
             }
            },
            "type": "scatterternary"
           }
          ],
          "surface": [
           {
            "colorbar": {
             "outlinewidth": 0,
             "ticks": ""
            },
            "colorscale": [
             [
              0,
              "#0d0887"
             ],
             [
              0.1111111111111111,
              "#46039f"
             ],
             [
              0.2222222222222222,
              "#7201a8"
             ],
             [
              0.3333333333333333,
              "#9c179e"
             ],
             [
              0.4444444444444444,
              "#bd3786"
             ],
             [
              0.5555555555555556,
              "#d8576b"
             ],
             [
              0.6666666666666666,
              "#ed7953"
             ],
             [
              0.7777777777777778,
              "#fb9f3a"
             ],
             [
              0.8888888888888888,
              "#fdca26"
             ],
             [
              1,
              "#f0f921"
             ]
            ],
            "type": "surface"
           }
          ],
          "table": [
           {
            "cells": {
             "fill": {
              "color": "#EBF0F8"
             },
             "line": {
              "color": "white"
             }
            },
            "header": {
             "fill": {
              "color": "#C8D4E3"
             },
             "line": {
              "color": "white"
             }
            },
            "type": "table"
           }
          ]
         },
         "layout": {
          "annotationdefaults": {
           "arrowcolor": "#2a3f5f",
           "arrowhead": 0,
           "arrowwidth": 1
          },
          "autotypenumbers": "strict",
          "coloraxis": {
           "colorbar": {
            "outlinewidth": 0,
            "ticks": ""
           }
          },
          "colorscale": {
           "diverging": [
            [
             0,
             "#8e0152"
            ],
            [
             0.1,
             "#c51b7d"
            ],
            [
             0.2,
             "#de77ae"
            ],
            [
             0.3,
             "#f1b6da"
            ],
            [
             0.4,
             "#fde0ef"
            ],
            [
             0.5,
             "#f7f7f7"
            ],
            [
             0.6,
             "#e6f5d0"
            ],
            [
             0.7,
             "#b8e186"
            ],
            [
             0.8,
             "#7fbc41"
            ],
            [
             0.9,
             "#4d9221"
            ],
            [
             1,
             "#276419"
            ]
           ],
           "sequential": [
            [
             0,
             "#0d0887"
            ],
            [
             0.1111111111111111,
             "#46039f"
            ],
            [
             0.2222222222222222,
             "#7201a8"
            ],
            [
             0.3333333333333333,
             "#9c179e"
            ],
            [
             0.4444444444444444,
             "#bd3786"
            ],
            [
             0.5555555555555556,
             "#d8576b"
            ],
            [
             0.6666666666666666,
             "#ed7953"
            ],
            [
             0.7777777777777778,
             "#fb9f3a"
            ],
            [
             0.8888888888888888,
             "#fdca26"
            ],
            [
             1,
             "#f0f921"
            ]
           ],
           "sequentialminus": [
            [
             0,
             "#0d0887"
            ],
            [
             0.1111111111111111,
             "#46039f"
            ],
            [
             0.2222222222222222,
             "#7201a8"
            ],
            [
             0.3333333333333333,
             "#9c179e"
            ],
            [
             0.4444444444444444,
             "#bd3786"
            ],
            [
             0.5555555555555556,
             "#d8576b"
            ],
            [
             0.6666666666666666,
             "#ed7953"
            ],
            [
             0.7777777777777778,
             "#fb9f3a"
            ],
            [
             0.8888888888888888,
             "#fdca26"
            ],
            [
             1,
             "#f0f921"
            ]
           ]
          },
          "colorway": [
           "#636efa",
           "#EF553B",
           "#00cc96",
           "#ab63fa",
           "#FFA15A",
           "#19d3f3",
           "#FF6692",
           "#B6E880",
           "#FF97FF",
           "#FECB52"
          ],
          "font": {
           "color": "#2a3f5f"
          },
          "geo": {
           "bgcolor": "white",
           "lakecolor": "white",
           "landcolor": "#E5ECF6",
           "showlakes": true,
           "showland": true,
           "subunitcolor": "white"
          },
          "hoverlabel": {
           "align": "left"
          },
          "hovermode": "closest",
          "mapbox": {
           "style": "light"
          },
          "paper_bgcolor": "white",
          "plot_bgcolor": "#E5ECF6",
          "polar": {
           "angularaxis": {
            "gridcolor": "white",
            "linecolor": "white",
            "ticks": ""
           },
           "bgcolor": "#E5ECF6",
           "radialaxis": {
            "gridcolor": "white",
            "linecolor": "white",
            "ticks": ""
           }
          },
          "scene": {
           "xaxis": {
            "backgroundcolor": "#E5ECF6",
            "gridcolor": "white",
            "gridwidth": 2,
            "linecolor": "white",
            "showbackground": true,
            "ticks": "",
            "zerolinecolor": "white"
           },
           "yaxis": {
            "backgroundcolor": "#E5ECF6",
            "gridcolor": "white",
            "gridwidth": 2,
            "linecolor": "white",
            "showbackground": true,
            "ticks": "",
            "zerolinecolor": "white"
           },
           "zaxis": {
            "backgroundcolor": "#E5ECF6",
            "gridcolor": "white",
            "gridwidth": 2,
            "linecolor": "white",
            "showbackground": true,
            "ticks": "",
            "zerolinecolor": "white"
           }
          },
          "shapedefaults": {
           "line": {
            "color": "#2a3f5f"
           }
          },
          "ternary": {
           "aaxis": {
            "gridcolor": "white",
            "linecolor": "white",
            "ticks": ""
           },
           "baxis": {
            "gridcolor": "white",
            "linecolor": "white",
            "ticks": ""
           },
           "bgcolor": "#E5ECF6",
           "caxis": {
            "gridcolor": "white",
            "linecolor": "white",
            "ticks": ""
           }
          },
          "title": {
           "x": 0.05
          },
          "xaxis": {
           "automargin": true,
           "gridcolor": "white",
           "linecolor": "white",
           "ticks": "",
           "title": {
            "standoff": 15
           },
           "zerolinecolor": "white",
           "zerolinewidth": 2
          },
          "yaxis": {
           "automargin": true,
           "gridcolor": "white",
           "linecolor": "white",
           "ticks": "",
           "title": {
            "standoff": 15
           },
           "zerolinecolor": "white",
           "zerolinewidth": 2
          }
         }
        },
        "title": {
         "text": "Horizontal Boxplot: Distribution of Text Lengths by Category"
        },
        "width": 800,
        "xaxis": {
         "title": {
          "text": "Text Length"
         }
        }
       }
      }
     },
     "metadata": {},
     "output_type": "display_data"
    },
    {
     "data": {
      "application/vnd.plotly.v1+json": {
       "config": {
        "plotlyServerURL": "https://plot.ly"
       },
       "data": [
        {
         "name": "Política",
         "opacity": 0.6,
         "type": "histogram",
         "x": [
          657,
          6291,
          657,
          6291,
          657,
          6291,
          523,
          490,
          549,
          577,
          563,
          490,
          523,
          2127,
          557,
          563,
          490,
          549,
          6291,
          577,
          523,
          509,
          751,
          2127,
          1060,
          657,
          648,
          1068,
          1473,
          1702,
          808,
          586,
          863,
          678,
          1550,
          1506,
          581,
          576,
          657,
          6291,
          657,
          6291,
          657,
          6291,
          657,
          6291,
          657,
          6291
         ]
        },
        {
         "name": "Sociedad",
         "opacity": 0.6,
         "type": "histogram",
         "x": [
          531,
          509,
          535,
          365,
          1154,
          927,
          512,
          505,
          1037,
          953,
          580,
          943,
          363,
          860,
          536,
          319,
          365,
          871,
          509,
          452,
          412,
          967,
          436,
          481,
          462,
          1305,
          826,
          1013,
          567,
          606,
          606,
          692,
          512,
          531,
          531,
          531,
          531,
          531,
          531,
          531
         ]
        },
        {
         "name": "Economía",
         "opacity": 0.6,
         "type": "histogram",
         "x": [
          1067,
          673,
          587,
          1067,
          673,
          587,
          491,
          1067,
          692,
          1230,
          473,
          535,
          389,
          542,
          767,
          399,
          389,
          316,
          279,
          587,
          536,
          542,
          673,
          780,
          499,
          1230,
          860,
          300,
          1067,
          572,
          668,
          535,
          463,
          491,
          648,
          466,
          692,
          476,
          419,
          1067,
          673,
          587,
          1067,
          673,
          587,
          1067,
          673,
          587,
          1067,
          673,
          587,
          1067,
          673,
          587,
          1067,
          673,
          587
         ]
        },
        {
         "name": "Deportes",
         "opacity": 0.6,
         "type": "histogram",
         "x": [
          2398,
          778,
          656,
          984,
          2398,
          778,
          656,
          949,
          2398,
          778,
          656,
          984,
          2398,
          778,
          656,
          949,
          656,
          632,
          839,
          595,
          701,
          590,
          656,
          839,
          632,
          595,
          786,
          1677,
          949,
          1478,
          984,
          1819,
          674,
          550,
          572,
          701,
          742,
          742,
          590,
          412,
          541,
          839,
          2197,
          570,
          568,
          509,
          594,
          595,
          786,
          851,
          844,
          2398,
          778,
          656,
          984,
          2398,
          778,
          656,
          984,
          2398,
          778,
          656,
          984,
          2398,
          778,
          656,
          949
         ]
        },
        {
         "name": "Horóscopo",
         "opacity": 0.6,
         "type": "histogram",
         "x": [
          551,
          551,
          551,
          551,
          551,
          551,
          551,
          551
         ]
        },
        {
         "name": "Mundo",
         "opacity": 0.6,
         "type": "histogram",
         "x": [
          841,
          986,
          841,
          986,
          841,
          986,
          841,
          986,
          841,
          986,
          841,
          986,
          588,
          513,
          657,
          620,
          841,
          986,
          609,
          557,
          739,
          752,
          513,
          981,
          556,
          625,
          657,
          823,
          620,
          574,
          550,
          577,
          703,
          481,
          620,
          580,
          718,
          609,
          557,
          606,
          602,
          981,
          586,
          827,
          633,
          647,
          552,
          642,
          841,
          986,
          841,
          986
         ]
        },
        {
         "name": "Cine y series",
         "opacity": 0.6,
         "type": "histogram",
         "x": [
          611,
          634,
          753,
          785,
          1480,
          808,
          730,
          677,
          609,
          587,
          614,
          549,
          766,
          650,
          753,
          609,
          665,
          553,
          730,
          1480,
          469,
          603,
          527,
          785,
          695,
          764,
          606,
          820,
          791,
          808,
          506,
          1473,
          677
         ]
        },
        {
         "name": "Espectáculos",
         "opacity": 0.6,
         "type": "histogram",
         "x": [
          558
         ]
        },
        {
         "name": "Ciencia",
         "opacity": 0.6,
         "type": "histogram",
         "x": [
          1031,
          879,
          786,
          771,
          692,
          734,
          706,
          744,
          689,
          833,
          1488,
          744,
          582,
          832,
          771,
          644,
          734,
          611,
          833,
          706,
          858,
          642,
          1488,
          722,
          689,
          786,
          567,
          914,
          879,
          750,
          1243,
          605,
          626,
          631,
          474
         ]
        },
        {
         "name": "Tecnología",
         "opacity": 0.6,
         "type": "histogram",
         "x": [
          734
         ]
        },
        {
         "name": "Tendencias",
         "opacity": 0.6,
         "type": "histogram",
         "x": [
          916,
          369,
          520,
          1077,
          1313,
          655,
          584,
          488,
          597,
          520,
          879,
          632,
          517,
          526,
          882,
          757,
          1313,
          552,
          628,
          724,
          480,
          672,
          1077,
          562,
          543,
          551,
          397,
          587,
          844,
          598,
          600
         ]
        },
        {
         "name": "Video viral",
         "opacity": 0.6,
         "type": "histogram",
         "x": [
          761
         ]
        }
       ],
       "layout": {
        "barmode": "overlay",
        "height": 400,
        "template": {
         "data": {
          "bar": [
           {
            "error_x": {
             "color": "#2a3f5f"
            },
            "error_y": {
             "color": "#2a3f5f"
            },
            "marker": {
             "line": {
              "color": "#E5ECF6",
              "width": 0.5
             },
             "pattern": {
              "fillmode": "overlay",
              "size": 10,
              "solidity": 0.2
             }
            },
            "type": "bar"
           }
          ],
          "barpolar": [
           {
            "marker": {
             "line": {
              "color": "#E5ECF6",
              "width": 0.5
             },
             "pattern": {
              "fillmode": "overlay",
              "size": 10,
              "solidity": 0.2
             }
            },
            "type": "barpolar"
           }
          ],
          "carpet": [
           {
            "aaxis": {
             "endlinecolor": "#2a3f5f",
             "gridcolor": "white",
             "linecolor": "white",
             "minorgridcolor": "white",
             "startlinecolor": "#2a3f5f"
            },
            "baxis": {
             "endlinecolor": "#2a3f5f",
             "gridcolor": "white",
             "linecolor": "white",
             "minorgridcolor": "white",
             "startlinecolor": "#2a3f5f"
            },
            "type": "carpet"
           }
          ],
          "choropleth": [
           {
            "colorbar": {
             "outlinewidth": 0,
             "ticks": ""
            },
            "type": "choropleth"
           }
          ],
          "contour": [
           {
            "colorbar": {
             "outlinewidth": 0,
             "ticks": ""
            },
            "colorscale": [
             [
              0,
              "#0d0887"
             ],
             [
              0.1111111111111111,
              "#46039f"
             ],
             [
              0.2222222222222222,
              "#7201a8"
             ],
             [
              0.3333333333333333,
              "#9c179e"
             ],
             [
              0.4444444444444444,
              "#bd3786"
             ],
             [
              0.5555555555555556,
              "#d8576b"
             ],
             [
              0.6666666666666666,
              "#ed7953"
             ],
             [
              0.7777777777777778,
              "#fb9f3a"
             ],
             [
              0.8888888888888888,
              "#fdca26"
             ],
             [
              1,
              "#f0f921"
             ]
            ],
            "type": "contour"
           }
          ],
          "contourcarpet": [
           {
            "colorbar": {
             "outlinewidth": 0,
             "ticks": ""
            },
            "type": "contourcarpet"
           }
          ],
          "heatmap": [
           {
            "colorbar": {
             "outlinewidth": 0,
             "ticks": ""
            },
            "colorscale": [
             [
              0,
              "#0d0887"
             ],
             [
              0.1111111111111111,
              "#46039f"
             ],
             [
              0.2222222222222222,
              "#7201a8"
             ],
             [
              0.3333333333333333,
              "#9c179e"
             ],
             [
              0.4444444444444444,
              "#bd3786"
             ],
             [
              0.5555555555555556,
              "#d8576b"
             ],
             [
              0.6666666666666666,
              "#ed7953"
             ],
             [
              0.7777777777777778,
              "#fb9f3a"
             ],
             [
              0.8888888888888888,
              "#fdca26"
             ],
             [
              1,
              "#f0f921"
             ]
            ],
            "type": "heatmap"
           }
          ],
          "heatmapgl": [
           {
            "colorbar": {
             "outlinewidth": 0,
             "ticks": ""
            },
            "colorscale": [
             [
              0,
              "#0d0887"
             ],
             [
              0.1111111111111111,
              "#46039f"
             ],
             [
              0.2222222222222222,
              "#7201a8"
             ],
             [
              0.3333333333333333,
              "#9c179e"
             ],
             [
              0.4444444444444444,
              "#bd3786"
             ],
             [
              0.5555555555555556,
              "#d8576b"
             ],
             [
              0.6666666666666666,
              "#ed7953"
             ],
             [
              0.7777777777777778,
              "#fb9f3a"
             ],
             [
              0.8888888888888888,
              "#fdca26"
             ],
             [
              1,
              "#f0f921"
             ]
            ],
            "type": "heatmapgl"
           }
          ],
          "histogram": [
           {
            "marker": {
             "pattern": {
              "fillmode": "overlay",
              "size": 10,
              "solidity": 0.2
             }
            },
            "type": "histogram"
           }
          ],
          "histogram2d": [
           {
            "colorbar": {
             "outlinewidth": 0,
             "ticks": ""
            },
            "colorscale": [
             [
              0,
              "#0d0887"
             ],
             [
              0.1111111111111111,
              "#46039f"
             ],
             [
              0.2222222222222222,
              "#7201a8"
             ],
             [
              0.3333333333333333,
              "#9c179e"
             ],
             [
              0.4444444444444444,
              "#bd3786"
             ],
             [
              0.5555555555555556,
              "#d8576b"
             ],
             [
              0.6666666666666666,
              "#ed7953"
             ],
             [
              0.7777777777777778,
              "#fb9f3a"
             ],
             [
              0.8888888888888888,
              "#fdca26"
             ],
             [
              1,
              "#f0f921"
             ]
            ],
            "type": "histogram2d"
           }
          ],
          "histogram2dcontour": [
           {
            "colorbar": {
             "outlinewidth": 0,
             "ticks": ""
            },
            "colorscale": [
             [
              0,
              "#0d0887"
             ],
             [
              0.1111111111111111,
              "#46039f"
             ],
             [
              0.2222222222222222,
              "#7201a8"
             ],
             [
              0.3333333333333333,
              "#9c179e"
             ],
             [
              0.4444444444444444,
              "#bd3786"
             ],
             [
              0.5555555555555556,
              "#d8576b"
             ],
             [
              0.6666666666666666,
              "#ed7953"
             ],
             [
              0.7777777777777778,
              "#fb9f3a"
             ],
             [
              0.8888888888888888,
              "#fdca26"
             ],
             [
              1,
              "#f0f921"
             ]
            ],
            "type": "histogram2dcontour"
           }
          ],
          "mesh3d": [
           {
            "colorbar": {
             "outlinewidth": 0,
             "ticks": ""
            },
            "type": "mesh3d"
           }
          ],
          "parcoords": [
           {
            "line": {
             "colorbar": {
              "outlinewidth": 0,
              "ticks": ""
             }
            },
            "type": "parcoords"
           }
          ],
          "pie": [
           {
            "automargin": true,
            "type": "pie"
           }
          ],
          "scatter": [
           {
            "fillpattern": {
             "fillmode": "overlay",
             "size": 10,
             "solidity": 0.2
            },
            "type": "scatter"
           }
          ],
          "scatter3d": [
           {
            "line": {
             "colorbar": {
              "outlinewidth": 0,
              "ticks": ""
             }
            },
            "marker": {
             "colorbar": {
              "outlinewidth": 0,
              "ticks": ""
             }
            },
            "type": "scatter3d"
           }
          ],
          "scattercarpet": [
           {
            "marker": {
             "colorbar": {
              "outlinewidth": 0,
              "ticks": ""
             }
            },
            "type": "scattercarpet"
           }
          ],
          "scattergeo": [
           {
            "marker": {
             "colorbar": {
              "outlinewidth": 0,
              "ticks": ""
             }
            },
            "type": "scattergeo"
           }
          ],
          "scattergl": [
           {
            "marker": {
             "colorbar": {
              "outlinewidth": 0,
              "ticks": ""
             }
            },
            "type": "scattergl"
           }
          ],
          "scattermapbox": [
           {
            "marker": {
             "colorbar": {
              "outlinewidth": 0,
              "ticks": ""
             }
            },
            "type": "scattermapbox"
           }
          ],
          "scatterpolar": [
           {
            "marker": {
             "colorbar": {
              "outlinewidth": 0,
              "ticks": ""
             }
            },
            "type": "scatterpolar"
           }
          ],
          "scatterpolargl": [
           {
            "marker": {
             "colorbar": {
              "outlinewidth": 0,
              "ticks": ""
             }
            },
            "type": "scatterpolargl"
           }
          ],
          "scatterternary": [
           {
            "marker": {
             "colorbar": {
              "outlinewidth": 0,
              "ticks": ""
             }
            },
            "type": "scatterternary"
           }
          ],
          "surface": [
           {
            "colorbar": {
             "outlinewidth": 0,
             "ticks": ""
            },
            "colorscale": [
             [
              0,
              "#0d0887"
             ],
             [
              0.1111111111111111,
              "#46039f"
             ],
             [
              0.2222222222222222,
              "#7201a8"
             ],
             [
              0.3333333333333333,
              "#9c179e"
             ],
             [
              0.4444444444444444,
              "#bd3786"
             ],
             [
              0.5555555555555556,
              "#d8576b"
             ],
             [
              0.6666666666666666,
              "#ed7953"
             ],
             [
              0.7777777777777778,
              "#fb9f3a"
             ],
             [
              0.8888888888888888,
              "#fdca26"
             ],
             [
              1,
              "#f0f921"
             ]
            ],
            "type": "surface"
           }
          ],
          "table": [
           {
            "cells": {
             "fill": {
              "color": "#EBF0F8"
             },
             "line": {
              "color": "white"
             }
            },
            "header": {
             "fill": {
              "color": "#C8D4E3"
             },
             "line": {
              "color": "white"
             }
            },
            "type": "table"
           }
          ]
         },
         "layout": {
          "annotationdefaults": {
           "arrowcolor": "#2a3f5f",
           "arrowhead": 0,
           "arrowwidth": 1
          },
          "autotypenumbers": "strict",
          "coloraxis": {
           "colorbar": {
            "outlinewidth": 0,
            "ticks": ""
           }
          },
          "colorscale": {
           "diverging": [
            [
             0,
             "#8e0152"
            ],
            [
             0.1,
             "#c51b7d"
            ],
            [
             0.2,
             "#de77ae"
            ],
            [
             0.3,
             "#f1b6da"
            ],
            [
             0.4,
             "#fde0ef"
            ],
            [
             0.5,
             "#f7f7f7"
            ],
            [
             0.6,
             "#e6f5d0"
            ],
            [
             0.7,
             "#b8e186"
            ],
            [
             0.8,
             "#7fbc41"
            ],
            [
             0.9,
             "#4d9221"
            ],
            [
             1,
             "#276419"
            ]
           ],
           "sequential": [
            [
             0,
             "#0d0887"
            ],
            [
             0.1111111111111111,
             "#46039f"
            ],
            [
             0.2222222222222222,
             "#7201a8"
            ],
            [
             0.3333333333333333,
             "#9c179e"
            ],
            [
             0.4444444444444444,
             "#bd3786"
            ],
            [
             0.5555555555555556,
             "#d8576b"
            ],
            [
             0.6666666666666666,
             "#ed7953"
            ],
            [
             0.7777777777777778,
             "#fb9f3a"
            ],
            [
             0.8888888888888888,
             "#fdca26"
            ],
            [
             1,
             "#f0f921"
            ]
           ],
           "sequentialminus": [
            [
             0,
             "#0d0887"
            ],
            [
             0.1111111111111111,
             "#46039f"
            ],
            [
             0.2222222222222222,
             "#7201a8"
            ],
            [
             0.3333333333333333,
             "#9c179e"
            ],
            [
             0.4444444444444444,
             "#bd3786"
            ],
            [
             0.5555555555555556,
             "#d8576b"
            ],
            [
             0.6666666666666666,
             "#ed7953"
            ],
            [
             0.7777777777777778,
             "#fb9f3a"
            ],
            [
             0.8888888888888888,
             "#fdca26"
            ],
            [
             1,
             "#f0f921"
            ]
           ]
          },
          "colorway": [
           "#636efa",
           "#EF553B",
           "#00cc96",
           "#ab63fa",
           "#FFA15A",
           "#19d3f3",
           "#FF6692",
           "#B6E880",
           "#FF97FF",
           "#FECB52"
          ],
          "font": {
           "color": "#2a3f5f"
          },
          "geo": {
           "bgcolor": "white",
           "lakecolor": "white",
           "landcolor": "#E5ECF6",
           "showlakes": true,
           "showland": true,
           "subunitcolor": "white"
          },
          "hoverlabel": {
           "align": "left"
          },
          "hovermode": "closest",
          "mapbox": {
           "style": "light"
          },
          "paper_bgcolor": "white",
          "plot_bgcolor": "#E5ECF6",
          "polar": {
           "angularaxis": {
            "gridcolor": "white",
            "linecolor": "white",
            "ticks": ""
           },
           "bgcolor": "#E5ECF6",
           "radialaxis": {
            "gridcolor": "white",
            "linecolor": "white",
            "ticks": ""
           }
          },
          "scene": {
           "xaxis": {
            "backgroundcolor": "#E5ECF6",
            "gridcolor": "white",
            "gridwidth": 2,
            "linecolor": "white",
            "showbackground": true,
            "ticks": "",
            "zerolinecolor": "white"
           },
           "yaxis": {
            "backgroundcolor": "#E5ECF6",
            "gridcolor": "white",
            "gridwidth": 2,
            "linecolor": "white",
            "showbackground": true,
            "ticks": "",
            "zerolinecolor": "white"
           },
           "zaxis": {
            "backgroundcolor": "#E5ECF6",
            "gridcolor": "white",
            "gridwidth": 2,
            "linecolor": "white",
            "showbackground": true,
            "ticks": "",
            "zerolinecolor": "white"
           }
          },
          "shapedefaults": {
           "line": {
            "color": "#2a3f5f"
           }
          },
          "ternary": {
           "aaxis": {
            "gridcolor": "white",
            "linecolor": "white",
            "ticks": ""
           },
           "baxis": {
            "gridcolor": "white",
            "linecolor": "white",
            "ticks": ""
           },
           "bgcolor": "#E5ECF6",
           "caxis": {
            "gridcolor": "white",
            "linecolor": "white",
            "ticks": ""
           }
          },
          "title": {
           "x": 0.05
          },
          "xaxis": {
           "automargin": true,
           "gridcolor": "white",
           "linecolor": "white",
           "ticks": "",
           "title": {
            "standoff": 15
           },
           "zerolinecolor": "white",
           "zerolinewidth": 2
          },
          "yaxis": {
           "automargin": true,
           "gridcolor": "white",
           "linecolor": "white",
           "ticks": "",
           "title": {
            "standoff": 15
           },
           "zerolinecolor": "white",
           "zerolinewidth": 2
          }
         }
        },
        "title": {
         "text": "Histogram: Text Length Frequency by Category"
        },
        "width": 800,
        "xaxis": {
         "title": {
          "text": "Text Length"
         }
        },
        "yaxis": {
         "title": {
          "text": "Frequency"
         }
        }
       }
      }
     },
     "metadata": {},
     "output_type": "display_data"
    }
   ],
   "source": [
    "import plotly.graph_objects as go\n",
    "import pandas as pd\n",
    "\n",
    "# Calculamos las longitudes de texto para cada categoría\n",
    "text_lens = {label: [len(t.split()) for t in df_all['body'][df_all['category'] == label]] \n",
    "             for label in df_all['category'].unique()}\n",
    "\n",
    "# Crear un boxplot horizontal\n",
    "boxplot_horizontal = go.Figure()\n",
    "\n",
    "# Agregando los datos al boxplot\n",
    "for label, lens in text_lens.items():\n",
    "    boxplot_horizontal.add_trace(go.Box(x=lens, name=label, orientation='h'))\n",
    "\n",
    "# Actualizar layout del boxplot horizontal\n",
    "boxplot_horizontal.update_layout(height=400, width=800, title_text=\"Horizontal Boxplot: Distribution of Text Lengths by Category\")\n",
    "boxplot_horizontal.update_xaxes(title_text=\"Text Length\")\n",
    "\n",
    "# Mostrar el gráfico\n",
    "boxplot_horizontal.show()\n",
    "\n",
    "# Crear un boxplot\n",
    "boxplot = go.Figure()\n",
    "for label, lens in text_lens.items():\n",
    "    boxplot.add_trace(go.Box(y=lens, name=label))\n",
    "\n",
    "# Actualizar layout del boxplot\n",
    "boxplot.update_layout(height=400, width=800, title_text=\"Boxplot: Distribution of Text Lengths by Category\")\n",
    "boxplot.update_yaxes(title_text=\"Text Length\")\n",
    "\n",
    "# Crear un histograma\n",
    "histogram = go.Figure()\n",
    "for label, lens in text_lens.items():\n",
    "    histogram.add_trace(go.Histogram(x=lens, name=label, opacity=0.6))\n",
    "\n",
    "# Actualizar layout del histograma\n",
    "histogram.update_layout(barmode='overlay', height=400, width=800, title_text=\"Histogram: Text Length Frequency by Category\")\n",
    "histogram.update_xaxes(title_text=\"Text Length\")\n",
    "histogram.update_yaxes(title_text=\"Frequency\")\n",
    "histogram.show()"
   ]
  },
  {
   "cell_type": "markdown",
   "metadata": {},
   "source": [
    "### Archivos locales"
   ]
  },
  {
   "cell_type": "code",
   "execution_count": 8,
   "metadata": {},
   "outputs": [
    {
     "name": "stdout",
     "output_type": "stream",
     "text": [
      "<class 'pandas.core.frame.DataFrame'>\n",
      "RangeIndex: 198 entries, 0 to 197\n",
      "Data columns (total 9 columns):\n",
      " #   Column               Non-Null Count  Dtype \n",
      "---  ------               --------------  ----- \n",
      " 0   Nombres y Apellidos  197 non-null    object\n",
      " 1   Paradero (Mañana)    197 non-null    object\n",
      " 2   Paradero(Noche)      197 non-null    object\n",
      " 3   Código               198 non-null    object\n",
      " 4   Celular              198 non-null    object\n",
      " 5   Facultad             198 non-null    object\n",
      " 6   Carrera              198 non-null    object\n",
      " 7   Ciclo Matriculado    198 non-null    int64 \n",
      " 8   Sexo                 198 non-null    object\n",
      "dtypes: int64(1), object(8)\n",
      "memory usage: 14.0+ KB\n"
     ]
    }
   ],
   "source": [
    "import pandas as pd\n",
    "\n",
    "df = pd.read_excel('Data\\Puente Piedra con números.xlsx')\n",
    "df.info()"
   ]
  },
  {
   "cell_type": "code",
   "execution_count": 9,
   "metadata": {},
   "outputs": [],
   "source": [
    "from unidecode import unidecode\n",
    "import numpy as np\n",
    "\n",
    "\n",
    "df['Paradero (Mañana)'] = df['Paradero (Mañana)'].apply(lambda x: str(x).replace('\\xa0',' '))\n",
    "df['Paradero (Mañana)'] = df['Paradero (Mañana)'].str.strip()\n",
    "df['Paradero (Mañana)'] = df['Paradero (Mañana)'].str.upper()\n",
    "df['Paradero (Mañana)'] = df['Paradero (Mañana)'].apply(lambda x: unidecode(x).upper() if isinstance(x, str) else x)\n",
    "df['Paradero (Mañana)'] = df['Paradero (Mañana)'].replace(['-', 'NAN'], np.nan)\n",
    "\n",
    "df['Paradero(Noche)'] = df['Paradero(Noche)'].apply(lambda x: str(x).replace('\\xa0',' '))\n",
    "df['Paradero(Noche)'] = df['Paradero(Noche)'].str.strip()\n",
    "df['Paradero(Noche)'] = df['Paradero(Noche)'].str.upper()\n",
    "df['Paradero(Noche)'] = df['Paradero(Noche)'].apply(lambda x: unidecode(x).upper() if isinstance(x, str) else x)\n",
    "df['Paradero(Noche)'] = df['Paradero(Noche)'].replace(['-', 'NAN'], np.nan)\n",
    "df['Paradero(Noche)'] = df['Paradero(Noche)'].replace('ROSALUZ', 'ROSA LUZ')\n",
    "df['Paradero(Noche)'] = df['Paradero(Noche)'].replace('ZAPALLAL/SAN PEDRO', 'OVALO ZAPALLAL/SAN PEDRO')"
   ]
  },
  {
   "cell_type": "code",
   "execution_count": 10,
   "metadata": {},
   "outputs": [
    {
     "name": "stdout",
     "output_type": "stream",
     "text": [
      "['FUNDICION' 'OVALO ZAPALLAL/SAN PEDRO' 'ESTABLO' 'PRO' 'NORTENO'\n",
      " 'HOSPITAL' 'OVALO ZAPALLAL' 'SANTA ROSA' 'VILLA ESTELA' 'SHANGRI-LA'\n",
      " 'HOGAR' 'ROSA LUZ' 'VILLASOL' nan 'CASETA' 'TRES RUEDAS' 'SANTA LUISA'\n",
      " 'TRES POSTES/CASETA'] ['FUNDICION' 'OVALO ZAPALLAL/SAN PEDRO' 'ESTABLO' 'PRO' 'NORTENO' 'TOTTUS'\n",
      " 'OVALO ZAPALLAL' 'SANTA ROSA' 'VILLA ESTELA' 'CRUCE' 'SHANGRI-LA' 'HOGAR'\n",
      " 'ROSA LUZ' 'HOSPITAL' 'VILLASOL' nan 'CASETA' 'TOTTUS/SAN PEDRO'\n",
      " 'TRES RUEDAS' 'SANTA LUISA' 'TRES POSTES/CASETA' 'ARICA']\n"
     ]
    }
   ],
   "source": [
    "name_whereabouts_morning = df['Paradero (Mañana)'].unique()\n",
    "name_whereabouts_ninght = df['Paradero(Noche)'].unique()\n",
    "\n",
    "print(name_whereabouts_morning , name_whereabouts_ninght)"
   ]
  },
  {
   "cell_type": "code",
   "execution_count": 12,
   "metadata": {},
   "outputs": [],
   "source": [
    "whereabouts_uniques = pd.unique(np.concatenate((name_whereabouts_morning, name_whereabouts_ninght)))\n",
    "\n",
    "df_stops = pd.DataFrame(whereabouts_uniques, columns=['Stop'])\n",
    "\n",
    "# Remove NaN values\n",
    "df_stops.dropna(inplace=True)\n",
    "\n",
    "# Reset the index to start at 1 and use it as Stop_ID\n",
    "df_stops.reset_index(drop=True, inplace=True)\n",
    "df_stops.index += 1\n",
    "df_stops['Stop_ID'] = df_stops.index"
   ]
  },
  {
   "cell_type": "code",
   "execution_count": 15,
   "metadata": {},
   "outputs": [
    {
     "data": {
      "text/plain": [
       "1                    FUNDICION\n",
       "2     OVALO ZAPALLAL/SAN PEDRO\n",
       "3                      ESTABLO\n",
       "4                          PRO\n",
       "5                      NORTENO\n",
       "6                     HOSPITAL\n",
       "7               OVALO ZAPALLAL\n",
       "8                   SANTA ROSA\n",
       "9                 VILLA ESTELA\n",
       "10                  SHANGRI-LA\n",
       "11                       HOGAR\n",
       "12                    ROSA LUZ\n",
       "13                    VILLASOL\n",
       "14                      CASETA\n",
       "15                 TRES RUEDAS\n",
       "16                 SANTA LUISA\n",
       "17          TRES POSTES/CASETA\n",
       "18                      TOTTUS\n",
       "19                       CRUCE\n",
       "20            TOTTUS/SAN PEDRO\n",
       "21                       ARICA\n",
       "Name: Stop, dtype: object"
      ]
     },
     "execution_count": 15,
     "metadata": {},
     "output_type": "execute_result"
    }
   ],
   "source": [
    "df_stops['Stop']"
   ]
  },
  {
   "cell_type": "code",
   "execution_count": 16,
   "metadata": {},
   "outputs": [],
   "source": [
    "import uuid\n",
    "\n",
    "df['user_id'] = [uuid.uuid4() for _ in range(len(df))]"
   ]
  },
  {
   "cell_type": "code",
   "execution_count": 17,
   "metadata": {},
   "outputs": [],
   "source": [
    "df_demand_morning = df.groupby('Paradero (Mañana)').size().sort_values(ascending=False)\n",
    "df_demand_night = df.groupby('Paradero(Noche)').size().sort_values(ascending=False)"
   ]
  },
  {
   "cell_type": "code",
   "execution_count": 18,
   "metadata": {},
   "outputs": [
    {
     "data": {
      "application/vnd.plotly.v1+json": {
       "config": {
        "plotlyServerURL": "https://plot.ly"
       },
       "data": [
        {
         "alignmentgroup": "True",
         "hovertemplate": "variable=0<br>Paradero (Mañana)=%{x}<br>value=%{text}<extra></extra>",
         "legendgroup": "0",
         "marker": {
          "color": "#636efa",
          "pattern": {
           "shape": ""
          }
         },
         "name": "0",
         "offsetgroup": "0",
         "orientation": "v",
         "showlegend": true,
         "text": [
          35,
          23,
          23,
          20,
          18,
          15,
          14,
          12,
          10,
          9,
          4,
          2,
          2,
          2,
          1,
          1,
          1
         ],
         "textposition": "outside",
         "texttemplate": "%{text}",
         "type": "bar",
         "x": [
          "OVALO ZAPALLAL",
          "PRO",
          "HOSPITAL",
          "ESTABLO",
          "NORTENO",
          "FUNDICION",
          "ROSA LUZ",
          "HOGAR",
          "VILLA ESTELA",
          "SANTA ROSA",
          "VILLASOL",
          "SANTA LUISA",
          "OVALO ZAPALLAL/SAN PEDRO",
          "CASETA",
          "SHANGRI-LA",
          "TRES POSTES/CASETA",
          "TRES RUEDAS"
         ],
         "xaxis": "x",
         "y": [
          35,
          23,
          23,
          20,
          18,
          15,
          14,
          12,
          10,
          9,
          4,
          2,
          2,
          2,
          1,
          1,
          1
         ],
         "yaxis": "y"
        }
       ],
       "layout": {
        "barmode": "relative",
        "legend": {
         "title": {
          "text": "variable"
         },
         "tracegroupgap": 0
        },
        "template": {
         "data": {
          "bar": [
           {
            "error_x": {
             "color": "#2a3f5f"
            },
            "error_y": {
             "color": "#2a3f5f"
            },
            "marker": {
             "line": {
              "color": "#E5ECF6",
              "width": 0.5
             },
             "pattern": {
              "fillmode": "overlay",
              "size": 10,
              "solidity": 0.2
             }
            },
            "type": "bar"
           }
          ],
          "barpolar": [
           {
            "marker": {
             "line": {
              "color": "#E5ECF6",
              "width": 0.5
             },
             "pattern": {
              "fillmode": "overlay",
              "size": 10,
              "solidity": 0.2
             }
            },
            "type": "barpolar"
           }
          ],
          "carpet": [
           {
            "aaxis": {
             "endlinecolor": "#2a3f5f",
             "gridcolor": "white",
             "linecolor": "white",
             "minorgridcolor": "white",
             "startlinecolor": "#2a3f5f"
            },
            "baxis": {
             "endlinecolor": "#2a3f5f",
             "gridcolor": "white",
             "linecolor": "white",
             "minorgridcolor": "white",
             "startlinecolor": "#2a3f5f"
            },
            "type": "carpet"
           }
          ],
          "choropleth": [
           {
            "colorbar": {
             "outlinewidth": 0,
             "ticks": ""
            },
            "type": "choropleth"
           }
          ],
          "contour": [
           {
            "colorbar": {
             "outlinewidth": 0,
             "ticks": ""
            },
            "colorscale": [
             [
              0,
              "#0d0887"
             ],
             [
              0.1111111111111111,
              "#46039f"
             ],
             [
              0.2222222222222222,
              "#7201a8"
             ],
             [
              0.3333333333333333,
              "#9c179e"
             ],
             [
              0.4444444444444444,
              "#bd3786"
             ],
             [
              0.5555555555555556,
              "#d8576b"
             ],
             [
              0.6666666666666666,
              "#ed7953"
             ],
             [
              0.7777777777777778,
              "#fb9f3a"
             ],
             [
              0.8888888888888888,
              "#fdca26"
             ],
             [
              1,
              "#f0f921"
             ]
            ],
            "type": "contour"
           }
          ],
          "contourcarpet": [
           {
            "colorbar": {
             "outlinewidth": 0,
             "ticks": ""
            },
            "type": "contourcarpet"
           }
          ],
          "heatmap": [
           {
            "colorbar": {
             "outlinewidth": 0,
             "ticks": ""
            },
            "colorscale": [
             [
              0,
              "#0d0887"
             ],
             [
              0.1111111111111111,
              "#46039f"
             ],
             [
              0.2222222222222222,
              "#7201a8"
             ],
             [
              0.3333333333333333,
              "#9c179e"
             ],
             [
              0.4444444444444444,
              "#bd3786"
             ],
             [
              0.5555555555555556,
              "#d8576b"
             ],
             [
              0.6666666666666666,
              "#ed7953"
             ],
             [
              0.7777777777777778,
              "#fb9f3a"
             ],
             [
              0.8888888888888888,
              "#fdca26"
             ],
             [
              1,
              "#f0f921"
             ]
            ],
            "type": "heatmap"
           }
          ],
          "heatmapgl": [
           {
            "colorbar": {
             "outlinewidth": 0,
             "ticks": ""
            },
            "colorscale": [
             [
              0,
              "#0d0887"
             ],
             [
              0.1111111111111111,
              "#46039f"
             ],
             [
              0.2222222222222222,
              "#7201a8"
             ],
             [
              0.3333333333333333,
              "#9c179e"
             ],
             [
              0.4444444444444444,
              "#bd3786"
             ],
             [
              0.5555555555555556,
              "#d8576b"
             ],
             [
              0.6666666666666666,
              "#ed7953"
             ],
             [
              0.7777777777777778,
              "#fb9f3a"
             ],
             [
              0.8888888888888888,
              "#fdca26"
             ],
             [
              1,
              "#f0f921"
             ]
            ],
            "type": "heatmapgl"
           }
          ],
          "histogram": [
           {
            "marker": {
             "pattern": {
              "fillmode": "overlay",
              "size": 10,
              "solidity": 0.2
             }
            },
            "type": "histogram"
           }
          ],
          "histogram2d": [
           {
            "colorbar": {
             "outlinewidth": 0,
             "ticks": ""
            },
            "colorscale": [
             [
              0,
              "#0d0887"
             ],
             [
              0.1111111111111111,
              "#46039f"
             ],
             [
              0.2222222222222222,
              "#7201a8"
             ],
             [
              0.3333333333333333,
              "#9c179e"
             ],
             [
              0.4444444444444444,
              "#bd3786"
             ],
             [
              0.5555555555555556,
              "#d8576b"
             ],
             [
              0.6666666666666666,
              "#ed7953"
             ],
             [
              0.7777777777777778,
              "#fb9f3a"
             ],
             [
              0.8888888888888888,
              "#fdca26"
             ],
             [
              1,
              "#f0f921"
             ]
            ],
            "type": "histogram2d"
           }
          ],
          "histogram2dcontour": [
           {
            "colorbar": {
             "outlinewidth": 0,
             "ticks": ""
            },
            "colorscale": [
             [
              0,
              "#0d0887"
             ],
             [
              0.1111111111111111,
              "#46039f"
             ],
             [
              0.2222222222222222,
              "#7201a8"
             ],
             [
              0.3333333333333333,
              "#9c179e"
             ],
             [
              0.4444444444444444,
              "#bd3786"
             ],
             [
              0.5555555555555556,
              "#d8576b"
             ],
             [
              0.6666666666666666,
              "#ed7953"
             ],
             [
              0.7777777777777778,
              "#fb9f3a"
             ],
             [
              0.8888888888888888,
              "#fdca26"
             ],
             [
              1,
              "#f0f921"
             ]
            ],
            "type": "histogram2dcontour"
           }
          ],
          "mesh3d": [
           {
            "colorbar": {
             "outlinewidth": 0,
             "ticks": ""
            },
            "type": "mesh3d"
           }
          ],
          "parcoords": [
           {
            "line": {
             "colorbar": {
              "outlinewidth": 0,
              "ticks": ""
             }
            },
            "type": "parcoords"
           }
          ],
          "pie": [
           {
            "automargin": true,
            "type": "pie"
           }
          ],
          "scatter": [
           {
            "fillpattern": {
             "fillmode": "overlay",
             "size": 10,
             "solidity": 0.2
            },
            "type": "scatter"
           }
          ],
          "scatter3d": [
           {
            "line": {
             "colorbar": {
              "outlinewidth": 0,
              "ticks": ""
             }
            },
            "marker": {
             "colorbar": {
              "outlinewidth": 0,
              "ticks": ""
             }
            },
            "type": "scatter3d"
           }
          ],
          "scattercarpet": [
           {
            "marker": {
             "colorbar": {
              "outlinewidth": 0,
              "ticks": ""
             }
            },
            "type": "scattercarpet"
           }
          ],
          "scattergeo": [
           {
            "marker": {
             "colorbar": {
              "outlinewidth": 0,
              "ticks": ""
             }
            },
            "type": "scattergeo"
           }
          ],
          "scattergl": [
           {
            "marker": {
             "colorbar": {
              "outlinewidth": 0,
              "ticks": ""
             }
            },
            "type": "scattergl"
           }
          ],
          "scattermapbox": [
           {
            "marker": {
             "colorbar": {
              "outlinewidth": 0,
              "ticks": ""
             }
            },
            "type": "scattermapbox"
           }
          ],
          "scatterpolar": [
           {
            "marker": {
             "colorbar": {
              "outlinewidth": 0,
              "ticks": ""
             }
            },
            "type": "scatterpolar"
           }
          ],
          "scatterpolargl": [
           {
            "marker": {
             "colorbar": {
              "outlinewidth": 0,
              "ticks": ""
             }
            },
            "type": "scatterpolargl"
           }
          ],
          "scatterternary": [
           {
            "marker": {
             "colorbar": {
              "outlinewidth": 0,
              "ticks": ""
             }
            },
            "type": "scatterternary"
           }
          ],
          "surface": [
           {
            "colorbar": {
             "outlinewidth": 0,
             "ticks": ""
            },
            "colorscale": [
             [
              0,
              "#0d0887"
             ],
             [
              0.1111111111111111,
              "#46039f"
             ],
             [
              0.2222222222222222,
              "#7201a8"
             ],
             [
              0.3333333333333333,
              "#9c179e"
             ],
             [
              0.4444444444444444,
              "#bd3786"
             ],
             [
              0.5555555555555556,
              "#d8576b"
             ],
             [
              0.6666666666666666,
              "#ed7953"
             ],
             [
              0.7777777777777778,
              "#fb9f3a"
             ],
             [
              0.8888888888888888,
              "#fdca26"
             ],
             [
              1,
              "#f0f921"
             ]
            ],
            "type": "surface"
           }
          ],
          "table": [
           {
            "cells": {
             "fill": {
              "color": "#EBF0F8"
             },
             "line": {
              "color": "white"
             }
            },
            "header": {
             "fill": {
              "color": "#C8D4E3"
             },
             "line": {
              "color": "white"
             }
            },
            "type": "table"
           }
          ]
         },
         "layout": {
          "annotationdefaults": {
           "arrowcolor": "#2a3f5f",
           "arrowhead": 0,
           "arrowwidth": 1
          },
          "autotypenumbers": "strict",
          "coloraxis": {
           "colorbar": {
            "outlinewidth": 0,
            "ticks": ""
           }
          },
          "colorscale": {
           "diverging": [
            [
             0,
             "#8e0152"
            ],
            [
             0.1,
             "#c51b7d"
            ],
            [
             0.2,
             "#de77ae"
            ],
            [
             0.3,
             "#f1b6da"
            ],
            [
             0.4,
             "#fde0ef"
            ],
            [
             0.5,
             "#f7f7f7"
            ],
            [
             0.6,
             "#e6f5d0"
            ],
            [
             0.7,
             "#b8e186"
            ],
            [
             0.8,
             "#7fbc41"
            ],
            [
             0.9,
             "#4d9221"
            ],
            [
             1,
             "#276419"
            ]
           ],
           "sequential": [
            [
             0,
             "#0d0887"
            ],
            [
             0.1111111111111111,
             "#46039f"
            ],
            [
             0.2222222222222222,
             "#7201a8"
            ],
            [
             0.3333333333333333,
             "#9c179e"
            ],
            [
             0.4444444444444444,
             "#bd3786"
            ],
            [
             0.5555555555555556,
             "#d8576b"
            ],
            [
             0.6666666666666666,
             "#ed7953"
            ],
            [
             0.7777777777777778,
             "#fb9f3a"
            ],
            [
             0.8888888888888888,
             "#fdca26"
            ],
            [
             1,
             "#f0f921"
            ]
           ],
           "sequentialminus": [
            [
             0,
             "#0d0887"
            ],
            [
             0.1111111111111111,
             "#46039f"
            ],
            [
             0.2222222222222222,
             "#7201a8"
            ],
            [
             0.3333333333333333,
             "#9c179e"
            ],
            [
             0.4444444444444444,
             "#bd3786"
            ],
            [
             0.5555555555555556,
             "#d8576b"
            ],
            [
             0.6666666666666666,
             "#ed7953"
            ],
            [
             0.7777777777777778,
             "#fb9f3a"
            ],
            [
             0.8888888888888888,
             "#fdca26"
            ],
            [
             1,
             "#f0f921"
            ]
           ]
          },
          "colorway": [
           "#636efa",
           "#EF553B",
           "#00cc96",
           "#ab63fa",
           "#FFA15A",
           "#19d3f3",
           "#FF6692",
           "#B6E880",
           "#FF97FF",
           "#FECB52"
          ],
          "font": {
           "color": "#2a3f5f"
          },
          "geo": {
           "bgcolor": "white",
           "lakecolor": "white",
           "landcolor": "#E5ECF6",
           "showlakes": true,
           "showland": true,
           "subunitcolor": "white"
          },
          "hoverlabel": {
           "align": "left"
          },
          "hovermode": "closest",
          "mapbox": {
           "style": "light"
          },
          "paper_bgcolor": "white",
          "plot_bgcolor": "#E5ECF6",
          "polar": {
           "angularaxis": {
            "gridcolor": "white",
            "linecolor": "white",
            "ticks": ""
           },
           "bgcolor": "#E5ECF6",
           "radialaxis": {
            "gridcolor": "white",
            "linecolor": "white",
            "ticks": ""
           }
          },
          "scene": {
           "xaxis": {
            "backgroundcolor": "#E5ECF6",
            "gridcolor": "white",
            "gridwidth": 2,
            "linecolor": "white",
            "showbackground": true,
            "ticks": "",
            "zerolinecolor": "white"
           },
           "yaxis": {
            "backgroundcolor": "#E5ECF6",
            "gridcolor": "white",
            "gridwidth": 2,
            "linecolor": "white",
            "showbackground": true,
            "ticks": "",
            "zerolinecolor": "white"
           },
           "zaxis": {
            "backgroundcolor": "#E5ECF6",
            "gridcolor": "white",
            "gridwidth": 2,
            "linecolor": "white",
            "showbackground": true,
            "ticks": "",
            "zerolinecolor": "white"
           }
          },
          "shapedefaults": {
           "line": {
            "color": "#2a3f5f"
           }
          },
          "ternary": {
           "aaxis": {
            "gridcolor": "white",
            "linecolor": "white",
            "ticks": ""
           },
           "baxis": {
            "gridcolor": "white",
            "linecolor": "white",
            "ticks": ""
           },
           "bgcolor": "#E5ECF6",
           "caxis": {
            "gridcolor": "white",
            "linecolor": "white",
            "ticks": ""
           }
          },
          "title": {
           "x": 0.05
          },
          "xaxis": {
           "automargin": true,
           "gridcolor": "white",
           "linecolor": "white",
           "ticks": "",
           "title": {
            "standoff": 15
           },
           "zerolinecolor": "white",
           "zerolinewidth": 2
          },
          "yaxis": {
           "automargin": true,
           "gridcolor": "white",
           "linecolor": "white",
           "ticks": "",
           "title": {
            "standoff": 15
           },
           "zerolinecolor": "white",
           "zerolinewidth": 2
          }
         }
        },
        "title": {
         "text": "Number of People per Stop"
        },
        "xaxis": {
         "anchor": "y",
         "categoryorder": "total descending",
         "domain": [
          0,
          1
         ],
         "title": {
          "text": "Stop"
         }
        },
        "yaxis": {
         "anchor": "x",
         "domain": [
          0,
          1
         ],
         "range": [
          0,
          42
         ],
         "title": {
          "text": "Number of People"
         }
        }
       }
      }
     },
     "metadata": {},
     "output_type": "display_data"
    }
   ],
   "source": [
    "import plotly.express as px\n",
    "\n",
    "fig = px.bar(df_demand_morning, title='Number of People per Stop', text='value')\n",
    "fig.update_traces(texttemplate='%{text}', textposition='outside')\n",
    "fig.update_layout(yaxis=dict(range=[0, df_demand_morning.values.max() * 1.2]),\n",
    "                  xaxis_title=\"Stop\",\n",
    "                  yaxis_title=\"Number of People\",\n",
    "                  xaxis={'categoryorder':'total descending'})\n"
   ]
  },
  {
   "cell_type": "code",
   "execution_count": 28,
   "metadata": {},
   "outputs": [
    {
     "data": {
      "text/html": [
       "<div>\n",
       "<style scoped>\n",
       "    .dataframe tbody tr th:only-of-type {\n",
       "        vertical-align: middle;\n",
       "    }\n",
       "\n",
       "    .dataframe tbody tr th {\n",
       "        vertical-align: top;\n",
       "    }\n",
       "\n",
       "    .dataframe thead th {\n",
       "        text-align: right;\n",
       "    }\n",
       "</style>\n",
       "<table border=\"1\" class=\"dataframe\">\n",
       "  <thead>\n",
       "    <tr style=\"text-align: right;\">\n",
       "      <th></th>\n",
       "      <th>Stop</th>\n",
       "      <th>Stop_ID</th>\n",
       "      <th>Latitud</th>\n",
       "      <th>Longitud</th>\n",
       "      <th>Latitude</th>\n",
       "      <th>Longitude</th>\n",
       "    </tr>\n",
       "  </thead>\n",
       "  <tbody>\n",
       "    <tr>\n",
       "      <th>1</th>\n",
       "      <td>FUNDICION</td>\n",
       "      <td>1</td>\n",
       "      <td>-11.833522</td>\n",
       "      <td>-77.113407</td>\n",
       "      <td>-11.833522</td>\n",
       "      <td>-77.113407</td>\n",
       "    </tr>\n",
       "    <tr>\n",
       "      <th>2</th>\n",
       "      <td>OVALO ZAPALLAL/SAN PEDRO</td>\n",
       "      <td>2</td>\n",
       "      <td>-11.843023</td>\n",
       "      <td>-77.101702</td>\n",
       "      <td>-11.843023</td>\n",
       "      <td>-77.101702</td>\n",
       "    </tr>\n",
       "    <tr>\n",
       "      <th>3</th>\n",
       "      <td>ESTABLO</td>\n",
       "      <td>3</td>\n",
       "      <td>-11.862169</td>\n",
       "      <td>-77.077864</td>\n",
       "      <td>-11.862169</td>\n",
       "      <td>-77.077864</td>\n",
       "    </tr>\n",
       "    <tr>\n",
       "      <th>4</th>\n",
       "      <td>PRO</td>\n",
       "      <td>4</td>\n",
       "      <td>-11.932718</td>\n",
       "      <td>-77.072322</td>\n",
       "      <td>-11.932718</td>\n",
       "      <td>-77.072322</td>\n",
       "    </tr>\n",
       "    <tr>\n",
       "      <th>5</th>\n",
       "      <td>NORTENO</td>\n",
       "      <td>5</td>\n",
       "      <td>-11.856781</td>\n",
       "      <td>-77.084444</td>\n",
       "      <td>-11.856781</td>\n",
       "      <td>-77.084444</td>\n",
       "    </tr>\n",
       "    <tr>\n",
       "      <th>6</th>\n",
       "      <td>HOSPITAL</td>\n",
       "      <td>6</td>\n",
       "      <td>-11.858023</td>\n",
       "      <td>-77.082946</td>\n",
       "      <td>-11.858023</td>\n",
       "      <td>-77.082946</td>\n",
       "    </tr>\n",
       "    <tr>\n",
       "      <th>7</th>\n",
       "      <td>OVALO ZAPALLAL</td>\n",
       "      <td>7</td>\n",
       "      <td>-11.843141</td>\n",
       "      <td>-77.101462</td>\n",
       "      <td>-11.843141</td>\n",
       "      <td>-77.101462</td>\n",
       "    </tr>\n",
       "    <tr>\n",
       "      <th>8</th>\n",
       "      <td>SANTA ROSA</td>\n",
       "      <td>8</td>\n",
       "      <td>-11.798664</td>\n",
       "      <td>-77.140471</td>\n",
       "      <td>-11.798664</td>\n",
       "      <td>-77.140471</td>\n",
       "    </tr>\n",
       "    <tr>\n",
       "      <th>9</th>\n",
       "      <td>VILLA ESTELA</td>\n",
       "      <td>9</td>\n",
       "      <td>-11.812206</td>\n",
       "      <td>-77.128406</td>\n",
       "      <td>-11.812206</td>\n",
       "      <td>-77.128406</td>\n",
       "    </tr>\n",
       "    <tr>\n",
       "      <th>10</th>\n",
       "      <td>SHANGRI-LA</td>\n",
       "      <td>10</td>\n",
       "      <td>-11.913826</td>\n",
       "      <td>-77.073663</td>\n",
       "      <td>-11.913826</td>\n",
       "      <td>-77.073663</td>\n",
       "    </tr>\n",
       "    <tr>\n",
       "      <th>11</th>\n",
       "      <td>HOGAR</td>\n",
       "      <td>11</td>\n",
       "      <td>-11.821866</td>\n",
       "      <td>-77.122479</td>\n",
       "      <td>-11.821866</td>\n",
       "      <td>-77.122479</td>\n",
       "    </tr>\n",
       "    <tr>\n",
       "      <th>12</th>\n",
       "      <td>ROSA LUZ</td>\n",
       "      <td>12</td>\n",
       "      <td>-11.880168</td>\n",
       "      <td>-77.068871</td>\n",
       "      <td>-11.880168</td>\n",
       "      <td>-77.068871</td>\n",
       "    </tr>\n",
       "    <tr>\n",
       "      <th>13</th>\n",
       "      <td>VILLASOL</td>\n",
       "      <td>13</td>\n",
       "      <td>-11.959177</td>\n",
       "      <td>-77.068734</td>\n",
       "      <td>-11.959177</td>\n",
       "      <td>-77.068734</td>\n",
       "    </tr>\n",
       "    <tr>\n",
       "      <th>14</th>\n",
       "      <td>CASETA</td>\n",
       "      <td>14</td>\n",
       "      <td>-11.982162</td>\n",
       "      <td>-77.065281</td>\n",
       "      <td>-11.982162</td>\n",
       "      <td>-77.065281</td>\n",
       "    </tr>\n",
       "    <tr>\n",
       "      <th>15</th>\n",
       "      <td>TRES RUEDAS</td>\n",
       "      <td>15</td>\n",
       "      <td>-11.900876</td>\n",
       "      <td>-77.067681</td>\n",
       "      <td>-11.900876</td>\n",
       "      <td>-77.067681</td>\n",
       "    </tr>\n",
       "    <tr>\n",
       "      <th>16</th>\n",
       "      <td>SANTA LUISA</td>\n",
       "      <td>16</td>\n",
       "      <td>-11.953048</td>\n",
       "      <td>-77.069652</td>\n",
       "      <td>-11.953048</td>\n",
       "      <td>-77.069652</td>\n",
       "    </tr>\n",
       "    <tr>\n",
       "      <th>17</th>\n",
       "      <td>TRES POSTES/CASETA</td>\n",
       "      <td>17</td>\n",
       "      <td>-11.966449</td>\n",
       "      <td>-77.067578</td>\n",
       "      <td>-11.966449</td>\n",
       "      <td>-77.067578</td>\n",
       "    </tr>\n",
       "    <tr>\n",
       "      <th>18</th>\n",
       "      <td>TOTTUS</td>\n",
       "      <td>18</td>\n",
       "      <td>-11.867675</td>\n",
       "      <td>-77.072358</td>\n",
       "      <td>-11.867675</td>\n",
       "      <td>-77.072358</td>\n",
       "    </tr>\n",
       "    <tr>\n",
       "      <th>19</th>\n",
       "      <td>CRUCE</td>\n",
       "      <td>19</td>\n",
       "      <td>-11.836445</td>\n",
       "      <td>-77.110004</td>\n",
       "      <td>-11.836445</td>\n",
       "      <td>-77.110004</td>\n",
       "    </tr>\n",
       "    <tr>\n",
       "      <th>20</th>\n",
       "      <td>TOTTUS/SAN PEDRO</td>\n",
       "      <td>20</td>\n",
       "      <td>-11.864528</td>\n",
       "      <td>-77.074432</td>\n",
       "      <td>-11.864528</td>\n",
       "      <td>-77.074432</td>\n",
       "    </tr>\n",
       "    <tr>\n",
       "      <th>21</th>\n",
       "      <td>ARICA</td>\n",
       "      <td>21</td>\n",
       "      <td>-11.853214</td>\n",
       "      <td>-77.088884</td>\n",
       "      <td>-11.853214</td>\n",
       "      <td>-77.088884</td>\n",
       "    </tr>\n",
       "  </tbody>\n",
       "</table>\n",
       "</div>"
      ],
      "text/plain": [
       "                        Stop  Stop_ID    Latitud   Longitud   Latitude  \\\n",
       "1                  FUNDICION        1 -11.833522 -77.113407 -11.833522   \n",
       "2   OVALO ZAPALLAL/SAN PEDRO        2 -11.843023 -77.101702 -11.843023   \n",
       "3                    ESTABLO        3 -11.862169 -77.077864 -11.862169   \n",
       "4                        PRO        4 -11.932718 -77.072322 -11.932718   \n",
       "5                    NORTENO        5 -11.856781 -77.084444 -11.856781   \n",
       "6                   HOSPITAL        6 -11.858023 -77.082946 -11.858023   \n",
       "7             OVALO ZAPALLAL        7 -11.843141 -77.101462 -11.843141   \n",
       "8                 SANTA ROSA        8 -11.798664 -77.140471 -11.798664   \n",
       "9               VILLA ESTELA        9 -11.812206 -77.128406 -11.812206   \n",
       "10                SHANGRI-LA       10 -11.913826 -77.073663 -11.913826   \n",
       "11                     HOGAR       11 -11.821866 -77.122479 -11.821866   \n",
       "12                  ROSA LUZ       12 -11.880168 -77.068871 -11.880168   \n",
       "13                  VILLASOL       13 -11.959177 -77.068734 -11.959177   \n",
       "14                    CASETA       14 -11.982162 -77.065281 -11.982162   \n",
       "15               TRES RUEDAS       15 -11.900876 -77.067681 -11.900876   \n",
       "16               SANTA LUISA       16 -11.953048 -77.069652 -11.953048   \n",
       "17        TRES POSTES/CASETA       17 -11.966449 -77.067578 -11.966449   \n",
       "18                    TOTTUS       18 -11.867675 -77.072358 -11.867675   \n",
       "19                     CRUCE       19 -11.836445 -77.110004 -11.836445   \n",
       "20          TOTTUS/SAN PEDRO       20 -11.864528 -77.074432 -11.864528   \n",
       "21                     ARICA       21 -11.853214 -77.088884 -11.853214   \n",
       "\n",
       "    Longitude  \n",
       "1  -77.113407  \n",
       "2  -77.101702  \n",
       "3  -77.077864  \n",
       "4  -77.072322  \n",
       "5  -77.084444  \n",
       "6  -77.082946  \n",
       "7  -77.101462  \n",
       "8  -77.140471  \n",
       "9  -77.128406  \n",
       "10 -77.073663  \n",
       "11 -77.122479  \n",
       "12 -77.068871  \n",
       "13 -77.068734  \n",
       "14 -77.065281  \n",
       "15 -77.067681  \n",
       "16 -77.069652  \n",
       "17 -77.067578  \n",
       "18 -77.072358  \n",
       "19 -77.110004  \n",
       "20 -77.074432  \n",
       "21 -77.088884  "
      ]
     },
     "execution_count": 28,
     "metadata": {},
     "output_type": "execute_result"
    }
   ],
   "source": [
    "df_locations = df.loc[:,['user_id', 'Paradero (Mañana)','Paradero(Noche)']]\n",
    "df_academic_info = df.loc[:, ['user_id','Facultad','Carrera']]\n",
    "df_user_info = df.loc[:, ['user_id', 'Nombres y Apellidos', 'Código', 'Sexo', 'Ciclo Matriculado']]\n",
    "\n",
    "map_stop = pd.Series(df_stops.Stop_ID.values, index=df_stops.Stop).to_dict()\n",
    "df_locations['Paradero (Mañana)'] = df_locations['Paradero (Mañana)'].map(map_stop)\n",
    "df_locations['Paradero(Noche)'] = df_locations['Paradero(Noche)'].map(map_stop)\n",
    "# Provided coordinates\n",
    "coordinates = [\n",
    "    (-11.833521765869813, -77.1134069578465),\n",
    "    (-11.843023105367193, -77.10170159033105),\n",
    "    (-11.862169131562387, -77.0778637172763),\n",
    "    (-11.93271774760639, -77.07232194267901),\n",
    "    (-11.856781489866353, -77.08444414595633),\n",
    "    (-11.858022651302019, -77.0829460980413),\n",
    "    (-11.843141089927007, -77.1014620573036),\n",
    "    (-11.79866362669378, -77.14047122579126),\n",
    "    (-11.812206448958586, -77.12840638030114),\n",
    "    (-11.913825733595084, -77.0736633825659),\n",
    "    (-11.821866440504943, -77.12247949955984),\n",
    "    (-11.88016818411576, -77.06887124552881),\n",
    "    (-11.95917691167808, -77.0687340108642),\n",
    "    (-11.98216243528904, -77.06528063398528),\n",
    "    (-11.900875591910829, -77.06768109979721),\n",
    "    (-11.95304806897095, -77.06965211160734),\n",
    "    (-11.966448565987971, -77.06757828468267),\n",
    "    (-11.867675146640673, -77.07235760364975),\n",
    "    (-11.836445218632935, -77.11000424380381),\n",
    "    (-11.864527560196388, -77.0744324096468),\n",
    "    (-11.853213710610527, -77.0888838179063)\n",
    "]\n",
    "\n",
    "# Splitting the coordinates into latitude and longitude\n",
    "latitudes = [coord[0] for coord in coordinates]\n",
    "longitudes = [coord[1] for coord in coordinates]\n",
    "\n",
    "# Adding the latitudes and longitudes to the DataFrame\n",
    "df_stops['Latitude'] = latitudes\n",
    "df_stops['Longitude'] = longitudes\n",
    "\n",
    "df_stops\n"
   ]
  },
  {
   "cell_type": "code",
   "execution_count": 24,
   "metadata": {},
   "outputs": [],
   "source": [
    "df_locations.to_csv('Data/locations.csv', index=False)\n",
    "df_stops.to_csv('Data/stops.csv', index = False)\n",
    "df_academic_info.to_csv('Data/academic_info.csv', index=False)\n",
    "df_user_info.to_csv('Data/info_user.csv', index=False)"
   ]
  },
  {
   "cell_type": "markdown",
   "metadata": {},
   "source": [
    "## Common Data Resources\n",
    "\n",
    "- [Google Dataset Search](https://datasetsearch.research.google.com/)  \n",
    "  A Google tool that allows searching for datasets published on various online sources. Ideal for researchers and data scientists looking for specific data.\n",
    "\n",
    "- [Kaggle](https://www.kaggle.com/)  \n",
    "  A popular platform for data science competitions that also offers a wide variety of public datasets, kernels, and notebooks.\n",
    "\n",
    "- [Data.gov](https://data.gov/)  \n",
    "  The open data portal of the United States government, offering data on a wide variety of topics, from agriculture to science and technology.\n",
    "\n",
    "- [Datos.gob.ar](https://datos.gob.ar/)  \n",
    "  The open data portal of the Argentine government, with datasets on various areas of public interest in Argentina.\n",
    "\n",
    "- [UCI Machine Learning Repository](https://archive.ics.uci.edu/)  \n",
    "  A repository of datasets commonly used in machine learning projects and education.\n",
    "\n",
    "- [NASA Earthdata](https://www.earthdata.nasa.gov/)  \n",
    "  Access to NASA's vast array of Earth observation datasets, useful for climate and geospatial research.\n",
    "\n",
    "- [Gapminder](https://www.gapminder.org/)  \n",
    "  A non-profit foundation that promotes sustainable global development by increasing the use and understanding of statistics and other data.\n",
    "\n",
    "- [CERN Open Data Portal](https://opendata.cern.ch/)  \n",
    "  A portal that offers access to CERN's research data, allowing external researchers to analyze information collected in experiments.\n",
    "\n",
    "- [Ultralytics Explorer](https://docs.ultralytics.com/datasets/#new-ultralytics-explorer)  \n",
    "  A resource for high-quality image datasets for object detection, provided by Ultralytics.\n",
    "\n",
    "## Climate Data\n",
    "\n",
    "- [Air Quality Index Project](https://aqicn.org/city/beijing/)  \n",
    "  Provides current air quality data, including PM2.5 and other pollutants, focusing on Beijing but covering other cities globally.\n",
    "\n",
    "- [AQICN JSON API](https://aqicn.org/json-api/doc/)  \n",
    "  API documentation for programmatic access to the AQICN project's air quality data.\n",
    "\n",
    "## Data for Agriculture\n",
    "\n",
    "- [Our World in Data](https://ourworldindata.org/)  \n",
    "  A platform that offers data and graphs on the major global issues, including sections on agricultural production and sustainability.\n",
    "\n",
    "- [Ag-Analytics](https://ag-analytics.portal.azure-api.net/)  \n",
    "  Offers APIs for agricultural data analysis, helping farmers and businesses make data-driven decisions.\n",
    "\n",
    "## Data for Materials\n",
    "\n",
    "- [Pymatgen](https://pymatgen.org/)  \n",
    "  A Python library for materials analysis, which allows access to materials databases like the Materials Project.\n",
    "\n",
    "- [Open Materials Database](https://omdb.mathub.io/)  \n",
    "  An accessible database for research in the field of materials science, with a focus on electronic properties.\n",
    "\n",
    "## Data for Biology\n",
    "\n",
    "- [IntAct Molecular Interaction Database](https://www.ebi.ac.uk/intact/home)  \n",
    "  An open database of molecular interactions, maintained by the European Bioinformatics Institute.\n",
    "\n",
    "- [Host-Pathogen Interaction Database (HPIDB)](https://hpidb.igbb.msstate.edu/index.html)  \n",
    "  An integrated database of host-pathogen interactions, useful for research in biology and infectious diseases.\n",
    "\n",
    "- [Eye Gaze Dataset](https://github.com/cxr-eye-gaze/eye-gaze-dataset?tab=readme-ov-file)  \n",
    "  Dataset for the analysis of eye movement, available on GitHub.\n",
    "\n",
    "- [PhysioNet](https://physionet.org/)  \n",
    "  A free-access resource for the storage and sharing of records related to physiology.\n",
    "\n",
    "## Self-driving\n",
    "\n",
    "- [A2D2](https://www.a2d2.audi/a2d2/en.html): Audi Autonomous Driving Dataset, data for the development of autonomous driving technologies.\n",
    "- [AV Datasets on GitHub](https://github.com/klintan/av-datasets?tab=readme-ov-file): A curated list of autonomous vehicle datasets available on GitHub.\n",
    "- [Waymo Open Dataset](https://waymo.com/open/): High-quality datasets for autonomous driving research, offered by Waymo.\n",
    "\n",
    "## Astronomy\n",
    "\n",
    "- [SDSS](https://www.sdss.org/): Data from the Sloan Digital Sky Survey, which has created the most detailed maps of the Universe.\n",
    "- [AstroML Resources](https://www.astroml.org/user_guide/resources.html): Resources and datasets for machine learning in astronomy, offered by AstroML.\n"
   ]
  }
 ],
 "metadata": {
  "kernelspec": {
   "display_name": "obb",
   "language": "python",
   "name": "python3"
  },
  "language_info": {
   "codemirror_mode": {
    "name": "ipython",
    "version": 3
   },
   "file_extension": ".py",
   "mimetype": "text/x-python",
   "name": "python",
   "nbconvert_exporter": "python",
   "pygments_lexer": "ipython3",
   "version": "3.9.6"
  }
 },
 "nbformat": 4,
 "nbformat_minor": 2
}
