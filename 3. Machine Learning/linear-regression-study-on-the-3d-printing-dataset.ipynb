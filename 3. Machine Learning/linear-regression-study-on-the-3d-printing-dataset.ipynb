{
 "cells": [
  {
   "cell_type": "markdown",
   "id": "262fcf37",
   "metadata": {
    "_cell_guid": "b1076dfc-b9ad-4769-8c92-a6c4dae69d19",
    "_uuid": "8f2839f25d086af736a60e9eeb907d3b93b6e0e5",
    "papermill": {
     "duration": 0.016721,
     "end_time": "2022-07-07T12:50:33.083354",
     "exception": false,
     "start_time": "2022-07-07T12:50:33.066633",
     "status": "completed"
    },
    "tags": []
   },
   "source": [
    "# Liner Regression analysis of the 3D prinitng dataset"
   ]
  },
  {
   "cell_type": "markdown",
   "id": "28373499",
   "metadata": {
    "papermill": {
     "duration": 0.014822,
     "end_time": "2022-07-07T12:50:33.113329",
     "exception": false,
     "start_time": "2022-07-07T12:50:33.098507",
     "status": "completed"
    },
    "tags": []
   },
   "source": [
    "<p align=\"center\">\n",
    "  <img src=\"./Images/Image_1.jpeg\" alt=\"Impresora 3D\">\n",
    "</p>\n",
    "\n",
    "###      3-D Printer used for getting the data "
   ]
  },
  {
   "cell_type": "markdown",
   "id": "07a267a0",
   "metadata": {
    "papermill": {
     "duration": 0.015402,
     "end_time": "2022-07-07T12:50:33.143669",
     "exception": false,
     "start_time": "2022-07-07T12:50:33.128267",
     "status": "completed"
    },
    "tags": []
   },
   "source": [
    "### In this notebook, we will perform simple linear regression analysis of the 3D printing dataset and study the various relationships existing between the target variables AKA labels and the predictor varibale AKA features."
   ]
  },
  {
   "cell_type": "markdown",
   "id": "80e95668",
   "metadata": {
    "papermill": {
     "duration": 0.015943,
     "end_time": "2022-07-07T12:50:33.174441",
     "exception": false,
     "start_time": "2022-07-07T12:50:33.158498",
     "status": "completed"
    },
    "tags": []
   },
   "source": [
    "## 1. Importing the Dataset in to the notebook\n",
    "- In this section, we will **import** the `3d printer for mechanical engineers.csv` file into the **workbook** and look at some **basic information** like *number of rows* and *columns*, their *datatypes*, *notes* (if any), *missing values* (if any).\n",
    "- Before importing the dataset, let's **import** the **basic libraries** for machine learning like `pandas`, `numpy`, `matplotlib` and `seaborn`"
   ]
  },
  {
   "cell_type": "code",
   "execution_count": 108,
   "id": "833ca1d5",
   "metadata": {
    "execution": {
     "iopub.execute_input": "2022-07-07T12:50:33.207864Z",
     "iopub.status.busy": "2022-07-07T12:50:33.206867Z",
     "iopub.status.idle": "2022-07-07T12:50:34.561367Z",
     "shell.execute_reply": "2022-07-07T12:50:34.559862Z"
    },
    "papermill": {
     "duration": 1.374787,
     "end_time": "2022-07-07T12:50:34.564643",
     "exception": false,
     "start_time": "2022-07-07T12:50:33.189856",
     "status": "completed"
    },
    "tags": []
   },
   "outputs": [],
   "source": [
    "# Importing the libraries\n",
    "import pandas as pd\n",
    "import numpy as np\n",
    "import matplotlib.pyplot as plt\n",
    "import seaborn as sns"
   ]
  },
  {
   "cell_type": "code",
   "execution_count": 109,
   "id": "c0ea2ddf",
   "metadata": {
    "execution": {
     "iopub.execute_input": "2022-07-07T12:50:34.597255Z",
     "iopub.status.busy": "2022-07-07T12:50:34.596451Z",
     "iopub.status.idle": "2022-07-07T12:50:34.603553Z",
     "shell.execute_reply": "2022-07-07T12:50:34.602456Z"
    },
    "papermill": {
     "duration": 0.026491,
     "end_time": "2022-07-07T12:50:34.606218",
     "exception": false,
     "start_time": "2022-07-07T12:50:34.579727",
     "status": "completed"
    },
    "tags": []
   },
   "outputs": [],
   "source": [
    "#To enable matplot visualization\n",
    "%matplotlib inline"
   ]
  },
  {
   "cell_type": "code",
   "execution_count": 110,
   "id": "e3342517",
   "metadata": {
    "execution": {
     "iopub.execute_input": "2022-07-07T12:50:34.638445Z",
     "iopub.status.busy": "2022-07-07T12:50:34.637511Z",
     "iopub.status.idle": "2022-07-07T12:50:34.659563Z",
     "shell.execute_reply": "2022-07-07T12:50:34.658200Z"
    },
    "papermill": {
     "duration": 0.042884,
     "end_time": "2022-07-07T12:50:34.663819",
     "exception": false,
     "start_time": "2022-07-07T12:50:34.620935",
     "status": "completed"
    },
    "tags": []
   },
   "outputs": [],
   "source": [
    "#Importing the Dataset using .read_csv() function of pandas\n",
    "#We will call the dataset as 'printer'\n",
    "\n",
    "printer = pd.read_csv('Data/data.csv')"
   ]
  },
  {
   "cell_type": "code",
   "execution_count": 111,
   "id": "bbaec3a5",
   "metadata": {
    "execution": {
     "iopub.execute_input": "2022-07-07T12:50:34.696249Z",
     "iopub.status.busy": "2022-07-07T12:50:34.695757Z",
     "iopub.status.idle": "2022-07-07T12:50:34.723714Z",
     "shell.execute_reply": "2022-07-07T12:50:34.722622Z"
    },
    "papermill": {
     "duration": 0.047695,
     "end_time": "2022-07-07T12:50:34.726779",
     "exception": false,
     "start_time": "2022-07-07T12:50:34.679084",
     "status": "completed"
    },
    "tags": []
   },
   "outputs": [
    {
     "data": {
      "text/html": [
       "<div>\n",
       "<style scoped>\n",
       "    .dataframe tbody tr th:only-of-type {\n",
       "        vertical-align: middle;\n",
       "    }\n",
       "\n",
       "    .dataframe tbody tr th {\n",
       "        vertical-align: top;\n",
       "    }\n",
       "\n",
       "    .dataframe thead th {\n",
       "        text-align: right;\n",
       "    }\n",
       "</style>\n",
       "<table border=\"1\" class=\"dataframe\">\n",
       "  <thead>\n",
       "    <tr style=\"text-align: right;\">\n",
       "      <th></th>\n",
       "      <th>layer_height</th>\n",
       "      <th>wall_thickness</th>\n",
       "      <th>infill_density</th>\n",
       "      <th>infill_pattern</th>\n",
       "      <th>nozzle_temperature</th>\n",
       "      <th>bed_temperature</th>\n",
       "      <th>print_speed</th>\n",
       "      <th>material</th>\n",
       "      <th>fan_speed</th>\n",
       "      <th>roughness</th>\n",
       "      <th>tension_strenght</th>\n",
       "      <th>elongation</th>\n",
       "    </tr>\n",
       "  </thead>\n",
       "  <tbody>\n",
       "    <tr>\n",
       "      <th>0</th>\n",
       "      <td>0.02</td>\n",
       "      <td>8</td>\n",
       "      <td>90</td>\n",
       "      <td>grid</td>\n",
       "      <td>220</td>\n",
       "      <td>60</td>\n",
       "      <td>40</td>\n",
       "      <td>abs</td>\n",
       "      <td>0</td>\n",
       "      <td>25</td>\n",
       "      <td>18</td>\n",
       "      <td>1.2</td>\n",
       "    </tr>\n",
       "    <tr>\n",
       "      <th>1</th>\n",
       "      <td>0.02</td>\n",
       "      <td>7</td>\n",
       "      <td>90</td>\n",
       "      <td>honeycomb</td>\n",
       "      <td>225</td>\n",
       "      <td>65</td>\n",
       "      <td>40</td>\n",
       "      <td>abs</td>\n",
       "      <td>25</td>\n",
       "      <td>32</td>\n",
       "      <td>16</td>\n",
       "      <td>1.4</td>\n",
       "    </tr>\n",
       "    <tr>\n",
       "      <th>2</th>\n",
       "      <td>0.02</td>\n",
       "      <td>1</td>\n",
       "      <td>80</td>\n",
       "      <td>grid</td>\n",
       "      <td>230</td>\n",
       "      <td>70</td>\n",
       "      <td>40</td>\n",
       "      <td>abs</td>\n",
       "      <td>50</td>\n",
       "      <td>40</td>\n",
       "      <td>8</td>\n",
       "      <td>0.8</td>\n",
       "    </tr>\n",
       "    <tr>\n",
       "      <th>3</th>\n",
       "      <td>0.02</td>\n",
       "      <td>4</td>\n",
       "      <td>70</td>\n",
       "      <td>honeycomb</td>\n",
       "      <td>240</td>\n",
       "      <td>75</td>\n",
       "      <td>40</td>\n",
       "      <td>abs</td>\n",
       "      <td>75</td>\n",
       "      <td>68</td>\n",
       "      <td>10</td>\n",
       "      <td>0.5</td>\n",
       "    </tr>\n",
       "    <tr>\n",
       "      <th>4</th>\n",
       "      <td>0.02</td>\n",
       "      <td>6</td>\n",
       "      <td>90</td>\n",
       "      <td>grid</td>\n",
       "      <td>250</td>\n",
       "      <td>80</td>\n",
       "      <td>40</td>\n",
       "      <td>abs</td>\n",
       "      <td>100</td>\n",
       "      <td>92</td>\n",
       "      <td>5</td>\n",
       "      <td>0.7</td>\n",
       "    </tr>\n",
       "  </tbody>\n",
       "</table>\n",
       "</div>"
      ],
      "text/plain": [
       "   layer_height  wall_thickness  infill_density infill_pattern  \\\n",
       "0          0.02               8              90           grid   \n",
       "1          0.02               7              90      honeycomb   \n",
       "2          0.02               1              80           grid   \n",
       "3          0.02               4              70      honeycomb   \n",
       "4          0.02               6              90           grid   \n",
       "\n",
       "   nozzle_temperature  bed_temperature  print_speed material  fan_speed  \\\n",
       "0                 220               60           40      abs          0   \n",
       "1                 225               65           40      abs         25   \n",
       "2                 230               70           40      abs         50   \n",
       "3                 240               75           40      abs         75   \n",
       "4                 250               80           40      abs        100   \n",
       "\n",
       "   roughness  tension_strenght  elongation  \n",
       "0         25                18         1.2  \n",
       "1         32                16         1.4  \n",
       "2         40                 8         0.8  \n",
       "3         68                10         0.5  \n",
       "4         92                 5         0.7  "
      ]
     },
     "execution_count": 111,
     "metadata": {},
     "output_type": "execute_result"
    }
   ],
   "source": [
    "#Let's check few rows of the dataset using the .head() function of pandas\n",
    "printer.head()"
   ]
  },
  {
   "cell_type": "markdown",
   "id": "3c926cbe",
   "metadata": {
    "papermill": {
     "duration": 0.0163,
     "end_time": "2022-07-07T12:50:34.758308",
     "exception": false,
     "start_time": "2022-07-07T12:50:34.742008",
     "status": "completed"
    },
    "tags": []
   },
   "source": [
    "## The publisher of this dataset left few information regarding the dataset. I will put them here\n",
    "- The dataset contains **12 columns**.\n",
    "- The **first 9 columns** i.e from layer_height to fan_speed are **features**.\n",
    "- The **last 3 columns** i.i from roughness to elongation are **labels**. So, we will be **predicting** these **three** based on the **9 features**.\n",
    "- The various **units** of the **nine features** are as follows:\n",
    "                   1. Layer Height in mm\n",
    "                   2. Wall Thickness in mm\n",
    "                   3. Infill Density in %\n",
    "                   4. Infill Pattern in either Grid or Honeycomb\n",
    "                   5. Nozzle Temperature in Degree C\n",
    "                   6. Bed Temperature in degree C\n",
    "                   7. Print speed in mm/s\n",
    "                   8. Material in either abs or pla\n",
    "                   9. Fan Speed in %\n",
    "- The **units** of the **labels** are as follows\n",
    "                   1. Roughness in micro metre\n",
    "                   2. Tension Strength in MPa\n",
    "                   3. Elongation in %\n",
    "        "
   ]
  },
  {
   "cell_type": "markdown",
   "id": "824e0aa7",
   "metadata": {
    "papermill": {
     "duration": 0.015754,
     "end_time": "2022-07-07T12:50:34.789731",
     "exception": false,
     "start_time": "2022-07-07T12:50:34.773977",
     "status": "completed"
    },
    "tags": []
   },
   "source": [
    "## Pictures of Infill patterns and Filament materials\n",
    "\n",
    "<p align=\"center\">\n",
    "  <img src=\"https://howto3dprint.net/wp-content/uploads/2022/04/Simplify3D-infill-patterns.jpg\" alt=\"Filament Patron 3D\">\n",
    "</p>\n",
    "\n",
    "<p align=\"center\">\n",
    "  <img src=\"https://i.pinimg.com/564x/45/f3/97/45f397ad978c10c7499a323c690505e3.jpg\" alt=\"Impresora 3D\">\n",
    "</p>"
   ]
  },
  {
   "cell_type": "code",
   "execution_count": 112,
   "id": "a3035fe3",
   "metadata": {
    "execution": {
     "iopub.execute_input": "2022-07-07T12:50:34.825315Z",
     "iopub.status.busy": "2022-07-07T12:50:34.823974Z",
     "iopub.status.idle": "2022-07-07T12:50:34.856853Z",
     "shell.execute_reply": "2022-07-07T12:50:34.855734Z"
    },
    "papermill": {
     "duration": 0.053768,
     "end_time": "2022-07-07T12:50:34.859787",
     "exception": false,
     "start_time": "2022-07-07T12:50:34.806019",
     "status": "completed"
    },
    "tags": []
   },
   "outputs": [
    {
     "name": "stdout",
     "output_type": "stream",
     "text": [
      "<class 'pandas.core.frame.DataFrame'>\n",
      "RangeIndex: 50 entries, 0 to 49\n",
      "Data columns (total 12 columns):\n",
      " #   Column              Non-Null Count  Dtype  \n",
      "---  ------              --------------  -----  \n",
      " 0   layer_height        50 non-null     float64\n",
      " 1   wall_thickness      50 non-null     int64  \n",
      " 2   infill_density      50 non-null     int64  \n",
      " 3   infill_pattern      50 non-null     object \n",
      " 4   nozzle_temperature  50 non-null     int64  \n",
      " 5   bed_temperature     50 non-null     int64  \n",
      " 6   print_speed         50 non-null     int64  \n",
      " 7   material            50 non-null     object \n",
      " 8   fan_speed           50 non-null     int64  \n",
      " 9   roughness           50 non-null     int64  \n",
      " 10  tension_strenght    50 non-null     int64  \n",
      " 11  elongation          50 non-null     float64\n",
      "dtypes: float64(2), int64(8), object(2)\n",
      "memory usage: 4.8+ KB\n"
     ]
    }
   ],
   "source": [
    "# Basic information of the dataset using .info() function of pandas\n",
    "printer.info()"
   ]
  },
  {
   "cell_type": "markdown",
   "id": "3ef1ffb8",
   "metadata": {
    "papermill": {
     "duration": 0.015822,
     "end_time": "2022-07-07T12:50:34.891443",
     "exception": false,
     "start_time": "2022-07-07T12:50:34.875621",
     "status": "completed"
    },
    "tags": []
   },
   "source": [
    "### Basic information\n",
    "- The dataset contains **50 rows** of data.\n",
    "- The columns `infill_pattern` and `material` consists of **categorical entries** (infill_pattern = grid or honeycomb and material = abs or pla)  **instead** of **numerical** entries.\n",
    "- In the **Machine Learning World** this is relatively a **very small dataset** interms of observations. **Still** we can **fit** a good **regression model** out of it and study them."
   ]
  },
  {
   "cell_type": "markdown",
   "id": "57fb6484",
   "metadata": {
    "papermill": {
     "duration": 0.016145,
     "end_time": "2022-07-07T12:50:34.923635",
     "exception": false,
     "start_time": "2022-07-07T12:50:34.907490",
     "status": "completed"
    },
    "tags": []
   },
   "source": [
    "## 2. Data Visualization"
   ]
  },
  {
   "cell_type": "markdown",
   "id": "fa527b66",
   "metadata": {
    "papermill": {
     "duration": 0.015284,
     "end_time": "2022-07-07T12:50:34.955081",
     "exception": false,
     "start_time": "2022-07-07T12:50:34.939797",
     "status": "completed"
    },
    "tags": []
   },
   "source": [
    "In this section we will **visualize** the **data** in the form of **heatmaps** and **pairplots** "
   ]
  },
  {
   "cell_type": "markdown",
   "id": "ef4b1a19",
   "metadata": {
    "papermill": {
     "duration": 0.015919,
     "end_time": "2022-07-07T12:50:34.986936",
     "exception": false,
     "start_time": "2022-07-07T12:50:34.971017",
     "status": "completed"
    },
    "tags": []
   },
   "source": [
    "Here we will consider the roughness as the only label and we will predict that using the 9 features.\n",
    "\n",
    "First, let's convert the categorical features into numerical ones using the `.replace()` function of numpy"
   ]
  },
  {
   "cell_type": "markdown",
   "id": "9cb346ef",
   "metadata": {
    "papermill": {
     "duration": 0.0155,
     "end_time": "2022-07-07T12:50:35.018479",
     "exception": false,
     "start_time": "2022-07-07T12:50:35.002979",
     "status": "completed"
    },
    "tags": []
   },
   "source": [
    "We will replace infill_pattern and material as follows\n",
    "*            `Grid` as **0** and `honeycomb` as **1**\n",
    "*            `abs` as **0** and `pla` as **1**"
   ]
  },
  {
   "cell_type": "code",
   "execution_count": 113,
   "id": "b613e2b3",
   "metadata": {
    "execution": {
     "iopub.execute_input": "2022-07-07T12:50:35.052774Z",
     "iopub.status.busy": "2022-07-07T12:50:35.052010Z",
     "iopub.status.idle": "2022-07-07T12:50:35.060851Z",
     "shell.execute_reply": "2022-07-07T12:50:35.059588Z"
    },
    "papermill": {
     "duration": 0.028807,
     "end_time": "2022-07-07T12:50:35.063766",
     "exception": false,
     "start_time": "2022-07-07T12:50:35.034959",
     "status": "completed"
    },
    "tags": []
   },
   "outputs": [
    {
     "name": "stderr",
     "output_type": "stream",
     "text": [
      "C:\\Users\\garfi\\AppData\\Local\\Temp\\ipykernel_23452\\788866587.py:1: FutureWarning: A value is trying to be set on a copy of a DataFrame or Series through chained assignment using an inplace method.\n",
      "The behavior will change in pandas 3.0. This inplace method will never work because the intermediate object on which we are setting values always behaves as a copy.\n",
      "\n",
      "For example, when doing 'df[col].method(value, inplace=True)', try using 'df.method({col: value}, inplace=True)' or df[col] = df[col].method(value) instead, to perform the operation inplace on the original object.\n",
      "\n",
      "\n",
      "  printer['infill_pattern'].replace(['grid','honeycomb'], [0,1], inplace = True)\n",
      "C:\\Users\\garfi\\AppData\\Local\\Temp\\ipykernel_23452\\788866587.py:1: FutureWarning: Downcasting behavior in `replace` is deprecated and will be removed in a future version. To retain the old behavior, explicitly call `result.infer_objects(copy=False)`. To opt-in to the future behavior, set `pd.set_option('future.no_silent_downcasting', True)`\n",
      "  printer['infill_pattern'].replace(['grid','honeycomb'], [0,1], inplace = True)\n",
      "C:\\Users\\garfi\\AppData\\Local\\Temp\\ipykernel_23452\\788866587.py:2: FutureWarning: A value is trying to be set on a copy of a DataFrame or Series through chained assignment using an inplace method.\n",
      "The behavior will change in pandas 3.0. This inplace method will never work because the intermediate object on which we are setting values always behaves as a copy.\n",
      "\n",
      "For example, when doing 'df[col].method(value, inplace=True)', try using 'df.method({col: value}, inplace=True)' or df[col] = df[col].method(value) instead, to perform the operation inplace on the original object.\n",
      "\n",
      "\n",
      "  printer['material'].replace(['abs','pla'], [0,1], inplace = True)\n",
      "C:\\Users\\garfi\\AppData\\Local\\Temp\\ipykernel_23452\\788866587.py:2: FutureWarning: Downcasting behavior in `replace` is deprecated and will be removed in a future version. To retain the old behavior, explicitly call `result.infer_objects(copy=False)`. To opt-in to the future behavior, set `pd.set_option('future.no_silent_downcasting', True)`\n",
      "  printer['material'].replace(['abs','pla'], [0,1], inplace = True)\n"
     ]
    }
   ],
   "source": [
    "printer['infill_pattern'].replace(['grid','honeycomb'], [0,1], inplace = True)\n",
    "printer['material'].replace(['abs','pla'], [0,1], inplace = True)"
   ]
  },
  {
   "cell_type": "code",
   "execution_count": 114,
   "id": "78aa74fb",
   "metadata": {
    "execution": {
     "iopub.execute_input": "2022-07-07T12:50:35.097272Z",
     "iopub.status.busy": "2022-07-07T12:50:35.096569Z",
     "iopub.status.idle": "2022-07-07T12:50:35.114925Z",
     "shell.execute_reply": "2022-07-07T12:50:35.114025Z"
    },
    "papermill": {
     "duration": 0.037729,
     "end_time": "2022-07-07T12:50:35.117155",
     "exception": false,
     "start_time": "2022-07-07T12:50:35.079426",
     "status": "completed"
    },
    "tags": []
   },
   "outputs": [
    {
     "data": {
      "text/html": [
       "<div>\n",
       "<style scoped>\n",
       "    .dataframe tbody tr th:only-of-type {\n",
       "        vertical-align: middle;\n",
       "    }\n",
       "\n",
       "    .dataframe tbody tr th {\n",
       "        vertical-align: top;\n",
       "    }\n",
       "\n",
       "    .dataframe thead th {\n",
       "        text-align: right;\n",
       "    }\n",
       "</style>\n",
       "<table border=\"1\" class=\"dataframe\">\n",
       "  <thead>\n",
       "    <tr style=\"text-align: right;\">\n",
       "      <th></th>\n",
       "      <th>layer_height</th>\n",
       "      <th>wall_thickness</th>\n",
       "      <th>infill_density</th>\n",
       "      <th>infill_pattern</th>\n",
       "      <th>nozzle_temperature</th>\n",
       "      <th>bed_temperature</th>\n",
       "      <th>print_speed</th>\n",
       "      <th>material</th>\n",
       "      <th>fan_speed</th>\n",
       "      <th>roughness</th>\n",
       "      <th>tension_strenght</th>\n",
       "      <th>elongation</th>\n",
       "    </tr>\n",
       "  </thead>\n",
       "  <tbody>\n",
       "    <tr>\n",
       "      <th>0</th>\n",
       "      <td>0.02</td>\n",
       "      <td>8</td>\n",
       "      <td>90</td>\n",
       "      <td>0</td>\n",
       "      <td>220</td>\n",
       "      <td>60</td>\n",
       "      <td>40</td>\n",
       "      <td>0</td>\n",
       "      <td>0</td>\n",
       "      <td>25</td>\n",
       "      <td>18</td>\n",
       "      <td>1.2</td>\n",
       "    </tr>\n",
       "    <tr>\n",
       "      <th>1</th>\n",
       "      <td>0.02</td>\n",
       "      <td>7</td>\n",
       "      <td>90</td>\n",
       "      <td>1</td>\n",
       "      <td>225</td>\n",
       "      <td>65</td>\n",
       "      <td>40</td>\n",
       "      <td>0</td>\n",
       "      <td>25</td>\n",
       "      <td>32</td>\n",
       "      <td>16</td>\n",
       "      <td>1.4</td>\n",
       "    </tr>\n",
       "    <tr>\n",
       "      <th>2</th>\n",
       "      <td>0.02</td>\n",
       "      <td>1</td>\n",
       "      <td>80</td>\n",
       "      <td>0</td>\n",
       "      <td>230</td>\n",
       "      <td>70</td>\n",
       "      <td>40</td>\n",
       "      <td>0</td>\n",
       "      <td>50</td>\n",
       "      <td>40</td>\n",
       "      <td>8</td>\n",
       "      <td>0.8</td>\n",
       "    </tr>\n",
       "    <tr>\n",
       "      <th>3</th>\n",
       "      <td>0.02</td>\n",
       "      <td>4</td>\n",
       "      <td>70</td>\n",
       "      <td>1</td>\n",
       "      <td>240</td>\n",
       "      <td>75</td>\n",
       "      <td>40</td>\n",
       "      <td>0</td>\n",
       "      <td>75</td>\n",
       "      <td>68</td>\n",
       "      <td>10</td>\n",
       "      <td>0.5</td>\n",
       "    </tr>\n",
       "    <tr>\n",
       "      <th>4</th>\n",
       "      <td>0.02</td>\n",
       "      <td>6</td>\n",
       "      <td>90</td>\n",
       "      <td>0</td>\n",
       "      <td>250</td>\n",
       "      <td>80</td>\n",
       "      <td>40</td>\n",
       "      <td>0</td>\n",
       "      <td>100</td>\n",
       "      <td>92</td>\n",
       "      <td>5</td>\n",
       "      <td>0.7</td>\n",
       "    </tr>\n",
       "    <tr>\n",
       "      <th>5</th>\n",
       "      <td>0.02</td>\n",
       "      <td>10</td>\n",
       "      <td>40</td>\n",
       "      <td>1</td>\n",
       "      <td>200</td>\n",
       "      <td>60</td>\n",
       "      <td>40</td>\n",
       "      <td>1</td>\n",
       "      <td>0</td>\n",
       "      <td>60</td>\n",
       "      <td>24</td>\n",
       "      <td>1.1</td>\n",
       "    </tr>\n",
       "    <tr>\n",
       "      <th>6</th>\n",
       "      <td>0.02</td>\n",
       "      <td>5</td>\n",
       "      <td>10</td>\n",
       "      <td>0</td>\n",
       "      <td>205</td>\n",
       "      <td>65</td>\n",
       "      <td>40</td>\n",
       "      <td>1</td>\n",
       "      <td>25</td>\n",
       "      <td>55</td>\n",
       "      <td>12</td>\n",
       "      <td>1.3</td>\n",
       "    </tr>\n",
       "    <tr>\n",
       "      <th>7</th>\n",
       "      <td>0.02</td>\n",
       "      <td>10</td>\n",
       "      <td>10</td>\n",
       "      <td>1</td>\n",
       "      <td>210</td>\n",
       "      <td>70</td>\n",
       "      <td>40</td>\n",
       "      <td>1</td>\n",
       "      <td>50</td>\n",
       "      <td>21</td>\n",
       "      <td>14</td>\n",
       "      <td>1.5</td>\n",
       "    </tr>\n",
       "    <tr>\n",
       "      <th>8</th>\n",
       "      <td>0.02</td>\n",
       "      <td>9</td>\n",
       "      <td>70</td>\n",
       "      <td>0</td>\n",
       "      <td>215</td>\n",
       "      <td>75</td>\n",
       "      <td>40</td>\n",
       "      <td>1</td>\n",
       "      <td>75</td>\n",
       "      <td>24</td>\n",
       "      <td>27</td>\n",
       "      <td>1.4</td>\n",
       "    </tr>\n",
       "    <tr>\n",
       "      <th>9</th>\n",
       "      <td>0.02</td>\n",
       "      <td>8</td>\n",
       "      <td>40</td>\n",
       "      <td>1</td>\n",
       "      <td>220</td>\n",
       "      <td>80</td>\n",
       "      <td>40</td>\n",
       "      <td>1</td>\n",
       "      <td>100</td>\n",
       "      <td>30</td>\n",
       "      <td>25</td>\n",
       "      <td>1.7</td>\n",
       "    </tr>\n",
       "  </tbody>\n",
       "</table>\n",
       "</div>"
      ],
      "text/plain": [
       "   layer_height  wall_thickness  infill_density  infill_pattern  \\\n",
       "0          0.02               8              90               0   \n",
       "1          0.02               7              90               1   \n",
       "2          0.02               1              80               0   \n",
       "3          0.02               4              70               1   \n",
       "4          0.02               6              90               0   \n",
       "5          0.02              10              40               1   \n",
       "6          0.02               5              10               0   \n",
       "7          0.02              10              10               1   \n",
       "8          0.02               9              70               0   \n",
       "9          0.02               8              40               1   \n",
       "\n",
       "   nozzle_temperature  bed_temperature  print_speed  material  fan_speed  \\\n",
       "0                 220               60           40         0          0   \n",
       "1                 225               65           40         0         25   \n",
       "2                 230               70           40         0         50   \n",
       "3                 240               75           40         0         75   \n",
       "4                 250               80           40         0        100   \n",
       "5                 200               60           40         1          0   \n",
       "6                 205               65           40         1         25   \n",
       "7                 210               70           40         1         50   \n",
       "8                 215               75           40         1         75   \n",
       "9                 220               80           40         1        100   \n",
       "\n",
       "   roughness  tension_strenght  elongation  \n",
       "0         25                18         1.2  \n",
       "1         32                16         1.4  \n",
       "2         40                 8         0.8  \n",
       "3         68                10         0.5  \n",
       "4         92                 5         0.7  \n",
       "5         60                24         1.1  \n",
       "6         55                12         1.3  \n",
       "7         21                14         1.5  \n",
       "8         24                27         1.4  \n",
       "9         30                25         1.7  "
      ]
     },
     "execution_count": 114,
     "metadata": {},
     "output_type": "execute_result"
    }
   ],
   "source": [
    "#let's view the first 10 observations\n",
    "printer.head(10)"
   ]
  },
  {
   "cell_type": "markdown",
   "id": "940b17ab",
   "metadata": {
    "papermill": {
     "duration": 0.015692,
     "end_time": "2022-07-07T12:50:35.149329",
     "exception": false,
     "start_time": "2022-07-07T12:50:35.133637",
     "status": "completed"
    },
    "tags": []
   },
   "source": [
    "Perfect. Now we have **converted** all the **categorical** variables **into numerical** ones."
   ]
  },
  {
   "cell_type": "code",
   "execution_count": 158,
   "id": "bceb30e1",
   "metadata": {
    "execution": {
     "iopub.execute_input": "2022-07-07T12:50:35.184406Z",
     "iopub.status.busy": "2022-07-07T12:50:35.183574Z",
     "iopub.status.idle": "2022-07-07T12:50:36.242731Z",
     "shell.execute_reply": "2022-07-07T12:50:36.241653Z"
    },
    "papermill": {
     "duration": 1.080492,
     "end_time": "2022-07-07T12:50:36.245798",
     "exception": false,
     "start_time": "2022-07-07T12:50:35.165306",
     "status": "completed"
    },
    "tags": []
   },
   "outputs": [
    {
     "data": {
      "image/png": "[encoded data removed]",
      "text/plain": [
       "<Figure size 2000x700 with 2 Axes>"
      ]
     },
     "metadata": {},
     "output_type": "display_data"
    }
   ],
   "source": [
    "corr = printer.corr()\n",
    "\n",
    "# Creating the mask for the upper triangle\n",
    "mask = np.triu(np.ones_like(corr, dtype=bool))\n",
    "\n",
    "fig, ax = plt.subplots(figsize=(20, 7))\n",
    "\n",
    "# Title for the heatmap\n",
    "title = 'Correlation Heatmap of the 3D Printing Dataset'\n",
    "plt.title(title, fontsize=20)\n",
    "ttl = ax.title\n",
    "\n",
    "# Correlation heatmap using .heatmap() function of sns library with a mask\n",
    "sns.heatmap(corr, mask=mask, cbar=True, annot=True, linewidths=1, ax=ax)\n",
    "\n",
    "# Enable visualization using .show() function of matplotlib\n",
    "plt.show()\n"
   ]
  },
  {
   "cell_type": "markdown",
   "id": "328fcfff",
   "metadata": {
    "papermill": {
     "duration": 0.017482,
     "end_time": "2022-07-07T12:50:36.281300",
     "exception": false,
     "start_time": "2022-07-07T12:50:36.263818",
     "status": "completed"
    },
    "tags": []
   },
   "source": [
    "### Inference from Heatmap:\n",
    "\n",
    "1. **Roughness** is **correlated** to **layer height** meaning as layer height (feature) increases, roughness increases as well.\n",
    "2. **Material** is **negatively correlated** with **nozzle temperarure**. So, if nozzle temperature increases, the material quality dimnishes.\n",
    "3. **Bed temperature** is **correlated** with **nozzle temperature**. As nozzle temperature increases, bed temperature increases.\n",
    "4. **Fan speed** is **positively correlated** with **nozzle temperature** as well.\n",
    "5. **Fan speed** is **full positively correlated** (1) with **bed temperature**.\n",
    "6. The **labels elongation and tension strength** are **positively correlated** as well."
   ]
  },
  {
   "cell_type": "markdown",
   "id": "bd6ce8d4",
   "metadata": {
    "papermill": {
     "duration": 0.01725,
     "end_time": "2022-07-07T12:50:36.316152",
     "exception": false,
     "start_time": "2022-07-07T12:50:36.298902",
     "status": "completed"
    },
    "tags": []
   },
   "source": [
    "We will take these **heatmap inferences** into **consideration later** when we are in **tuning the model**. **For building** the model, we will use **all the features** in **predicting the label**. We will use `statsmodels` library to perform these **linear regressions**."
   ]
  },
  {
   "cell_type": "markdown",
   "id": "43ce527d",
   "metadata": {
    "papermill": {
     "duration": 0.017472,
     "end_time": "2022-07-07T12:50:36.351268",
     "exception": false,
     "start_time": "2022-07-07T12:50:36.333796",
     "status": "completed"
    },
    "tags": []
   },
   "source": [
    "### Train Test Split\n",
    "Whenever we are building the model, we will **perform a train-test split** on the dataset. The **train data** will be used for **building the model** and the **test data** will be used to **evaluate the fit** or **accuracy** of the model.\n",
    "\n",
    "![train-test-evaluation](https://miro.medium.com/max/1400/1*Hs7RCpyvj4NrjANdwiFHaQ@2x.jpeg)\n",
    "\n",
    "\n",
    "\n",
    "However our **dataset** contains only **50 observations**, so we will use the **entire dataset** for **training the model**."
   ]
  },
  {
   "cell_type": "markdown",
   "id": "f2b7995b",
   "metadata": {},
   "source": [
    "\n",
    "<p align=\"center\">\n",
    "  <img src=\"./Images/Imagen_3.jpeg\" alt=\"Impresora 3D\">\n",
    "</p>\n",
    "\n"
   ]
  },
  {
   "cell_type": "markdown",
   "id": "37fede40",
   "metadata": {},
   "source": [
    "# Material characteristic prediction."
   ]
  },
  {
   "cell_type": "markdown",
   "id": "340aadff",
   "metadata": {
    "papermill": {
     "duration": 0.017058,
     "end_time": "2022-07-07T12:50:36.385840",
     "exception": false,
     "start_time": "2022-07-07T12:50:36.368782",
     "status": "completed"
    },
    "tags": []
   },
   "source": [
    "# Model 1 : Predicting roughness based on 9 features.\n",
    "- Here we will be **building** a **multiple linear regression** model to **predict** `roughness` based on all the 9 features from `layer_height` to `fan_speed`"
   ]
  },
  {
   "cell_type": "code",
   "execution_count": 116,
   "id": "87cce4cb",
   "metadata": {
    "execution": {
     "iopub.execute_input": "2022-07-07T12:50:36.423651Z",
     "iopub.status.busy": "2022-07-07T12:50:36.423088Z",
     "iopub.status.idle": "2022-07-07T12:50:36.431822Z",
     "shell.execute_reply": "2022-07-07T12:50:36.430830Z"
    },
    "papermill": {
     "duration": 0.030951,
     "end_time": "2022-07-07T12:50:36.434293",
     "exception": false,
     "start_time": "2022-07-07T12:50:36.403342",
     "status": "completed"
    },
    "tags": []
   },
   "outputs": [],
   "source": [
    "# Defining features and labels\n",
    "X = printer.drop(['roughness','tension_strenght','elongation'], axis = 1)\n",
    "y = printer['roughness']"
   ]
  },
  {
   "cell_type": "code",
   "execution_count": 117,
   "id": "148fa4f1",
   "metadata": {
    "execution": {
     "iopub.execute_input": "2022-07-07T12:50:36.471782Z",
     "iopub.status.busy": "2022-07-07T12:50:36.471285Z",
     "iopub.status.idle": "2022-07-07T12:50:36.486083Z",
     "shell.execute_reply": "2022-07-07T12:50:36.485094Z"
    },
    "papermill": {
     "duration": 0.036274,
     "end_time": "2022-07-07T12:50:36.488265",
     "exception": false,
     "start_time": "2022-07-07T12:50:36.451991",
     "status": "completed"
    },
    "tags": []
   },
   "outputs": [
    {
     "data": {
      "text/html": [
       "<div>\n",
       "<style scoped>\n",
       "    .dataframe tbody tr th:only-of-type {\n",
       "        vertical-align: middle;\n",
       "    }\n",
       "\n",
       "    .dataframe tbody tr th {\n",
       "        vertical-align: top;\n",
       "    }\n",
       "\n",
       "    .dataframe thead th {\n",
       "        text-align: right;\n",
       "    }\n",
       "</style>\n",
       "<table border=\"1\" class=\"dataframe\">\n",
       "  <thead>\n",
       "    <tr style=\"text-align: right;\">\n",
       "      <th></th>\n",
       "      <th>layer_height</th>\n",
       "      <th>wall_thickness</th>\n",
       "      <th>infill_density</th>\n",
       "      <th>infill_pattern</th>\n",
       "      <th>nozzle_temperature</th>\n",
       "      <th>bed_temperature</th>\n",
       "      <th>print_speed</th>\n",
       "      <th>material</th>\n",
       "      <th>fan_speed</th>\n",
       "    </tr>\n",
       "  </thead>\n",
       "  <tbody>\n",
       "    <tr>\n",
       "      <th>0</th>\n",
       "      <td>0.02</td>\n",
       "      <td>8</td>\n",
       "      <td>90</td>\n",
       "      <td>0</td>\n",
       "      <td>220</td>\n",
       "      <td>60</td>\n",
       "      <td>40</td>\n",
       "      <td>0</td>\n",
       "      <td>0</td>\n",
       "    </tr>\n",
       "    <tr>\n",
       "      <th>1</th>\n",
       "      <td>0.02</td>\n",
       "      <td>7</td>\n",
       "      <td>90</td>\n",
       "      <td>1</td>\n",
       "      <td>225</td>\n",
       "      <td>65</td>\n",
       "      <td>40</td>\n",
       "      <td>0</td>\n",
       "      <td>25</td>\n",
       "    </tr>\n",
       "    <tr>\n",
       "      <th>2</th>\n",
       "      <td>0.02</td>\n",
       "      <td>1</td>\n",
       "      <td>80</td>\n",
       "      <td>0</td>\n",
       "      <td>230</td>\n",
       "      <td>70</td>\n",
       "      <td>40</td>\n",
       "      <td>0</td>\n",
       "      <td>50</td>\n",
       "    </tr>\n",
       "    <tr>\n",
       "      <th>3</th>\n",
       "      <td>0.02</td>\n",
       "      <td>4</td>\n",
       "      <td>70</td>\n",
       "      <td>1</td>\n",
       "      <td>240</td>\n",
       "      <td>75</td>\n",
       "      <td>40</td>\n",
       "      <td>0</td>\n",
       "      <td>75</td>\n",
       "    </tr>\n",
       "    <tr>\n",
       "      <th>4</th>\n",
       "      <td>0.02</td>\n",
       "      <td>6</td>\n",
       "      <td>90</td>\n",
       "      <td>0</td>\n",
       "      <td>250</td>\n",
       "      <td>80</td>\n",
       "      <td>40</td>\n",
       "      <td>0</td>\n",
       "      <td>100</td>\n",
       "    </tr>\n",
       "  </tbody>\n",
       "</table>\n",
       "</div>"
      ],
      "text/plain": [
       "   layer_height  wall_thickness  infill_density  infill_pattern  \\\n",
       "0          0.02               8              90               0   \n",
       "1          0.02               7              90               1   \n",
       "2          0.02               1              80               0   \n",
       "3          0.02               4              70               1   \n",
       "4          0.02               6              90               0   \n",
       "\n",
       "   nozzle_temperature  bed_temperature  print_speed  material  fan_speed  \n",
       "0                 220               60           40         0          0  \n",
       "1                 225               65           40         0         25  \n",
       "2                 230               70           40         0         50  \n",
       "3                 240               75           40         0         75  \n",
       "4                 250               80           40         0        100  "
      ]
     },
     "execution_count": 117,
     "metadata": {},
     "output_type": "execute_result"
    }
   ],
   "source": [
    "X.head()"
   ]
  },
  {
   "cell_type": "code",
   "execution_count": 118,
   "id": "226d4bb4",
   "metadata": {
    "execution": {
     "iopub.execute_input": "2022-07-07T12:50:36.526109Z",
     "iopub.status.busy": "2022-07-07T12:50:36.525382Z",
     "iopub.status.idle": "2022-07-07T12:50:37.564177Z",
     "shell.execute_reply": "2022-07-07T12:50:37.562741Z"
    },
    "papermill": {
     "duration": 1.061593,
     "end_time": "2022-07-07T12:50:37.567477",
     "exception": false,
     "start_time": "2022-07-07T12:50:36.505884",
     "status": "completed"
    },
    "tags": []
   },
   "outputs": [],
   "source": [
    "#importing statsmodels library\n",
    "import statsmodels.api as sm"
   ]
  },
  {
   "cell_type": "code",
   "execution_count": 119,
   "id": "47ca87f3",
   "metadata": {
    "execution": {
     "iopub.execute_input": "2022-07-07T12:50:37.606326Z",
     "iopub.status.busy": "2022-07-07T12:50:37.605277Z",
     "iopub.status.idle": "2022-07-07T12:50:37.612637Z",
     "shell.execute_reply": "2022-07-07T12:50:37.611705Z"
    },
    "papermill": {
     "duration": 0.02996,
     "end_time": "2022-07-07T12:50:37.615196",
     "exception": false,
     "start_time": "2022-07-07T12:50:37.585236",
     "status": "completed"
    },
    "tags": []
   },
   "outputs": [],
   "source": [
    "# let's define a function for the multiple regression\n",
    "\n",
    "def linear_Regression(x,y):\n",
    "    \n",
    "    x = sm.add_constant(x)\n",
    "    \n",
    "    #defining the model, fitting the model and printing the results\n",
    "    multiple_model = sm.OLS(y,x).fit()\n",
    "    print(multiple_model.summary())"
   ]
  },
  {
   "cell_type": "code",
   "execution_count": 120,
   "id": "b44cac1e",
   "metadata": {
    "execution": {
     "iopub.execute_input": "2022-07-07T12:50:37.652560Z",
     "iopub.status.busy": "2022-07-07T12:50:37.651694Z",
     "iopub.status.idle": "2022-07-07T12:50:37.688588Z",
     "shell.execute_reply": "2022-07-07T12:50:37.687043Z"
    },
    "papermill": {
     "duration": 0.058903,
     "end_time": "2022-07-07T12:50:37.691443",
     "exception": false,
     "start_time": "2022-07-07T12:50:37.632540",
     "status": "completed"
    },
    "tags": []
   },
   "outputs": [
    {
     "name": "stdout",
     "output_type": "stream",
     "text": [
      "                            OLS Regression Results                            \n",
      "==============================================================================\n",
      "Dep. Variable:              roughness   R-squared:                       0.875\n",
      "Model:                            OLS   Adj. R-squared:                  0.851\n",
      "Method:                 Least Squares   F-statistic:                     35.95\n",
      "Date:                Thu, 18 Apr 2024   Prob (F-statistic):           3.83e-16\n",
      "Time:                        00:31:55   Log-Likelihood:                -248.19\n",
      "No. Observations:                  50   AIC:                             514.4\n",
      "Df Residuals:                      41   BIC:                             531.6\n",
      "Df Model:                           8                                         \n",
      "Covariance Type:            nonrobust                                         \n",
      "======================================================================================\n",
      "                         coef    std err          t      P>|t|      [0.025      0.975]\n",
      "--------------------------------------------------------------------------------------\n",
      "const                 -0.9534      0.159     -6.006      0.000      -1.274      -0.633\n",
      "layer_height        1269.4449     87.648     14.483      0.000    1092.437    1446.453\n",
      "wall_thickness         2.3342      2.189      1.066      0.293      -2.087       6.756\n",
      "infill_density        -0.0423      0.234     -0.181      0.857      -0.515       0.430\n",
      "infill_pattern        -0.1255     11.280     -0.011      0.991     -22.907      22.656\n",
      "nozzle_temperature    15.0562      2.529      5.953      0.000       9.948      20.164\n",
      "bed_temperature      -55.6225      9.279     -5.995      0.000     -74.362     -36.883\n",
      "print_speed            0.6496      0.206      3.153      0.003       0.233       1.066\n",
      "material             298.4514     58.364      5.114      0.000     180.582     416.321\n",
      "fan_speed              7.8989      1.238      6.379      0.000       5.398      10.399\n",
      "==============================================================================\n",
      "Omnibus:                        1.107   Durbin-Watson:                   1.467\n",
      "Prob(Omnibus):                  0.575   Jarque-Bera (JB):                0.749\n",
      "Skew:                           0.300   Prob(JB):                        0.688\n",
      "Kurtosis:                       3.018   Cond. No.                     3.59e+18\n",
      "==============================================================================\n",
      "\n",
      "Notes:\n",
      "[1] Standard Errors assume that the covariance matrix of the errors is correctly specified.\n",
      "[2] The smallest eigenvalue is 2.48e-31. This might indicate that there are\n",
      "strong multicollinearity problems or that the design matrix is singular.\n"
     ]
    }
   ],
   "source": [
    "#calling the linear regression function\n",
    "linear_Regression(X,y)"
   ]
  },
  {
   "cell_type": "markdown",
   "id": "cbab9b9f",
   "metadata": {
    "papermill": {
     "duration": 0.017395,
     "end_time": "2022-07-07T12:50:37.726485",
     "exception": false,
     "start_time": "2022-07-07T12:50:37.709090",
     "status": "completed"
    },
    "tags": []
   },
   "source": [
    "### Inference from model\n",
    "1. The **R-squared** value is **0.875 ot 87.5%** which states that **about 87.5%** of proportion of **variability** in data can be **explained** by this **linear regression model**. The **r-squared** is the most **important parameter** for a **model evaluation**. higher the value, better is the fit.\n",
    "\n",
    "2. The **p-value** is an **important measure** for evaluating the various **variables**. **Closer** is the **p-value to 1**, the **lesser** is that **feature variable** has to do with the **label variable**. In our model, **wall thickness, infill_density and infill_pattern** are all close to 1 meaning they **don't** play **much role** in roughness.\n",
    "\n",
    "3. Finally, the **expression** for this model can be written from the **coefficients** as follows\n",
    "\n",
    "`Roughness = -0.9534 + 1269.4449*layer_height + 2.3342*wall_thickness - 0.0423*infill_density - 0.1255*infill_pattern + 15.0562*nozzle_temperature - 55.6225*bbed_temperature + 0.6496*print_speed + 298.4514*material + 7.8989*fan_speed`\n",
    "\n",
    "4. The coefficients suggest the following\n",
    "   - In the **absence** of all the **parameters**, the **roughness decreases** by **0.9534 micro metre** by the constant term. This may be **due** to **other factors** like **ambient temperature** which are **not considered** for the model.\n",
    "   - A **positive coefficient value** states that an **increase in wall thickness** (example) by 1 mm results in **increase in roughness** by 2.3342 micro metre.\n",
    "   - Similarly, **a negative coefficient value** states that an **increase in bed temperature** by a degree C causes **55.6225 micro metre decrease** in roughness."
   ]
  },
  {
   "cell_type": "markdown",
   "id": "defd5e4f",
   "metadata": {
    "papermill": {
     "duration": 0.018142,
     "end_time": "2022-07-07T12:50:37.762432",
     "exception": false,
     "start_time": "2022-07-07T12:50:37.744290",
     "status": "completed"
    },
    "tags": []
   },
   "source": [
    "### Now let's eliminate `wall thickness`, `infill density` and `infill pattern` and build the model to see if there's any improvement."
   ]
  },
  {
   "cell_type": "code",
   "execution_count": 121,
   "id": "026086bf",
   "metadata": {
    "execution": {
     "iopub.execute_input": "2022-07-07T12:50:37.800751Z",
     "iopub.status.busy": "2022-07-07T12:50:37.799810Z",
     "iopub.status.idle": "2022-07-07T12:50:37.815354Z",
     "shell.execute_reply": "2022-07-07T12:50:37.814045Z"
    },
    "papermill": {
     "duration": 0.037552,
     "end_time": "2022-07-07T12:50:37.818153",
     "exception": false,
     "start_time": "2022-07-07T12:50:37.780601",
     "status": "completed"
    },
    "tags": []
   },
   "outputs": [
    {
     "data": {
      "text/html": [
       "<div>\n",
       "<style scoped>\n",
       "    .dataframe tbody tr th:only-of-type {\n",
       "        vertical-align: middle;\n",
       "    }\n",
       "\n",
       "    .dataframe tbody tr th {\n",
       "        vertical-align: top;\n",
       "    }\n",
       "\n",
       "    .dataframe thead th {\n",
       "        text-align: right;\n",
       "    }\n",
       "</style>\n",
       "<table border=\"1\" class=\"dataframe\">\n",
       "  <thead>\n",
       "    <tr style=\"text-align: right;\">\n",
       "      <th></th>\n",
       "      <th>layer_height</th>\n",
       "      <th>wall_thickness</th>\n",
       "      <th>infill_density</th>\n",
       "      <th>infill_pattern</th>\n",
       "      <th>nozzle_temperature</th>\n",
       "      <th>bed_temperature</th>\n",
       "      <th>print_speed</th>\n",
       "      <th>material</th>\n",
       "      <th>fan_speed</th>\n",
       "    </tr>\n",
       "  </thead>\n",
       "  <tbody>\n",
       "    <tr>\n",
       "      <th>0</th>\n",
       "      <td>0.02</td>\n",
       "      <td>8</td>\n",
       "      <td>90</td>\n",
       "      <td>0</td>\n",
       "      <td>220</td>\n",
       "      <td>60</td>\n",
       "      <td>40</td>\n",
       "      <td>0</td>\n",
       "      <td>0</td>\n",
       "    </tr>\n",
       "    <tr>\n",
       "      <th>1</th>\n",
       "      <td>0.02</td>\n",
       "      <td>7</td>\n",
       "      <td>90</td>\n",
       "      <td>1</td>\n",
       "      <td>225</td>\n",
       "      <td>65</td>\n",
       "      <td>40</td>\n",
       "      <td>0</td>\n",
       "      <td>25</td>\n",
       "    </tr>\n",
       "    <tr>\n",
       "      <th>2</th>\n",
       "      <td>0.02</td>\n",
       "      <td>1</td>\n",
       "      <td>80</td>\n",
       "      <td>0</td>\n",
       "      <td>230</td>\n",
       "      <td>70</td>\n",
       "      <td>40</td>\n",
       "      <td>0</td>\n",
       "      <td>50</td>\n",
       "    </tr>\n",
       "    <tr>\n",
       "      <th>3</th>\n",
       "      <td>0.02</td>\n",
       "      <td>4</td>\n",
       "      <td>70</td>\n",
       "      <td>1</td>\n",
       "      <td>240</td>\n",
       "      <td>75</td>\n",
       "      <td>40</td>\n",
       "      <td>0</td>\n",
       "      <td>75</td>\n",
       "    </tr>\n",
       "    <tr>\n",
       "      <th>4</th>\n",
       "      <td>0.02</td>\n",
       "      <td>6</td>\n",
       "      <td>90</td>\n",
       "      <td>0</td>\n",
       "      <td>250</td>\n",
       "      <td>80</td>\n",
       "      <td>40</td>\n",
       "      <td>0</td>\n",
       "      <td>100</td>\n",
       "    </tr>\n",
       "  </tbody>\n",
       "</table>\n",
       "</div>"
      ],
      "text/plain": [
       "   layer_height  wall_thickness  infill_density  infill_pattern  \\\n",
       "0          0.02               8              90               0   \n",
       "1          0.02               7              90               1   \n",
       "2          0.02               1              80               0   \n",
       "3          0.02               4              70               1   \n",
       "4          0.02               6              90               0   \n",
       "\n",
       "   nozzle_temperature  bed_temperature  print_speed  material  fan_speed  \n",
       "0                 220               60           40         0          0  \n",
       "1                 225               65           40         0         25  \n",
       "2                 230               70           40         0         50  \n",
       "3                 240               75           40         0         75  \n",
       "4                 250               80           40         0        100  "
      ]
     },
     "execution_count": 121,
     "metadata": {},
     "output_type": "execute_result"
    }
   ],
   "source": [
    "#check X\n",
    "X.head()"
   ]
  },
  {
   "cell_type": "code",
   "execution_count": 122,
   "id": "90ce523f",
   "metadata": {
    "execution": {
     "iopub.execute_input": "2022-07-07T12:50:37.858777Z",
     "iopub.status.busy": "2022-07-07T12:50:37.857791Z",
     "iopub.status.idle": "2022-07-07T12:50:37.865482Z",
     "shell.execute_reply": "2022-07-07T12:50:37.864364Z"
    },
    "papermill": {
     "duration": 0.031513,
     "end_time": "2022-07-07T12:50:37.868300",
     "exception": false,
     "start_time": "2022-07-07T12:50:37.836787",
     "status": "completed"
    },
    "tags": []
   },
   "outputs": [],
   "source": [
    "X = X.drop(['wall_thickness','infill_density','infill_pattern'], axis = 1)"
   ]
  },
  {
   "cell_type": "code",
   "execution_count": 123,
   "id": "cac01282",
   "metadata": {
    "execution": {
     "iopub.execute_input": "2022-07-07T12:50:37.908362Z",
     "iopub.status.busy": "2022-07-07T12:50:37.907467Z",
     "iopub.status.idle": "2022-07-07T12:50:37.922264Z",
     "shell.execute_reply": "2022-07-07T12:50:37.920984Z"
    },
    "papermill": {
     "duration": 0.037959,
     "end_time": "2022-07-07T12:50:37.925015",
     "exception": false,
     "start_time": "2022-07-07T12:50:37.887056",
     "status": "completed"
    },
    "tags": []
   },
   "outputs": [
    {
     "data": {
      "text/html": [
       "<div>\n",
       "<style scoped>\n",
       "    .dataframe tbody tr th:only-of-type {\n",
       "        vertical-align: middle;\n",
       "    }\n",
       "\n",
       "    .dataframe tbody tr th {\n",
       "        vertical-align: top;\n",
       "    }\n",
       "\n",
       "    .dataframe thead th {\n",
       "        text-align: right;\n",
       "    }\n",
       "</style>\n",
       "<table border=\"1\" class=\"dataframe\">\n",
       "  <thead>\n",
       "    <tr style=\"text-align: right;\">\n",
       "      <th></th>\n",
       "      <th>layer_height</th>\n",
       "      <th>nozzle_temperature</th>\n",
       "      <th>bed_temperature</th>\n",
       "      <th>print_speed</th>\n",
       "      <th>material</th>\n",
       "      <th>fan_speed</th>\n",
       "    </tr>\n",
       "  </thead>\n",
       "  <tbody>\n",
       "    <tr>\n",
       "      <th>0</th>\n",
       "      <td>0.02</td>\n",
       "      <td>220</td>\n",
       "      <td>60</td>\n",
       "      <td>40</td>\n",
       "      <td>0</td>\n",
       "      <td>0</td>\n",
       "    </tr>\n",
       "    <tr>\n",
       "      <th>1</th>\n",
       "      <td>0.02</td>\n",
       "      <td>225</td>\n",
       "      <td>65</td>\n",
       "      <td>40</td>\n",
       "      <td>0</td>\n",
       "      <td>25</td>\n",
       "    </tr>\n",
       "    <tr>\n",
       "      <th>2</th>\n",
       "      <td>0.02</td>\n",
       "      <td>230</td>\n",
       "      <td>70</td>\n",
       "      <td>40</td>\n",
       "      <td>0</td>\n",
       "      <td>50</td>\n",
       "    </tr>\n",
       "    <tr>\n",
       "      <th>3</th>\n",
       "      <td>0.02</td>\n",
       "      <td>240</td>\n",
       "      <td>75</td>\n",
       "      <td>40</td>\n",
       "      <td>0</td>\n",
       "      <td>75</td>\n",
       "    </tr>\n",
       "    <tr>\n",
       "      <th>4</th>\n",
       "      <td>0.02</td>\n",
       "      <td>250</td>\n",
       "      <td>80</td>\n",
       "      <td>40</td>\n",
       "      <td>0</td>\n",
       "      <td>100</td>\n",
       "    </tr>\n",
       "  </tbody>\n",
       "</table>\n",
       "</div>"
      ],
      "text/plain": [
       "   layer_height  nozzle_temperature  bed_temperature  print_speed  material  \\\n",
       "0          0.02                 220               60           40         0   \n",
       "1          0.02                 225               65           40         0   \n",
       "2          0.02                 230               70           40         0   \n",
       "3          0.02                 240               75           40         0   \n",
       "4          0.02                 250               80           40         0   \n",
       "\n",
       "   fan_speed  \n",
       "0          0  \n",
       "1         25  \n",
       "2         50  \n",
       "3         75  \n",
       "4        100  "
      ]
     },
     "execution_count": 123,
     "metadata": {},
     "output_type": "execute_result"
    }
   ],
   "source": [
    "X.head()"
   ]
  },
  {
   "cell_type": "code",
   "execution_count": 124,
   "id": "6a0a79f2",
   "metadata": {
    "execution": {
     "iopub.execute_input": "2022-07-07T12:50:37.964406Z",
     "iopub.status.busy": "2022-07-07T12:50:37.963474Z",
     "iopub.status.idle": "2022-07-07T12:50:37.984086Z",
     "shell.execute_reply": "2022-07-07T12:50:37.982863Z"
    },
    "papermill": {
     "duration": 0.044016,
     "end_time": "2022-07-07T12:50:37.987039",
     "exception": false,
     "start_time": "2022-07-07T12:50:37.943023",
     "status": "completed"
    },
    "tags": []
   },
   "outputs": [
    {
     "name": "stdout",
     "output_type": "stream",
     "text": [
      "                            OLS Regression Results                            \n",
      "==============================================================================\n",
      "Dep. Variable:              roughness   R-squared:                       0.872\n",
      "Model:                            OLS   Adj. R-squared:                  0.857\n",
      "Method:                 Least Squares   F-statistic:                     59.78\n",
      "Date:                Thu, 18 Apr 2024   Prob (F-statistic):           1.67e-18\n",
      "Time:                        00:31:55   Log-Likelihood:                -248.88\n",
      "No. Observations:                  50   AIC:                             509.8\n",
      "Df Residuals:                      44   BIC:                             521.2\n",
      "Df Model:                           5                                         \n",
      "Covariance Type:            nonrobust                                         \n",
      "======================================================================================\n",
      "                         coef    std err          t      P>|t|      [0.025      0.975]\n",
      "--------------------------------------------------------------------------------------\n",
      "const                 -0.9307      0.151     -6.172      0.000      -1.235      -0.627\n",
      "layer_height        1246.5353     83.178     14.986      0.000    1078.901    1414.169\n",
      "nozzle_temperature    14.7774      2.398      6.163      0.000       9.945      19.610\n",
      "bed_temperature      -54.3045      8.815     -6.160      0.000     -72.070     -36.539\n",
      "print_speed            0.5538      0.180      3.070      0.004       0.190       0.917\n",
      "material             294.1610     56.159      5.238      0.000     180.981     407.341\n",
      "fan_speed              7.6993      1.177      6.542      0.000       5.328      10.071\n",
      "==============================================================================\n",
      "Omnibus:                        0.850   Durbin-Watson:                   1.367\n",
      "Prob(Omnibus):                  0.654   Jarque-Bera (JB):                0.720\n",
      "Skew:                           0.285   Prob(JB):                        0.698\n",
      "Kurtosis:                       2.857   Cond. No.                     2.88e+18\n",
      "==============================================================================\n",
      "\n",
      "Notes:\n",
      "[1] Standard Errors assume that the covariance matrix of the errors is correctly specified.\n",
      "[2] The smallest eigenvalue is 3.69e-31. This might indicate that there are\n",
      "strong multicollinearity problems or that the design matrix is singular.\n"
     ]
    }
   ],
   "source": [
    "#calling the linear regression function\n",
    "linear_Regression(X,y)"
   ]
  },
  {
   "cell_type": "markdown",
   "id": "643289c5",
   "metadata": {
    "papermill": {
     "duration": 0.018772,
     "end_time": "2022-07-07T12:50:38.024499",
     "exception": false,
     "start_time": "2022-07-07T12:50:38.005727",
     "status": "completed"
    },
    "tags": []
   },
   "source": [
    "## Inference\n",
    "1. The **R-squared** value decreases to **87.2%** which is **not much decrease**.\n",
    "2. The **p-values** of all the **considered features** do play an **important role** in predicting the label.\n",
    "3. We can **improve** the **model** further by considering **interaction terms** based on the **correlation heatmap**.\n",
    "4. The various interaction terms are as follows\n",
    "    - Material and nozzle temperature (-0.78)\n",
    "    - Bed temperature and nozzle temperature (0.6)\n",
    "    - Fan speed and nozzle temperatue (0.6)\n",
    "    - Fan speed and bed temperature (1)"
   ]
  },
  {
   "cell_type": "code",
   "execution_count": 125,
   "id": "d261d1ea",
   "metadata": {
    "execution": {
     "iopub.execute_input": "2022-07-07T12:50:38.063458Z",
     "iopub.status.busy": "2022-07-07T12:50:38.062500Z",
     "iopub.status.idle": "2022-07-07T12:50:38.076943Z",
     "shell.execute_reply": "2022-07-07T12:50:38.075708Z"
    },
    "papermill": {
     "duration": 0.037016,
     "end_time": "2022-07-07T12:50:38.079736",
     "exception": false,
     "start_time": "2022-07-07T12:50:38.042720",
     "status": "completed"
    },
    "tags": []
   },
   "outputs": [
    {
     "data": {
      "text/html": [
       "<div>\n",
       "<style scoped>\n",
       "    .dataframe tbody tr th:only-of-type {\n",
       "        vertical-align: middle;\n",
       "    }\n",
       "\n",
       "    .dataframe tbody tr th {\n",
       "        vertical-align: top;\n",
       "    }\n",
       "\n",
       "    .dataframe thead th {\n",
       "        text-align: right;\n",
       "    }\n",
       "</style>\n",
       "<table border=\"1\" class=\"dataframe\">\n",
       "  <thead>\n",
       "    <tr style=\"text-align: right;\">\n",
       "      <th></th>\n",
       "      <th>layer_height</th>\n",
       "      <th>nozzle_temperature</th>\n",
       "      <th>bed_temperature</th>\n",
       "      <th>print_speed</th>\n",
       "      <th>material</th>\n",
       "      <th>fan_speed</th>\n",
       "    </tr>\n",
       "  </thead>\n",
       "  <tbody>\n",
       "    <tr>\n",
       "      <th>0</th>\n",
       "      <td>0.02</td>\n",
       "      <td>220</td>\n",
       "      <td>60</td>\n",
       "      <td>40</td>\n",
       "      <td>0</td>\n",
       "      <td>0</td>\n",
       "    </tr>\n",
       "    <tr>\n",
       "      <th>1</th>\n",
       "      <td>0.02</td>\n",
       "      <td>225</td>\n",
       "      <td>65</td>\n",
       "      <td>40</td>\n",
       "      <td>0</td>\n",
       "      <td>25</td>\n",
       "    </tr>\n",
       "    <tr>\n",
       "      <th>2</th>\n",
       "      <td>0.02</td>\n",
       "      <td>230</td>\n",
       "      <td>70</td>\n",
       "      <td>40</td>\n",
       "      <td>0</td>\n",
       "      <td>50</td>\n",
       "    </tr>\n",
       "    <tr>\n",
       "      <th>3</th>\n",
       "      <td>0.02</td>\n",
       "      <td>240</td>\n",
       "      <td>75</td>\n",
       "      <td>40</td>\n",
       "      <td>0</td>\n",
       "      <td>75</td>\n",
       "    </tr>\n",
       "    <tr>\n",
       "      <th>4</th>\n",
       "      <td>0.02</td>\n",
       "      <td>250</td>\n",
       "      <td>80</td>\n",
       "      <td>40</td>\n",
       "      <td>0</td>\n",
       "      <td>100</td>\n",
       "    </tr>\n",
       "  </tbody>\n",
       "</table>\n",
       "</div>"
      ],
      "text/plain": [
       "   layer_height  nozzle_temperature  bed_temperature  print_speed  material  \\\n",
       "0          0.02                 220               60           40         0   \n",
       "1          0.02                 225               65           40         0   \n",
       "2          0.02                 230               70           40         0   \n",
       "3          0.02                 240               75           40         0   \n",
       "4          0.02                 250               80           40         0   \n",
       "\n",
       "   fan_speed  \n",
       "0          0  \n",
       "1         25  \n",
       "2         50  \n",
       "3         75  \n",
       "4        100  "
      ]
     },
     "execution_count": 125,
     "metadata": {},
     "output_type": "execute_result"
    }
   ],
   "source": [
    "X.head()"
   ]
  },
  {
   "cell_type": "code",
   "execution_count": 126,
   "id": "55f605fc",
   "metadata": {
    "execution": {
     "iopub.execute_input": "2022-07-07T12:50:38.126426Z",
     "iopub.status.busy": "2022-07-07T12:50:38.125119Z",
     "iopub.status.idle": "2022-07-07T12:50:38.138717Z",
     "shell.execute_reply": "2022-07-07T12:50:38.137642Z"
    },
    "papermill": {
     "duration": 0.042598,
     "end_time": "2022-07-07T12:50:38.141074",
     "exception": false,
     "start_time": "2022-07-07T12:50:38.098476",
     "status": "completed"
    },
    "tags": []
   },
   "outputs": [
    {
     "data": {
      "text/html": [
       "<div>\n",
       "<style scoped>\n",
       "    .dataframe tbody tr th:only-of-type {\n",
       "        vertical-align: middle;\n",
       "    }\n",
       "\n",
       "    .dataframe tbody tr th {\n",
       "        vertical-align: top;\n",
       "    }\n",
       "\n",
       "    .dataframe thead th {\n",
       "        text-align: right;\n",
       "    }\n",
       "</style>\n",
       "<table border=\"1\" class=\"dataframe\">\n",
       "  <thead>\n",
       "    <tr style=\"text-align: right;\">\n",
       "      <th></th>\n",
       "      <th>layer_height</th>\n",
       "      <th>nozzle_temperature</th>\n",
       "      <th>bed_temperature</th>\n",
       "      <th>print_speed</th>\n",
       "      <th>material</th>\n",
       "      <th>fan_speed</th>\n",
       "    </tr>\n",
       "  </thead>\n",
       "  <tbody>\n",
       "    <tr>\n",
       "      <th>0</th>\n",
       "      <td>0.02</td>\n",
       "      <td>220</td>\n",
       "      <td>60</td>\n",
       "      <td>40</td>\n",
       "      <td>0</td>\n",
       "      <td>0</td>\n",
       "    </tr>\n",
       "    <tr>\n",
       "      <th>1</th>\n",
       "      <td>0.02</td>\n",
       "      <td>225</td>\n",
       "      <td>65</td>\n",
       "      <td>40</td>\n",
       "      <td>0</td>\n",
       "      <td>25</td>\n",
       "    </tr>\n",
       "    <tr>\n",
       "      <th>2</th>\n",
       "      <td>0.02</td>\n",
       "      <td>230</td>\n",
       "      <td>70</td>\n",
       "      <td>40</td>\n",
       "      <td>0</td>\n",
       "      <td>50</td>\n",
       "    </tr>\n",
       "    <tr>\n",
       "      <th>3</th>\n",
       "      <td>0.02</td>\n",
       "      <td>240</td>\n",
       "      <td>75</td>\n",
       "      <td>40</td>\n",
       "      <td>0</td>\n",
       "      <td>75</td>\n",
       "    </tr>\n",
       "    <tr>\n",
       "      <th>4</th>\n",
       "      <td>0.02</td>\n",
       "      <td>250</td>\n",
       "      <td>80</td>\n",
       "      <td>40</td>\n",
       "      <td>0</td>\n",
       "      <td>100</td>\n",
       "    </tr>\n",
       "  </tbody>\n",
       "</table>\n",
       "</div>"
      ],
      "text/plain": [
       "   layer_height  nozzle_temperature  bed_temperature  print_speed  material  \\\n",
       "0          0.02                 220               60           40         0   \n",
       "1          0.02                 225               65           40         0   \n",
       "2          0.02                 230               70           40         0   \n",
       "3          0.02                 240               75           40         0   \n",
       "4          0.02                 250               80           40         0   \n",
       "\n",
       "   fan_speed  \n",
       "0          0  \n",
       "1         25  \n",
       "2         50  \n",
       "3         75  \n",
       "4        100  "
      ]
     },
     "execution_count": 126,
     "metadata": {},
     "output_type": "execute_result"
    }
   ],
   "source": [
    "X.head()"
   ]
  },
  {
   "cell_type": "code",
   "execution_count": 127,
   "id": "47d3f023",
   "metadata": {
    "execution": {
     "iopub.execute_input": "2022-07-07T12:50:38.181843Z",
     "iopub.status.busy": "2022-07-07T12:50:38.180941Z",
     "iopub.status.idle": "2022-07-07T12:50:38.189435Z",
     "shell.execute_reply": "2022-07-07T12:50:38.188376Z"
    },
    "papermill": {
     "duration": 0.032184,
     "end_time": "2022-07-07T12:50:38.192258",
     "exception": false,
     "start_time": "2022-07-07T12:50:38.160074",
     "status": "completed"
    },
    "tags": []
   },
   "outputs": [],
   "source": [
    "#get the interaction terms by multiplying values\n",
    "\n",
    "inter_mn = X['material']*X['nozzle_temperature']\n",
    "inter_bn = X['bed_temperature']*X['nozzle_temperature']\n",
    "inter_fn = X['fan_speed']*X['nozzle_temperature']\n",
    "inter_fb = X['fan_speed']*X['bed_temperature']"
   ]
  },
  {
   "cell_type": "code",
   "execution_count": 128,
   "id": "11709e40",
   "metadata": {
    "execution": {
     "iopub.execute_input": "2022-07-07T12:50:38.234294Z",
     "iopub.status.busy": "2022-07-07T12:50:38.233550Z",
     "iopub.status.idle": "2022-07-07T12:50:38.255489Z",
     "shell.execute_reply": "2022-07-07T12:50:38.254375Z"
    },
    "papermill": {
     "duration": 0.046922,
     "end_time": "2022-07-07T12:50:38.258324",
     "exception": false,
     "start_time": "2022-07-07T12:50:38.211402",
     "status": "completed"
    },
    "tags": []
   },
   "outputs": [
    {
     "data": {
      "text/html": [
       "<div>\n",
       "<style scoped>\n",
       "    .dataframe tbody tr th:only-of-type {\n",
       "        vertical-align: middle;\n",
       "    }\n",
       "\n",
       "    .dataframe tbody tr th {\n",
       "        vertical-align: top;\n",
       "    }\n",
       "\n",
       "    .dataframe thead th {\n",
       "        text-align: right;\n",
       "    }\n",
       "</style>\n",
       "<table border=\"1\" class=\"dataframe\">\n",
       "  <thead>\n",
       "    <tr style=\"text-align: right;\">\n",
       "      <th></th>\n",
       "      <th>layer_height</th>\n",
       "      <th>nozzle_temperature</th>\n",
       "      <th>bed_temperature</th>\n",
       "      <th>print_speed</th>\n",
       "      <th>material</th>\n",
       "      <th>fan_speed</th>\n",
       "      <th>interct_mn</th>\n",
       "      <th>interact_bn</th>\n",
       "      <th>interact_fn</th>\n",
       "      <th>interact_fb</th>\n",
       "    </tr>\n",
       "  </thead>\n",
       "  <tbody>\n",
       "    <tr>\n",
       "      <th>0</th>\n",
       "      <td>0.02</td>\n",
       "      <td>220</td>\n",
       "      <td>60</td>\n",
       "      <td>40</td>\n",
       "      <td>0</td>\n",
       "      <td>0</td>\n",
       "      <td>0</td>\n",
       "      <td>13200</td>\n",
       "      <td>0</td>\n",
       "      <td>0</td>\n",
       "    </tr>\n",
       "    <tr>\n",
       "      <th>1</th>\n",
       "      <td>0.02</td>\n",
       "      <td>225</td>\n",
       "      <td>65</td>\n",
       "      <td>40</td>\n",
       "      <td>0</td>\n",
       "      <td>25</td>\n",
       "      <td>0</td>\n",
       "      <td>14625</td>\n",
       "      <td>5625</td>\n",
       "      <td>1625</td>\n",
       "    </tr>\n",
       "    <tr>\n",
       "      <th>2</th>\n",
       "      <td>0.02</td>\n",
       "      <td>230</td>\n",
       "      <td>70</td>\n",
       "      <td>40</td>\n",
       "      <td>0</td>\n",
       "      <td>50</td>\n",
       "      <td>0</td>\n",
       "      <td>16100</td>\n",
       "      <td>11500</td>\n",
       "      <td>3500</td>\n",
       "    </tr>\n",
       "    <tr>\n",
       "      <th>3</th>\n",
       "      <td>0.02</td>\n",
       "      <td>240</td>\n",
       "      <td>75</td>\n",
       "      <td>40</td>\n",
       "      <td>0</td>\n",
       "      <td>75</td>\n",
       "      <td>0</td>\n",
       "      <td>18000</td>\n",
       "      <td>18000</td>\n",
       "      <td>5625</td>\n",
       "    </tr>\n",
       "    <tr>\n",
       "      <th>4</th>\n",
       "      <td>0.02</td>\n",
       "      <td>250</td>\n",
       "      <td>80</td>\n",
       "      <td>40</td>\n",
       "      <td>0</td>\n",
       "      <td>100</td>\n",
       "      <td>0</td>\n",
       "      <td>20000</td>\n",
       "      <td>25000</td>\n",
       "      <td>8000</td>\n",
       "    </tr>\n",
       "    <tr>\n",
       "      <th>5</th>\n",
       "      <td>0.02</td>\n",
       "      <td>200</td>\n",
       "      <td>60</td>\n",
       "      <td>40</td>\n",
       "      <td>1</td>\n",
       "      <td>0</td>\n",
       "      <td>200</td>\n",
       "      <td>12000</td>\n",
       "      <td>0</td>\n",
       "      <td>0</td>\n",
       "    </tr>\n",
       "    <tr>\n",
       "      <th>6</th>\n",
       "      <td>0.02</td>\n",
       "      <td>205</td>\n",
       "      <td>65</td>\n",
       "      <td>40</td>\n",
       "      <td>1</td>\n",
       "      <td>25</td>\n",
       "      <td>205</td>\n",
       "      <td>13325</td>\n",
       "      <td>5125</td>\n",
       "      <td>1625</td>\n",
       "    </tr>\n",
       "    <tr>\n",
       "      <th>7</th>\n",
       "      <td>0.02</td>\n",
       "      <td>210</td>\n",
       "      <td>70</td>\n",
       "      <td>40</td>\n",
       "      <td>1</td>\n",
       "      <td>50</td>\n",
       "      <td>210</td>\n",
       "      <td>14700</td>\n",
       "      <td>10500</td>\n",
       "      <td>3500</td>\n",
       "    </tr>\n",
       "    <tr>\n",
       "      <th>8</th>\n",
       "      <td>0.02</td>\n",
       "      <td>215</td>\n",
       "      <td>75</td>\n",
       "      <td>40</td>\n",
       "      <td>1</td>\n",
       "      <td>75</td>\n",
       "      <td>215</td>\n",
       "      <td>16125</td>\n",
       "      <td>16125</td>\n",
       "      <td>5625</td>\n",
       "    </tr>\n",
       "    <tr>\n",
       "      <th>9</th>\n",
       "      <td>0.02</td>\n",
       "      <td>220</td>\n",
       "      <td>80</td>\n",
       "      <td>40</td>\n",
       "      <td>1</td>\n",
       "      <td>100</td>\n",
       "      <td>220</td>\n",
       "      <td>17600</td>\n",
       "      <td>22000</td>\n",
       "      <td>8000</td>\n",
       "    </tr>\n",
       "  </tbody>\n",
       "</table>\n",
       "</div>"
      ],
      "text/plain": [
       "   layer_height  nozzle_temperature  bed_temperature  print_speed  material  \\\n",
       "0          0.02                 220               60           40         0   \n",
       "1          0.02                 225               65           40         0   \n",
       "2          0.02                 230               70           40         0   \n",
       "3          0.02                 240               75           40         0   \n",
       "4          0.02                 250               80           40         0   \n",
       "5          0.02                 200               60           40         1   \n",
       "6          0.02                 205               65           40         1   \n",
       "7          0.02                 210               70           40         1   \n",
       "8          0.02                 215               75           40         1   \n",
       "9          0.02                 220               80           40         1   \n",
       "\n",
       "   fan_speed  interct_mn  interact_bn  interact_fn  interact_fb  \n",
       "0          0           0        13200            0            0  \n",
       "1         25           0        14625         5625         1625  \n",
       "2         50           0        16100        11500         3500  \n",
       "3         75           0        18000        18000         5625  \n",
       "4        100           0        20000        25000         8000  \n",
       "5          0         200        12000            0            0  \n",
       "6         25         205        13325         5125         1625  \n",
       "7         50         210        14700        10500         3500  \n",
       "8         75         215        16125        16125         5625  \n",
       "9        100         220        17600        22000         8000  "
      ]
     },
     "execution_count": 128,
     "metadata": {},
     "output_type": "execute_result"
    }
   ],
   "source": [
    "#adding these interaction terms to dataset using .concat() function of pandas\n",
    "#we will call this dataset as interaction\n",
    "\n",
    "interaction = pd.concat([X,inter_mn,inter_bn,inter_fn,inter_fb], axis = 1)\n",
    "\n",
    "#chenge column names of this interaction terms\n",
    "interaction = interaction.rename(columns = {0:'interct_mn', 1:'interact_bn', 2:'interact_fn',\n",
    "                             3:'interact_fb'})\n",
    "\n",
    "interaction.head(10)"
   ]
  },
  {
   "cell_type": "code",
   "execution_count": 129,
   "id": "5987bc4c",
   "metadata": {
    "execution": {
     "iopub.execute_input": "2022-07-07T12:50:38.301599Z",
     "iopub.status.busy": "2022-07-07T12:50:38.300808Z",
     "iopub.status.idle": "2022-07-07T12:50:38.321812Z",
     "shell.execute_reply": "2022-07-07T12:50:38.320371Z"
    },
    "papermill": {
     "duration": 0.046408,
     "end_time": "2022-07-07T12:50:38.325240",
     "exception": false,
     "start_time": "2022-07-07T12:50:38.278832",
     "status": "completed"
    },
    "tags": []
   },
   "outputs": [
    {
     "name": "stdout",
     "output_type": "stream",
     "text": [
      "                            OLS Regression Results                            \n",
      "==============================================================================\n",
      "Dep. Variable:              roughness   R-squared:                       0.925\n",
      "Model:                            OLS   Adj. R-squared:                  0.910\n",
      "Method:                 Least Squares   F-statistic:                     63.22\n",
      "Date:                Thu, 18 Apr 2024   Prob (F-statistic):           1.31e-20\n",
      "Time:                        00:31:56   Log-Likelihood:                -235.45\n",
      "No. Observations:                  50   AIC:                             488.9\n",
      "Df Residuals:                      41   BIC:                             506.1\n",
      "Df Model:                           8                                         \n",
      "Covariance Type:            nonrobust                                         \n",
      "======================================================================================\n",
      "                         coef    std err          t      P>|t|      [0.025      0.975]\n",
      "--------------------------------------------------------------------------------------\n",
      "const                 -1.0735      0.923     -1.163      0.252      -2.938       0.791\n",
      "layer_height        1246.5353     65.870     18.924      0.000    1113.508    1379.562\n",
      "nozzle_temperature     0.0050      0.004      1.146      0.259      -0.004       0.014\n",
      "bed_temperature      -57.8032     50.004     -1.156      0.254    -158.788      43.182\n",
      "print_speed            0.5538      0.143      3.877      0.000       0.265       0.842\n",
      "material            5516.1791   2836.453      1.945      0.059    -212.153    1.12e+04\n",
      "fan_speed             33.0427     27.526      1.200      0.237     -22.546      88.632\n",
      "interct_mn           -25.7036     12.956     -1.984      0.054     -51.869       0.462\n",
      "interact_bn            0.2588      0.227      1.138      0.262      -0.201       0.718\n",
      "interact_fn           -0.2032      0.174     -1.169      0.249      -0.554       0.148\n",
      "interact_fb            0.1662      0.138      1.206      0.235      -0.112       0.444\n",
      "==============================================================================\n",
      "Omnibus:                        0.934   Durbin-Watson:                   1.345\n",
      "Prob(Omnibus):                  0.627   Jarque-Bera (JB):                0.333\n",
      "Skew:                           0.132   Prob(JB):                        0.847\n",
      "Kurtosis:                       3.300   Cond. No.                     6.34e+20\n",
      "==============================================================================\n",
      "\n",
      "Notes:\n",
      "[1] Standard Errors assume that the covariance matrix of the errors is correctly specified.\n",
      "[2] The smallest eigenvalue is 5.49e-32. This might indicate that there are\n",
      "strong multicollinearity problems or that the design matrix is singular.\n"
     ]
    }
   ],
   "source": [
    "# NOw let's fit this model to the linear regression function\n",
    "\n",
    "linear_Regression(interaction,y)"
   ]
  },
  {
   "cell_type": "markdown",
   "id": "851ff072",
   "metadata": {
    "execution": {
     "iopub.execute_input": "2022-07-07T04:58:59.8879Z",
     "iopub.status.busy": "2022-07-07T04:58:59.887516Z",
     "iopub.status.idle": "2022-07-07T04:58:59.89728Z",
     "shell.execute_reply": "2022-07-07T04:58:59.896372Z",
     "shell.execute_reply.started": "2022-07-07T04:58:59.887863Z"
    },
    "papermill": {
     "duration": 0.019381,
     "end_time": "2022-07-07T12:50:38.364324",
     "exception": false,
     "start_time": "2022-07-07T12:50:38.344943",
     "status": "completed"
    },
    "tags": []
   },
   "source": [
    "## Model Summary\n",
    "- Alright now, we have an increased R-squared of 92.5% or 0.925 which is very high.\n",
    "- We will stop here and declare this model as the most suitable for predicting roughness"
   ]
  },
  {
   "cell_type": "markdown",
   "id": "f1f134c8",
   "metadata": {
    "papermill": {
     "duration": 0.019447,
     "end_time": "2022-07-07T12:50:38.404314",
     "exception": false,
     "start_time": "2022-07-07T12:50:38.384867",
     "status": "completed"
    },
    "tags": []
   },
   "source": [
    "Roughness = -1.0735 + 1246.5353* layer_height + 0.0050 * nozzle_temperature - 57.8032 * bed_temperature + 0.5538 * print_speed + 5516.1791 * material + 33.0427 * fan_speed -25.7036 * intercation_material_nozz_temp + 0.2588 * interaction_bed_temp_nozz_temp - 0.2032 * fan_speed*noz_temp + 0.1662 * interact_fan_speed_bed_temp"
   ]
  },
  {
   "cell_type": "markdown",
   "id": "ff027989",
   "metadata": {
    "papermill": {
     "duration": 0.020552,
     "end_time": "2022-07-07T12:50:38.444379",
     "exception": false,
     "start_time": "2022-07-07T12:50:38.423827",
     "status": "completed"
    },
    "tags": []
   },
   "source": [
    "Similarly we will fit models for predicting tension strength and elongation as well. I will reduce the explanations here. The procedure is absolutely same starting with all features and then tuning for better results."
   ]
  },
  {
   "cell_type": "markdown",
   "id": "52acd60a",
   "metadata": {
    "papermill": {
     "duration": 0.019327,
     "end_time": "2022-07-07T12:50:38.483292",
     "exception": false,
     "start_time": "2022-07-07T12:50:38.463965",
     "status": "completed"
    },
    "tags": []
   },
   "source": [
    "# Model 2: Predicting Tension strength based on features"
   ]
  },
  {
   "cell_type": "code",
   "execution_count": 130,
   "id": "a10e8c0e",
   "metadata": {
    "execution": {
     "iopub.execute_input": "2022-07-07T12:50:38.525031Z",
     "iopub.status.busy": "2022-07-07T12:50:38.524560Z",
     "iopub.status.idle": "2022-07-07T12:50:38.542116Z",
     "shell.execute_reply": "2022-07-07T12:50:38.541213Z"
    },
    "papermill": {
     "duration": 0.04141,
     "end_time": "2022-07-07T12:50:38.544445",
     "exception": false,
     "start_time": "2022-07-07T12:50:38.503035",
     "status": "completed"
    },
    "tags": []
   },
   "outputs": [
    {
     "data": {
      "text/html": [
       "<div>\n",
       "<style scoped>\n",
       "    .dataframe tbody tr th:only-of-type {\n",
       "        vertical-align: middle;\n",
       "    }\n",
       "\n",
       "    .dataframe tbody tr th {\n",
       "        vertical-align: top;\n",
       "    }\n",
       "\n",
       "    .dataframe thead th {\n",
       "        text-align: right;\n",
       "    }\n",
       "</style>\n",
       "<table border=\"1\" class=\"dataframe\">\n",
       "  <thead>\n",
       "    <tr style=\"text-align: right;\">\n",
       "      <th></th>\n",
       "      <th>layer_height</th>\n",
       "      <th>wall_thickness</th>\n",
       "      <th>infill_density</th>\n",
       "      <th>infill_pattern</th>\n",
       "      <th>nozzle_temperature</th>\n",
       "      <th>bed_temperature</th>\n",
       "      <th>print_speed</th>\n",
       "      <th>material</th>\n",
       "      <th>fan_speed</th>\n",
       "    </tr>\n",
       "  </thead>\n",
       "  <tbody>\n",
       "    <tr>\n",
       "      <th>0</th>\n",
       "      <td>0.02</td>\n",
       "      <td>8</td>\n",
       "      <td>90</td>\n",
       "      <td>0</td>\n",
       "      <td>220</td>\n",
       "      <td>60</td>\n",
       "      <td>40</td>\n",
       "      <td>0</td>\n",
       "      <td>0</td>\n",
       "    </tr>\n",
       "    <tr>\n",
       "      <th>1</th>\n",
       "      <td>0.02</td>\n",
       "      <td>7</td>\n",
       "      <td>90</td>\n",
       "      <td>1</td>\n",
       "      <td>225</td>\n",
       "      <td>65</td>\n",
       "      <td>40</td>\n",
       "      <td>0</td>\n",
       "      <td>25</td>\n",
       "    </tr>\n",
       "    <tr>\n",
       "      <th>2</th>\n",
       "      <td>0.02</td>\n",
       "      <td>1</td>\n",
       "      <td>80</td>\n",
       "      <td>0</td>\n",
       "      <td>230</td>\n",
       "      <td>70</td>\n",
       "      <td>40</td>\n",
       "      <td>0</td>\n",
       "      <td>50</td>\n",
       "    </tr>\n",
       "    <tr>\n",
       "      <th>3</th>\n",
       "      <td>0.02</td>\n",
       "      <td>4</td>\n",
       "      <td>70</td>\n",
       "      <td>1</td>\n",
       "      <td>240</td>\n",
       "      <td>75</td>\n",
       "      <td>40</td>\n",
       "      <td>0</td>\n",
       "      <td>75</td>\n",
       "    </tr>\n",
       "    <tr>\n",
       "      <th>4</th>\n",
       "      <td>0.02</td>\n",
       "      <td>6</td>\n",
       "      <td>90</td>\n",
       "      <td>0</td>\n",
       "      <td>250</td>\n",
       "      <td>80</td>\n",
       "      <td>40</td>\n",
       "      <td>0</td>\n",
       "      <td>100</td>\n",
       "    </tr>\n",
       "  </tbody>\n",
       "</table>\n",
       "</div>"
      ],
      "text/plain": [
       "   layer_height  wall_thickness  infill_density  infill_pattern  \\\n",
       "0          0.02               8              90               0   \n",
       "1          0.02               7              90               1   \n",
       "2          0.02               1              80               0   \n",
       "3          0.02               4              70               1   \n",
       "4          0.02               6              90               0   \n",
       "\n",
       "   nozzle_temperature  bed_temperature  print_speed  material  fan_speed  \n",
       "0                 220               60           40         0          0  \n",
       "1                 225               65           40         0         25  \n",
       "2                 230               70           40         0         50  \n",
       "3                 240               75           40         0         75  \n",
       "4                 250               80           40         0        100  "
      ]
     },
     "execution_count": 130,
     "metadata": {},
     "output_type": "execute_result"
    }
   ],
   "source": [
    "X = printer.drop(['roughness','tension_strenght','elongation'], axis = 1)\n",
    "X.head()"
   ]
  },
  {
   "cell_type": "code",
   "execution_count": 131,
   "id": "680d24e8",
   "metadata": {
    "execution": {
     "iopub.execute_input": "2022-07-07T12:50:38.587177Z",
     "iopub.status.busy": "2022-07-07T12:50:38.586325Z",
     "iopub.status.idle": "2022-07-07T12:50:38.594277Z",
     "shell.execute_reply": "2022-07-07T12:50:38.593399Z"
    },
    "papermill": {
     "duration": 0.031779,
     "end_time": "2022-07-07T12:50:38.596497",
     "exception": false,
     "start_time": "2022-07-07T12:50:38.564718",
     "status": "completed"
    },
    "tags": []
   },
   "outputs": [
    {
     "data": {
      "text/plain": [
       "0     18\n",
       "1     16\n",
       "2      8\n",
       "3     10\n",
       "4      5\n",
       "5     24\n",
       "6     12\n",
       "7     14\n",
       "8     27\n",
       "9     25\n",
       "10    37\n",
       "11    12\n",
       "12    16\n",
       "13     9\n",
       "14    10\n",
       "15    27\n",
       "16    23\n",
       "17    26\n",
       "18    33\n",
       "19    29\n",
       "20    16\n",
       "21    12\n",
       "22    10\n",
       "23    19\n",
       "24     8\n",
       "25    11\n",
       "26    12\n",
       "27    18\n",
       "28    34\n",
       "29    14\n",
       "30    27\n",
       "31    19\n",
       "32    18\n",
       "33     9\n",
       "34    13\n",
       "35    33\n",
       "36    24\n",
       "37    26\n",
       "38    22\n",
       "39     4\n",
       "40    35\n",
       "41    34\n",
       "42    28\n",
       "43    28\n",
       "44    21\n",
       "45    28\n",
       "46    14\n",
       "47    30\n",
       "48    29\n",
       "49    27\n",
       "Name: tension_strenght, dtype: int64"
      ]
     },
     "execution_count": 131,
     "metadata": {},
     "output_type": "execute_result"
    }
   ],
   "source": [
    "y = printer['tension_strenght']\n",
    "y"
   ]
  },
  {
   "cell_type": "code",
   "execution_count": 132,
   "id": "50a22def",
   "metadata": {
    "execution": {
     "iopub.execute_input": "2022-07-07T12:50:38.638895Z",
     "iopub.status.busy": "2022-07-07T12:50:38.638094Z",
     "iopub.status.idle": "2022-07-07T12:50:38.658717Z",
     "shell.execute_reply": "2022-07-07T12:50:38.657589Z"
    },
    "papermill": {
     "duration": 0.045299,
     "end_time": "2022-07-07T12:50:38.661672",
     "exception": false,
     "start_time": "2022-07-07T12:50:38.616373",
     "status": "completed"
    },
    "tags": []
   },
   "outputs": [
    {
     "name": "stdout",
     "output_type": "stream",
     "text": [
      "                            OLS Regression Results                            \n",
      "==============================================================================\n",
      "Dep. Variable:       tension_strenght   R-squared:                       0.673\n",
      "Model:                            OLS   Adj. R-squared:                  0.609\n",
      "Method:                 Least Squares   F-statistic:                     10.55\n",
      "Date:                Thu, 18 Apr 2024   Prob (F-statistic):           6.91e-08\n",
      "Time:                        00:31:56   Log-Likelihood:                -151.94\n",
      "No. Observations:                  50   AIC:                             321.9\n",
      "Df Residuals:                      41   BIC:                             339.1\n",
      "Df Model:                           8                                         \n",
      "Covariance Type:            nonrobust                                         \n",
      "======================================================================================\n",
      "                         coef    std err          t      P>|t|      [0.025      0.975]\n",
      "--------------------------------------------------------------------------------------\n",
      "const                  0.0663      0.023      2.863      0.007       0.020       0.113\n",
      "layer_height          55.5972     12.788      4.348      0.000      29.772      81.423\n",
      "wall_thickness         1.0687      0.319      3.346      0.002       0.424       1.714\n",
      "infill_density         0.1629      0.034      4.769      0.000       0.094       0.232\n",
      "infill_pattern        -1.1427      1.646     -0.694      0.491      -4.466       2.181\n",
      "nozzle_temperature    -1.0468      0.369     -2.837      0.007      -1.792      -0.302\n",
      "bed_temperature        3.8647      1.354      2.855      0.007       1.131       6.599\n",
      "print_speed           -0.0156      0.030     -0.519      0.607      -0.076       0.045\n",
      "material             -17.3051      8.515     -2.032      0.049     -34.502      -0.108\n",
      "fan_speed             -0.5719      0.181     -3.166      0.003      -0.937      -0.207\n",
      "==============================================================================\n",
      "Omnibus:                        0.265   Durbin-Watson:                   1.461\n",
      "Prob(Omnibus):                  0.876   Jarque-Bera (JB):                0.456\n",
      "Skew:                           0.060   Prob(JB):                        0.796\n",
      "Kurtosis:                       2.548   Cond. No.                     3.59e+18\n",
      "==============================================================================\n",
      "\n",
      "Notes:\n",
      "[1] Standard Errors assume that the covariance matrix of the errors is correctly specified.\n",
      "[2] The smallest eigenvalue is 2.48e-31. This might indicate that there are\n",
      "strong multicollinearity problems or that the design matrix is singular.\n"
     ]
    }
   ],
   "source": [
    "linear_Regression(X,y)"
   ]
  },
  {
   "cell_type": "code",
   "execution_count": 133,
   "id": "d888aa83",
   "metadata": {
    "execution": {
     "iopub.execute_input": "2022-07-07T12:50:38.705695Z",
     "iopub.status.busy": "2022-07-07T12:50:38.704801Z",
     "iopub.status.idle": "2022-07-07T12:50:38.719393Z",
     "shell.execute_reply": "2022-07-07T12:50:38.718111Z"
    },
    "papermill": {
     "duration": 0.039288,
     "end_time": "2022-07-07T12:50:38.722158",
     "exception": false,
     "start_time": "2022-07-07T12:50:38.682870",
     "status": "completed"
    },
    "tags": []
   },
   "outputs": [
    {
     "data": {
      "text/html": [
       "<div>\n",
       "<style scoped>\n",
       "    .dataframe tbody tr th:only-of-type {\n",
       "        vertical-align: middle;\n",
       "    }\n",
       "\n",
       "    .dataframe tbody tr th {\n",
       "        vertical-align: top;\n",
       "    }\n",
       "\n",
       "    .dataframe thead th {\n",
       "        text-align: right;\n",
       "    }\n",
       "</style>\n",
       "<table border=\"1\" class=\"dataframe\">\n",
       "  <thead>\n",
       "    <tr style=\"text-align: right;\">\n",
       "      <th></th>\n",
       "      <th>layer_height</th>\n",
       "      <th>wall_thickness</th>\n",
       "      <th>infill_density</th>\n",
       "      <th>nozzle_temperature</th>\n",
       "      <th>bed_temperature</th>\n",
       "      <th>fan_speed</th>\n",
       "    </tr>\n",
       "  </thead>\n",
       "  <tbody>\n",
       "    <tr>\n",
       "      <th>0</th>\n",
       "      <td>0.02</td>\n",
       "      <td>8</td>\n",
       "      <td>90</td>\n",
       "      <td>220</td>\n",
       "      <td>60</td>\n",
       "      <td>0</td>\n",
       "    </tr>\n",
       "    <tr>\n",
       "      <th>1</th>\n",
       "      <td>0.02</td>\n",
       "      <td>7</td>\n",
       "      <td>90</td>\n",
       "      <td>225</td>\n",
       "      <td>65</td>\n",
       "      <td>25</td>\n",
       "    </tr>\n",
       "    <tr>\n",
       "      <th>2</th>\n",
       "      <td>0.02</td>\n",
       "      <td>1</td>\n",
       "      <td>80</td>\n",
       "      <td>230</td>\n",
       "      <td>70</td>\n",
       "      <td>50</td>\n",
       "    </tr>\n",
       "    <tr>\n",
       "      <th>3</th>\n",
       "      <td>0.02</td>\n",
       "      <td>4</td>\n",
       "      <td>70</td>\n",
       "      <td>240</td>\n",
       "      <td>75</td>\n",
       "      <td>75</td>\n",
       "    </tr>\n",
       "    <tr>\n",
       "      <th>4</th>\n",
       "      <td>0.02</td>\n",
       "      <td>6</td>\n",
       "      <td>90</td>\n",
       "      <td>250</td>\n",
       "      <td>80</td>\n",
       "      <td>100</td>\n",
       "    </tr>\n",
       "  </tbody>\n",
       "</table>\n",
       "</div>"
      ],
      "text/plain": [
       "   layer_height  wall_thickness  infill_density  nozzle_temperature  \\\n",
       "0          0.02               8              90                 220   \n",
       "1          0.02               7              90                 225   \n",
       "2          0.02               1              80                 230   \n",
       "3          0.02               4              70                 240   \n",
       "4          0.02               6              90                 250   \n",
       "\n",
       "   bed_temperature  fan_speed  \n",
       "0               60          0  \n",
       "1               65         25  \n",
       "2               70         50  \n",
       "3               75         75  \n",
       "4               80        100  "
      ]
     },
     "execution_count": 133,
     "metadata": {},
     "output_type": "execute_result"
    }
   ],
   "source": [
    "X = X.drop(['infill_pattern','print_speed','material'], axis = 1)\n",
    "X.head()"
   ]
  },
  {
   "cell_type": "code",
   "execution_count": 134,
   "id": "d9897844",
   "metadata": {
    "execution": {
     "iopub.execute_input": "2022-07-07T12:50:38.764834Z",
     "iopub.status.busy": "2022-07-07T12:50:38.764314Z",
     "iopub.status.idle": "2022-07-07T12:50:38.787916Z",
     "shell.execute_reply": "2022-07-07T12:50:38.786153Z"
    },
    "papermill": {
     "duration": 0.048768,
     "end_time": "2022-07-07T12:50:38.791084",
     "exception": false,
     "start_time": "2022-07-07T12:50:38.742316",
     "status": "completed"
    },
    "tags": []
   },
   "outputs": [
    {
     "name": "stdout",
     "output_type": "stream",
     "text": [
      "                            OLS Regression Results                            \n",
      "==============================================================================\n",
      "Dep. Variable:       tension_strenght   R-squared:                       0.634\n",
      "Model:                            OLS   Adj. R-squared:                  0.593\n",
      "Method:                 Least Squares   F-statistic:                     15.27\n",
      "Date:                Thu, 18 Apr 2024   Prob (F-statistic):           1.07e-08\n",
      "Time:                        00:31:56   Log-Likelihood:                -154.73\n",
      "No. Observations:                  50   AIC:                             321.5\n",
      "Df Residuals:                      44   BIC:                             332.9\n",
      "Df Model:                           5                                         \n",
      "Covariance Type:            nonrobust                                         \n",
      "======================================================================================\n",
      "                         coef    std err          t      P>|t|      [0.025      0.975]\n",
      "--------------------------------------------------------------------------------------\n",
      "const                  0.0191      0.004      4.358      0.000       0.010       0.028\n",
      "layer_height          56.6997     12.886      4.400      0.000      30.730      82.669\n",
      "wall_thickness         1.1478      0.290      3.965      0.000       0.564       1.731\n",
      "infill_density         0.1543      0.034      4.537      0.000       0.086       0.223\n",
      "nozzle_temperature    -0.3028      0.073     -4.141      0.000      -0.450      -0.155\n",
      "bed_temperature        1.1021      0.255      4.318      0.000       0.588       1.617\n",
      "fan_speed             -0.2052      0.043     -4.812      0.000      -0.291      -0.119\n",
      "==============================================================================\n",
      "Omnibus:                        0.429   Durbin-Watson:                   1.310\n",
      "Prob(Omnibus):                  0.807   Jarque-Bera (JB):                0.404\n",
      "Skew:                           0.202   Prob(JB):                        0.817\n",
      "Kurtosis:                       2.824   Cond. No.                     3.17e+18\n",
      "==============================================================================\n",
      "\n",
      "Notes:\n",
      "[1] Standard Errors assume that the covariance matrix of the errors is correctly specified.\n",
      "[2] The smallest eigenvalue is 2.97e-31. This might indicate that there are\n",
      "strong multicollinearity problems or that the design matrix is singular.\n"
     ]
    }
   ],
   "source": [
    "linear_Regression(X,y)"
   ]
  },
  {
   "cell_type": "code",
   "execution_count": 135,
   "id": "09ddb8f6",
   "metadata": {
    "execution": {
     "iopub.execute_input": "2022-07-07T12:50:38.836727Z",
     "iopub.status.busy": "2022-07-07T12:50:38.835013Z",
     "iopub.status.idle": "2022-07-07T12:50:38.859119Z",
     "shell.execute_reply": "2022-07-07T12:50:38.857776Z"
    },
    "papermill": {
     "duration": 0.050037,
     "end_time": "2022-07-07T12:50:38.861991",
     "exception": false,
     "start_time": "2022-07-07T12:50:38.811954",
     "status": "completed"
    },
    "tags": []
   },
   "outputs": [
    {
     "data": {
      "text/html": [
       "<div>\n",
       "<style scoped>\n",
       "    .dataframe tbody tr th:only-of-type {\n",
       "        vertical-align: middle;\n",
       "    }\n",
       "\n",
       "    .dataframe tbody tr th {\n",
       "        vertical-align: top;\n",
       "    }\n",
       "\n",
       "    .dataframe thead th {\n",
       "        text-align: right;\n",
       "    }\n",
       "</style>\n",
       "<table border=\"1\" class=\"dataframe\">\n",
       "  <thead>\n",
       "    <tr style=\"text-align: right;\">\n",
       "      <th></th>\n",
       "      <th>layer_height</th>\n",
       "      <th>wall_thickness</th>\n",
       "      <th>infill_density</th>\n",
       "      <th>nozzle_temperature</th>\n",
       "      <th>bed_temperature</th>\n",
       "      <th>fan_speed</th>\n",
       "      <th>interct_mn</th>\n",
       "      <th>interact_bn</th>\n",
       "      <th>interact_fn</th>\n",
       "      <th>interact_fb</th>\n",
       "    </tr>\n",
       "  </thead>\n",
       "  <tbody>\n",
       "    <tr>\n",
       "      <th>0</th>\n",
       "      <td>0.02</td>\n",
       "      <td>8</td>\n",
       "      <td>90</td>\n",
       "      <td>220</td>\n",
       "      <td>60</td>\n",
       "      <td>0</td>\n",
       "      <td>0</td>\n",
       "      <td>13200</td>\n",
       "      <td>0</td>\n",
       "      <td>0</td>\n",
       "    </tr>\n",
       "    <tr>\n",
       "      <th>1</th>\n",
       "      <td>0.02</td>\n",
       "      <td>7</td>\n",
       "      <td>90</td>\n",
       "      <td>225</td>\n",
       "      <td>65</td>\n",
       "      <td>25</td>\n",
       "      <td>0</td>\n",
       "      <td>14625</td>\n",
       "      <td>5625</td>\n",
       "      <td>1625</td>\n",
       "    </tr>\n",
       "    <tr>\n",
       "      <th>2</th>\n",
       "      <td>0.02</td>\n",
       "      <td>1</td>\n",
       "      <td>80</td>\n",
       "      <td>230</td>\n",
       "      <td>70</td>\n",
       "      <td>50</td>\n",
       "      <td>0</td>\n",
       "      <td>16100</td>\n",
       "      <td>11500</td>\n",
       "      <td>3500</td>\n",
       "    </tr>\n",
       "    <tr>\n",
       "      <th>3</th>\n",
       "      <td>0.02</td>\n",
       "      <td>4</td>\n",
       "      <td>70</td>\n",
       "      <td>240</td>\n",
       "      <td>75</td>\n",
       "      <td>75</td>\n",
       "      <td>0</td>\n",
       "      <td>18000</td>\n",
       "      <td>18000</td>\n",
       "      <td>5625</td>\n",
       "    </tr>\n",
       "    <tr>\n",
       "      <th>4</th>\n",
       "      <td>0.02</td>\n",
       "      <td>6</td>\n",
       "      <td>90</td>\n",
       "      <td>250</td>\n",
       "      <td>80</td>\n",
       "      <td>100</td>\n",
       "      <td>0</td>\n",
       "      <td>20000</td>\n",
       "      <td>25000</td>\n",
       "      <td>8000</td>\n",
       "    </tr>\n",
       "  </tbody>\n",
       "</table>\n",
       "</div>"
      ],
      "text/plain": [
       "   layer_height  wall_thickness  infill_density  nozzle_temperature  \\\n",
       "0          0.02               8              90                 220   \n",
       "1          0.02               7              90                 225   \n",
       "2          0.02               1              80                 230   \n",
       "3          0.02               4              70                 240   \n",
       "4          0.02               6              90                 250   \n",
       "\n",
       "   bed_temperature  fan_speed  interct_mn  interact_bn  interact_fn  \\\n",
       "0               60          0           0        13200            0   \n",
       "1               65         25           0        14625         5625   \n",
       "2               70         50           0        16100        11500   \n",
       "3               75         75           0        18000        18000   \n",
       "4               80        100           0        20000        25000   \n",
       "\n",
       "   interact_fb  \n",
       "0            0  \n",
       "1         1625  \n",
       "2         3500  \n",
       "3         5625  \n",
       "4         8000  "
      ]
     },
     "execution_count": 135,
     "metadata": {},
     "output_type": "execute_result"
    }
   ],
   "source": [
    "interaction = pd.concat([X,inter_mn,inter_bn,inter_fn,inter_fb], axis = 1)\n",
    "\n",
    "interaction = interaction.rename(columns = {0:'interct_mn', 1:'interact_bn', 2:'interact_fn',\n",
    "                             3:'interact_fb'})\n",
    "\n",
    "interaction.head()"
   ]
  },
  {
   "cell_type": "code",
   "execution_count": 136,
   "id": "3bc9adda",
   "metadata": {
    "execution": {
     "iopub.execute_input": "2022-07-07T12:50:38.908426Z",
     "iopub.status.busy": "2022-07-07T12:50:38.907518Z",
     "iopub.status.idle": "2022-07-07T12:50:38.930734Z",
     "shell.execute_reply": "2022-07-07T12:50:38.929086Z"
    },
    "papermill": {
     "duration": 0.050344,
     "end_time": "2022-07-07T12:50:38.933811",
     "exception": false,
     "start_time": "2022-07-07T12:50:38.883467",
     "status": "completed"
    },
    "tags": []
   },
   "outputs": [
    {
     "name": "stdout",
     "output_type": "stream",
     "text": [
      "                            OLS Regression Results                            \n",
      "==============================================================================\n",
      "Dep. Variable:       tension_strenght   R-squared:                       0.718\n",
      "Model:                            OLS   Adj. R-squared:                  0.663\n",
      "Method:                 Least Squares   F-statistic:                     13.03\n",
      "Date:                Thu, 18 Apr 2024   Prob (F-statistic):           4.06e-09\n",
      "Time:                        00:31:56   Log-Likelihood:                -148.27\n",
      "No. Observations:                  50   AIC:                             314.5\n",
      "Df Residuals:                      41   BIC:                             331.7\n",
      "Df Model:                           8                                         \n",
      "Covariance Type:            nonrobust                                         \n",
      "======================================================================================\n",
      "                         coef    std err          t      P>|t|      [0.025      0.975]\n",
      "--------------------------------------------------------------------------------------\n",
      "const                 -0.0870      0.068     -1.280      0.208      -0.224       0.050\n",
      "layer_height          56.6017     11.739      4.822      0.000      32.895      80.309\n",
      "wall_thickness         1.1373      0.268      4.242      0.000       0.596       1.679\n",
      "infill_density         0.1587      0.032      4.928      0.000       0.094       0.224\n",
      "nozzle_temperature     0.0004      0.000      1.319      0.194      -0.000       0.001\n",
      "bed_temperature       -4.7917      3.832     -1.251      0.218     -12.530       2.946\n",
      "fan_speed              2.1355      1.273      1.678      0.101      -0.435       4.706\n",
      "interct_mn             0.1191      0.096      1.235      0.224      -0.076       0.314\n",
      "interact_bn            0.0221      0.017      1.263      0.214      -0.013       0.057\n",
      "interact_fn           -0.0138      0.007     -2.022      0.050      -0.028   -1.34e-05\n",
      "interact_fb            0.0077      0.004      1.830      0.075      -0.001       0.016\n",
      "==============================================================================\n",
      "Omnibus:                        0.134   Durbin-Watson:                   1.472\n",
      "Prob(Omnibus):                  0.935   Jarque-Bera (JB):                0.207\n",
      "Skew:                          -0.114   Prob(JB):                        0.902\n",
      "Kurtosis:                       2.782   Cond. No.                     5.23e+20\n",
      "==============================================================================\n",
      "\n",
      "Notes:\n",
      "[1] Standard Errors assume that the covariance matrix of the errors is correctly specified.\n",
      "[2] The smallest eigenvalue is 8.07e-32. This might indicate that there are\n",
      "strong multicollinearity problems or that the design matrix is singular.\n"
     ]
    }
   ],
   "source": [
    "linear_Regression(interaction,y)"
   ]
  },
  {
   "cell_type": "markdown",
   "id": "7955076f",
   "metadata": {
    "papermill": {
     "duration": 0.022466,
     "end_time": "2022-07-07T12:50:38.978384",
     "exception": false,
     "start_time": "2022-07-07T12:50:38.955918",
     "status": "completed"
    },
    "tags": []
   },
   "source": [
    "## No further improvement for tension strength in linear regression"
   ]
  },
  {
   "cell_type": "markdown",
   "id": "5085ea80",
   "metadata": {
    "execution": {
     "iopub.execute_input": "2022-07-07T05:15:30.251663Z",
     "iopub.status.busy": "2022-07-07T05:15:30.251199Z",
     "iopub.status.idle": "2022-07-07T05:15:30.262781Z",
     "shell.execute_reply": "2022-07-07T05:15:30.261417Z",
     "shell.execute_reply.started": "2022-07-07T05:15:30.251626Z"
    },
    "papermill": {
     "duration": 0.022733,
     "end_time": "2022-07-07T12:50:39.023486",
     "exception": false,
     "start_time": "2022-07-07T12:50:39.000753",
     "status": "completed"
    },
    "tags": []
   },
   "source": [
    "# Model 3 : Predicitng Elongation based on the features"
   ]
  },
  {
   "cell_type": "code",
   "execution_count": 137,
   "id": "2ecb234c",
   "metadata": {
    "execution": {
     "iopub.execute_input": "2022-07-07T12:50:39.070019Z",
     "iopub.status.busy": "2022-07-07T12:50:39.069569Z",
     "iopub.status.idle": "2022-07-07T12:50:39.087953Z",
     "shell.execute_reply": "2022-07-07T12:50:39.086844Z"
    },
    "papermill": {
     "duration": 0.044463,
     "end_time": "2022-07-07T12:50:39.090973",
     "exception": false,
     "start_time": "2022-07-07T12:50:39.046510",
     "status": "completed"
    },
    "tags": []
   },
   "outputs": [
    {
     "data": {
      "text/html": [
       "<div>\n",
       "<style scoped>\n",
       "    .dataframe tbody tr th:only-of-type {\n",
       "        vertical-align: middle;\n",
       "    }\n",
       "\n",
       "    .dataframe tbody tr th {\n",
       "        vertical-align: top;\n",
       "    }\n",
       "\n",
       "    .dataframe thead th {\n",
       "        text-align: right;\n",
       "    }\n",
       "</style>\n",
       "<table border=\"1\" class=\"dataframe\">\n",
       "  <thead>\n",
       "    <tr style=\"text-align: right;\">\n",
       "      <th></th>\n",
       "      <th>layer_height</th>\n",
       "      <th>wall_thickness</th>\n",
       "      <th>infill_density</th>\n",
       "      <th>infill_pattern</th>\n",
       "      <th>nozzle_temperature</th>\n",
       "      <th>bed_temperature</th>\n",
       "      <th>print_speed</th>\n",
       "      <th>material</th>\n",
       "      <th>fan_speed</th>\n",
       "      <th>roughness</th>\n",
       "      <th>tension_strenght</th>\n",
       "      <th>elongation</th>\n",
       "    </tr>\n",
       "  </thead>\n",
       "  <tbody>\n",
       "    <tr>\n",
       "      <th>0</th>\n",
       "      <td>0.02</td>\n",
       "      <td>8</td>\n",
       "      <td>90</td>\n",
       "      <td>0</td>\n",
       "      <td>220</td>\n",
       "      <td>60</td>\n",
       "      <td>40</td>\n",
       "      <td>0</td>\n",
       "      <td>0</td>\n",
       "      <td>25</td>\n",
       "      <td>18</td>\n",
       "      <td>1.2</td>\n",
       "    </tr>\n",
       "    <tr>\n",
       "      <th>1</th>\n",
       "      <td>0.02</td>\n",
       "      <td>7</td>\n",
       "      <td>90</td>\n",
       "      <td>1</td>\n",
       "      <td>225</td>\n",
       "      <td>65</td>\n",
       "      <td>40</td>\n",
       "      <td>0</td>\n",
       "      <td>25</td>\n",
       "      <td>32</td>\n",
       "      <td>16</td>\n",
       "      <td>1.4</td>\n",
       "    </tr>\n",
       "    <tr>\n",
       "      <th>2</th>\n",
       "      <td>0.02</td>\n",
       "      <td>1</td>\n",
       "      <td>80</td>\n",
       "      <td>0</td>\n",
       "      <td>230</td>\n",
       "      <td>70</td>\n",
       "      <td>40</td>\n",
       "      <td>0</td>\n",
       "      <td>50</td>\n",
       "      <td>40</td>\n",
       "      <td>8</td>\n",
       "      <td>0.8</td>\n",
       "    </tr>\n",
       "    <tr>\n",
       "      <th>3</th>\n",
       "      <td>0.02</td>\n",
       "      <td>4</td>\n",
       "      <td>70</td>\n",
       "      <td>1</td>\n",
       "      <td>240</td>\n",
       "      <td>75</td>\n",
       "      <td>40</td>\n",
       "      <td>0</td>\n",
       "      <td>75</td>\n",
       "      <td>68</td>\n",
       "      <td>10</td>\n",
       "      <td>0.5</td>\n",
       "    </tr>\n",
       "    <tr>\n",
       "      <th>4</th>\n",
       "      <td>0.02</td>\n",
       "      <td>6</td>\n",
       "      <td>90</td>\n",
       "      <td>0</td>\n",
       "      <td>250</td>\n",
       "      <td>80</td>\n",
       "      <td>40</td>\n",
       "      <td>0</td>\n",
       "      <td>100</td>\n",
       "      <td>92</td>\n",
       "      <td>5</td>\n",
       "      <td>0.7</td>\n",
       "    </tr>\n",
       "  </tbody>\n",
       "</table>\n",
       "</div>"
      ],
      "text/plain": [
       "   layer_height  wall_thickness  infill_density  infill_pattern  \\\n",
       "0          0.02               8              90               0   \n",
       "1          0.02               7              90               1   \n",
       "2          0.02               1              80               0   \n",
       "3          0.02               4              70               1   \n",
       "4          0.02               6              90               0   \n",
       "\n",
       "   nozzle_temperature  bed_temperature  print_speed  material  fan_speed  \\\n",
       "0                 220               60           40         0          0   \n",
       "1                 225               65           40         0         25   \n",
       "2                 230               70           40         0         50   \n",
       "3                 240               75           40         0         75   \n",
       "4                 250               80           40         0        100   \n",
       "\n",
       "   roughness  tension_strenght  elongation  \n",
       "0         25                18         1.2  \n",
       "1         32                16         1.4  \n",
       "2         40                 8         0.8  \n",
       "3         68                10         0.5  \n",
       "4         92                 5         0.7  "
      ]
     },
     "execution_count": 137,
     "metadata": {},
     "output_type": "execute_result"
    }
   ],
   "source": [
    "printer.head()"
   ]
  },
  {
   "cell_type": "code",
   "execution_count": 138,
   "id": "9daafae2",
   "metadata": {
    "execution": {
     "iopub.execute_input": "2022-07-07T12:50:39.137199Z",
     "iopub.status.busy": "2022-07-07T12:50:39.136034Z",
     "iopub.status.idle": "2022-07-07T12:50:39.154400Z",
     "shell.execute_reply": "2022-07-07T12:50:39.152980Z"
    },
    "papermill": {
     "duration": 0.044453,
     "end_time": "2022-07-07T12:50:39.157379",
     "exception": false,
     "start_time": "2022-07-07T12:50:39.112926",
     "status": "completed"
    },
    "tags": []
   },
   "outputs": [
    {
     "data": {
      "text/html": [
       "<div>\n",
       "<style scoped>\n",
       "    .dataframe tbody tr th:only-of-type {\n",
       "        vertical-align: middle;\n",
       "    }\n",
       "\n",
       "    .dataframe tbody tr th {\n",
       "        vertical-align: top;\n",
       "    }\n",
       "\n",
       "    .dataframe thead th {\n",
       "        text-align: right;\n",
       "    }\n",
       "</style>\n",
       "<table border=\"1\" class=\"dataframe\">\n",
       "  <thead>\n",
       "    <tr style=\"text-align: right;\">\n",
       "      <th></th>\n",
       "      <th>layer_height</th>\n",
       "      <th>wall_thickness</th>\n",
       "      <th>infill_density</th>\n",
       "      <th>infill_pattern</th>\n",
       "      <th>nozzle_temperature</th>\n",
       "      <th>bed_temperature</th>\n",
       "      <th>print_speed</th>\n",
       "      <th>material</th>\n",
       "      <th>fan_speed</th>\n",
       "    </tr>\n",
       "  </thead>\n",
       "  <tbody>\n",
       "    <tr>\n",
       "      <th>0</th>\n",
       "      <td>0.02</td>\n",
       "      <td>8</td>\n",
       "      <td>90</td>\n",
       "      <td>0</td>\n",
       "      <td>220</td>\n",
       "      <td>60</td>\n",
       "      <td>40</td>\n",
       "      <td>0</td>\n",
       "      <td>0</td>\n",
       "    </tr>\n",
       "    <tr>\n",
       "      <th>1</th>\n",
       "      <td>0.02</td>\n",
       "      <td>7</td>\n",
       "      <td>90</td>\n",
       "      <td>1</td>\n",
       "      <td>225</td>\n",
       "      <td>65</td>\n",
       "      <td>40</td>\n",
       "      <td>0</td>\n",
       "      <td>25</td>\n",
       "    </tr>\n",
       "    <tr>\n",
       "      <th>2</th>\n",
       "      <td>0.02</td>\n",
       "      <td>1</td>\n",
       "      <td>80</td>\n",
       "      <td>0</td>\n",
       "      <td>230</td>\n",
       "      <td>70</td>\n",
       "      <td>40</td>\n",
       "      <td>0</td>\n",
       "      <td>50</td>\n",
       "    </tr>\n",
       "    <tr>\n",
       "      <th>3</th>\n",
       "      <td>0.02</td>\n",
       "      <td>4</td>\n",
       "      <td>70</td>\n",
       "      <td>1</td>\n",
       "      <td>240</td>\n",
       "      <td>75</td>\n",
       "      <td>40</td>\n",
       "      <td>0</td>\n",
       "      <td>75</td>\n",
       "    </tr>\n",
       "    <tr>\n",
       "      <th>4</th>\n",
       "      <td>0.02</td>\n",
       "      <td>6</td>\n",
       "      <td>90</td>\n",
       "      <td>0</td>\n",
       "      <td>250</td>\n",
       "      <td>80</td>\n",
       "      <td>40</td>\n",
       "      <td>0</td>\n",
       "      <td>100</td>\n",
       "    </tr>\n",
       "  </tbody>\n",
       "</table>\n",
       "</div>"
      ],
      "text/plain": [
       "   layer_height  wall_thickness  infill_density  infill_pattern  \\\n",
       "0          0.02               8              90               0   \n",
       "1          0.02               7              90               1   \n",
       "2          0.02               1              80               0   \n",
       "3          0.02               4              70               1   \n",
       "4          0.02               6              90               0   \n",
       "\n",
       "   nozzle_temperature  bed_temperature  print_speed  material  fan_speed  \n",
       "0                 220               60           40         0          0  \n",
       "1                 225               65           40         0         25  \n",
       "2                 230               70           40         0         50  \n",
       "3                 240               75           40         0         75  \n",
       "4                 250               80           40         0        100  "
      ]
     },
     "execution_count": 138,
     "metadata": {},
     "output_type": "execute_result"
    }
   ],
   "source": [
    "X = printer.drop(['roughness','tension_strenght','elongation'], axis = 1)\n",
    "X.head()"
   ]
  },
  {
   "cell_type": "code",
   "execution_count": 139,
   "id": "23d6fe48",
   "metadata": {
    "execution": {
     "iopub.execute_input": "2022-07-07T12:50:39.204786Z",
     "iopub.status.busy": "2022-07-07T12:50:39.204287Z",
     "iopub.status.idle": "2022-07-07T12:50:39.227249Z",
     "shell.execute_reply": "2022-07-07T12:50:39.225468Z"
    },
    "papermill": {
     "duration": 0.050551,
     "end_time": "2022-07-07T12:50:39.230323",
     "exception": false,
     "start_time": "2022-07-07T12:50:39.179772",
     "status": "completed"
    },
    "tags": []
   },
   "outputs": [
    {
     "name": "stdout",
     "output_type": "stream",
     "text": [
      "                            OLS Regression Results                            \n",
      "==============================================================================\n",
      "Dep. Variable:       tension_strenght   R-squared:                       0.673\n",
      "Model:                            OLS   Adj. R-squared:                  0.609\n",
      "Method:                 Least Squares   F-statistic:                     10.55\n",
      "Date:                Thu, 18 Apr 2024   Prob (F-statistic):           6.91e-08\n",
      "Time:                        00:31:56   Log-Likelihood:                -151.94\n",
      "No. Observations:                  50   AIC:                             321.9\n",
      "Df Residuals:                      41   BIC:                             339.1\n",
      "Df Model:                           8                                         \n",
      "Covariance Type:            nonrobust                                         \n",
      "======================================================================================\n",
      "                         coef    std err          t      P>|t|      [0.025      0.975]\n",
      "--------------------------------------------------------------------------------------\n",
      "const                  0.0663      0.023      2.863      0.007       0.020       0.113\n",
      "layer_height          55.5972     12.788      4.348      0.000      29.772      81.423\n",
      "wall_thickness         1.0687      0.319      3.346      0.002       0.424       1.714\n",
      "infill_density         0.1629      0.034      4.769      0.000       0.094       0.232\n",
      "infill_pattern        -1.1427      1.646     -0.694      0.491      -4.466       2.181\n",
      "nozzle_temperature    -1.0468      0.369     -2.837      0.007      -1.792      -0.302\n",
      "bed_temperature        3.8647      1.354      2.855      0.007       1.131       6.599\n",
      "print_speed           -0.0156      0.030     -0.519      0.607      -0.076       0.045\n",
      "material             -17.3051      8.515     -2.032      0.049     -34.502      -0.108\n",
      "fan_speed             -0.5719      0.181     -3.166      0.003      -0.937      -0.207\n",
      "==============================================================================\n",
      "Omnibus:                        0.265   Durbin-Watson:                   1.461\n",
      "Prob(Omnibus):                  0.876   Jarque-Bera (JB):                0.456\n",
      "Skew:                           0.060   Prob(JB):                        0.796\n",
      "Kurtosis:                       2.548   Cond. No.                     3.59e+18\n",
      "==============================================================================\n",
      "\n",
      "Notes:\n",
      "[1] Standard Errors assume that the covariance matrix of the errors is correctly specified.\n",
      "[2] The smallest eigenvalue is 2.48e-31. This might indicate that there are\n",
      "strong multicollinearity problems or that the design matrix is singular.\n"
     ]
    }
   ],
   "source": [
    "linear_Regression(X,y)"
   ]
  },
  {
   "cell_type": "code",
   "execution_count": 140,
   "id": "f8d007a4",
   "metadata": {
    "execution": {
     "iopub.execute_input": "2022-07-07T12:50:39.275618Z",
     "iopub.status.busy": "2022-07-07T12:50:39.275110Z",
     "iopub.status.idle": "2022-07-07T12:50:39.292113Z",
     "shell.execute_reply": "2022-07-07T12:50:39.290891Z"
    },
    "papermill": {
     "duration": 0.042762,
     "end_time": "2022-07-07T12:50:39.294754",
     "exception": false,
     "start_time": "2022-07-07T12:50:39.251992",
     "status": "completed"
    },
    "tags": []
   },
   "outputs": [
    {
     "data": {
      "text/html": [
       "<div>\n",
       "<style scoped>\n",
       "    .dataframe tbody tr th:only-of-type {\n",
       "        vertical-align: middle;\n",
       "    }\n",
       "\n",
       "    .dataframe tbody tr th {\n",
       "        vertical-align: top;\n",
       "    }\n",
       "\n",
       "    .dataframe thead th {\n",
       "        text-align: right;\n",
       "    }\n",
       "</style>\n",
       "<table border=\"1\" class=\"dataframe\">\n",
       "  <thead>\n",
       "    <tr style=\"text-align: right;\">\n",
       "      <th></th>\n",
       "      <th>layer_height</th>\n",
       "      <th>wall_thickness</th>\n",
       "      <th>infill_density</th>\n",
       "      <th>nozzle_temperature</th>\n",
       "      <th>bed_temperature</th>\n",
       "      <th>material</th>\n",
       "      <th>fan_speed</th>\n",
       "    </tr>\n",
       "  </thead>\n",
       "  <tbody>\n",
       "    <tr>\n",
       "      <th>0</th>\n",
       "      <td>0.02</td>\n",
       "      <td>8</td>\n",
       "      <td>90</td>\n",
       "      <td>220</td>\n",
       "      <td>60</td>\n",
       "      <td>0</td>\n",
       "      <td>0</td>\n",
       "    </tr>\n",
       "    <tr>\n",
       "      <th>1</th>\n",
       "      <td>0.02</td>\n",
       "      <td>7</td>\n",
       "      <td>90</td>\n",
       "      <td>225</td>\n",
       "      <td>65</td>\n",
       "      <td>0</td>\n",
       "      <td>25</td>\n",
       "    </tr>\n",
       "    <tr>\n",
       "      <th>2</th>\n",
       "      <td>0.02</td>\n",
       "      <td>1</td>\n",
       "      <td>80</td>\n",
       "      <td>230</td>\n",
       "      <td>70</td>\n",
       "      <td>0</td>\n",
       "      <td>50</td>\n",
       "    </tr>\n",
       "    <tr>\n",
       "      <th>3</th>\n",
       "      <td>0.02</td>\n",
       "      <td>4</td>\n",
       "      <td>70</td>\n",
       "      <td>240</td>\n",
       "      <td>75</td>\n",
       "      <td>0</td>\n",
       "      <td>75</td>\n",
       "    </tr>\n",
       "    <tr>\n",
       "      <th>4</th>\n",
       "      <td>0.02</td>\n",
       "      <td>6</td>\n",
       "      <td>90</td>\n",
       "      <td>250</td>\n",
       "      <td>80</td>\n",
       "      <td>0</td>\n",
       "      <td>100</td>\n",
       "    </tr>\n",
       "  </tbody>\n",
       "</table>\n",
       "</div>"
      ],
      "text/plain": [
       "   layer_height  wall_thickness  infill_density  nozzle_temperature  \\\n",
       "0          0.02               8              90                 220   \n",
       "1          0.02               7              90                 225   \n",
       "2          0.02               1              80                 230   \n",
       "3          0.02               4              70                 240   \n",
       "4          0.02               6              90                 250   \n",
       "\n",
       "   bed_temperature  material  fan_speed  \n",
       "0               60         0          0  \n",
       "1               65         0         25  \n",
       "2               70         0         50  \n",
       "3               75         0         75  \n",
       "4               80         0        100  "
      ]
     },
     "execution_count": 140,
     "metadata": {},
     "output_type": "execute_result"
    }
   ],
   "source": [
    "X = X.drop(['infill_pattern','print_speed'], axis = 1)\n",
    "X.head()"
   ]
  },
  {
   "cell_type": "code",
   "execution_count": 141,
   "id": "c26845ad",
   "metadata": {
    "execution": {
     "iopub.execute_input": "2022-07-07T12:50:39.342064Z",
     "iopub.status.busy": "2022-07-07T12:50:39.341200Z",
     "iopub.status.idle": "2022-07-07T12:50:39.362784Z",
     "shell.execute_reply": "2022-07-07T12:50:39.360872Z"
    },
    "papermill": {
     "duration": 0.048441,
     "end_time": "2022-07-07T12:50:39.365753",
     "exception": false,
     "start_time": "2022-07-07T12:50:39.317312",
     "status": "completed"
    },
    "tags": []
   },
   "outputs": [
    {
     "name": "stdout",
     "output_type": "stream",
     "text": [
      "                            OLS Regression Results                            \n",
      "==============================================================================\n",
      "Dep. Variable:       tension_strenght   R-squared:                       0.667\n",
      "Model:                            OLS   Adj. R-squared:                  0.620\n",
      "Method:                 Least Squares   F-statistic:                     14.33\n",
      "Date:                Thu, 18 Apr 2024   Prob (F-statistic):           6.78e-09\n",
      "Time:                        00:31:56   Log-Likelihood:                -152.42\n",
      "No. Observations:                  50   AIC:                             318.8\n",
      "Df Residuals:                      43   BIC:                             332.2\n",
      "Df Model:                           6                                         \n",
      "Covariance Type:            nonrobust                                         \n",
      "======================================================================================\n",
      "                         coef    std err          t      P>|t|      [0.025      0.975]\n",
      "--------------------------------------------------------------------------------------\n",
      "const                  0.0646      0.023      2.840      0.007       0.019       0.111\n",
      "layer_height          56.3670     12.448      4.528      0.000      31.262      81.472\n",
      "wall_thickness         1.1117      0.280      3.967      0.000       0.547       1.677\n",
      "infill_density         0.1664      0.033      4.985      0.000       0.099       0.234\n",
      "nozzle_temperature    -1.0289      0.363     -2.833      0.007      -1.761      -0.296\n",
      "bed_temperature        3.7661      1.330      2.831      0.007       1.084       6.449\n",
      "material             -17.1036      8.392     -2.038      0.048     -34.028      -0.180\n",
      "fan_speed             -0.5565      0.177     -3.140      0.003      -0.914      -0.199\n",
      "==============================================================================\n",
      "Omnibus:                        0.578   Durbin-Watson:                   1.501\n",
      "Prob(Omnibus):                  0.749   Jarque-Bera (JB):                0.710\n",
      "Skew:                           0.195   Prob(JB):                        0.701\n",
      "Kurtosis:                       2.566   Cond. No.                     4.12e+18\n",
      "==============================================================================\n",
      "\n",
      "Notes:\n",
      "[1] Standard Errors assume that the covariance matrix of the errors is correctly specified.\n",
      "[2] The smallest eigenvalue is 1.76e-31. This might indicate that there are\n",
      "strong multicollinearity problems or that the design matrix is singular.\n"
     ]
    }
   ],
   "source": [
    "linear_Regression(X,y)"
   ]
  },
  {
   "cell_type": "code",
   "execution_count": 142,
   "id": "cac77ad0",
   "metadata": {
    "execution": {
     "iopub.execute_input": "2022-07-07T12:50:39.413701Z",
     "iopub.status.busy": "2022-07-07T12:50:39.413092Z",
     "iopub.status.idle": "2022-07-07T12:50:39.433789Z",
     "shell.execute_reply": "2022-07-07T12:50:39.432764Z"
    },
    "papermill": {
     "duration": 0.047899,
     "end_time": "2022-07-07T12:50:39.436130",
     "exception": false,
     "start_time": "2022-07-07T12:50:39.388231",
     "status": "completed"
    },
    "tags": []
   },
   "outputs": [
    {
     "data": {
      "text/html": [
       "<div>\n",
       "<style scoped>\n",
       "    .dataframe tbody tr th:only-of-type {\n",
       "        vertical-align: middle;\n",
       "    }\n",
       "\n",
       "    .dataframe tbody tr th {\n",
       "        vertical-align: top;\n",
       "    }\n",
       "\n",
       "    .dataframe thead th {\n",
       "        text-align: right;\n",
       "    }\n",
       "</style>\n",
       "<table border=\"1\" class=\"dataframe\">\n",
       "  <thead>\n",
       "    <tr style=\"text-align: right;\">\n",
       "      <th></th>\n",
       "      <th>layer_height</th>\n",
       "      <th>wall_thickness</th>\n",
       "      <th>infill_density</th>\n",
       "      <th>nozzle_temperature</th>\n",
       "      <th>bed_temperature</th>\n",
       "      <th>material</th>\n",
       "      <th>fan_speed</th>\n",
       "      <th>interct_mn</th>\n",
       "      <th>interact_bn</th>\n",
       "      <th>interact_fn</th>\n",
       "      <th>interact_fb</th>\n",
       "    </tr>\n",
       "  </thead>\n",
       "  <tbody>\n",
       "    <tr>\n",
       "      <th>0</th>\n",
       "      <td>0.02</td>\n",
       "      <td>8</td>\n",
       "      <td>90</td>\n",
       "      <td>220</td>\n",
       "      <td>60</td>\n",
       "      <td>0</td>\n",
       "      <td>0</td>\n",
       "      <td>0</td>\n",
       "      <td>13200</td>\n",
       "      <td>0</td>\n",
       "      <td>0</td>\n",
       "    </tr>\n",
       "    <tr>\n",
       "      <th>1</th>\n",
       "      <td>0.02</td>\n",
       "      <td>7</td>\n",
       "      <td>90</td>\n",
       "      <td>225</td>\n",
       "      <td>65</td>\n",
       "      <td>0</td>\n",
       "      <td>25</td>\n",
       "      <td>0</td>\n",
       "      <td>14625</td>\n",
       "      <td>5625</td>\n",
       "      <td>1625</td>\n",
       "    </tr>\n",
       "    <tr>\n",
       "      <th>2</th>\n",
       "      <td>0.02</td>\n",
       "      <td>1</td>\n",
       "      <td>80</td>\n",
       "      <td>230</td>\n",
       "      <td>70</td>\n",
       "      <td>0</td>\n",
       "      <td>50</td>\n",
       "      <td>0</td>\n",
       "      <td>16100</td>\n",
       "      <td>11500</td>\n",
       "      <td>3500</td>\n",
       "    </tr>\n",
       "    <tr>\n",
       "      <th>3</th>\n",
       "      <td>0.02</td>\n",
       "      <td>4</td>\n",
       "      <td>70</td>\n",
       "      <td>240</td>\n",
       "      <td>75</td>\n",
       "      <td>0</td>\n",
       "      <td>75</td>\n",
       "      <td>0</td>\n",
       "      <td>18000</td>\n",
       "      <td>18000</td>\n",
       "      <td>5625</td>\n",
       "    </tr>\n",
       "    <tr>\n",
       "      <th>4</th>\n",
       "      <td>0.02</td>\n",
       "      <td>6</td>\n",
       "      <td>90</td>\n",
       "      <td>250</td>\n",
       "      <td>80</td>\n",
       "      <td>0</td>\n",
       "      <td>100</td>\n",
       "      <td>0</td>\n",
       "      <td>20000</td>\n",
       "      <td>25000</td>\n",
       "      <td>8000</td>\n",
       "    </tr>\n",
       "  </tbody>\n",
       "</table>\n",
       "</div>"
      ],
      "text/plain": [
       "   layer_height  wall_thickness  infill_density  nozzle_temperature  \\\n",
       "0          0.02               8              90                 220   \n",
       "1          0.02               7              90                 225   \n",
       "2          0.02               1              80                 230   \n",
       "3          0.02               4              70                 240   \n",
       "4          0.02               6              90                 250   \n",
       "\n",
       "   bed_temperature  material  fan_speed  interct_mn  interact_bn  interact_fn  \\\n",
       "0               60         0          0           0        13200            0   \n",
       "1               65         0         25           0        14625         5625   \n",
       "2               70         0         50           0        16100        11500   \n",
       "3               75         0         75           0        18000        18000   \n",
       "4               80         0        100           0        20000        25000   \n",
       "\n",
       "   interact_fb  \n",
       "0            0  \n",
       "1         1625  \n",
       "2         3500  \n",
       "3         5625  \n",
       "4         8000  "
      ]
     },
     "execution_count": 142,
     "metadata": {},
     "output_type": "execute_result"
    }
   ],
   "source": [
    "interaction = pd.concat([X,inter_mn,inter_bn,inter_fn,inter_fb], axis = 1)\n",
    "\n",
    "interaction = interaction.rename(columns = {0:'interct_mn', 1:'interact_bn', 2:'interact_fn',\n",
    "                             3:'interact_fb'})\n",
    "\n",
    "interaction.head()"
   ]
  },
  {
   "cell_type": "code",
   "execution_count": 143,
   "id": "27d281b9",
   "metadata": {
    "execution": {
     "iopub.execute_input": "2022-07-07T12:50:39.484724Z",
     "iopub.status.busy": "2022-07-07T12:50:39.484246Z",
     "iopub.status.idle": "2022-07-07T12:50:39.506081Z",
     "shell.execute_reply": "2022-07-07T12:50:39.504722Z"
    },
    "papermill": {
     "duration": 0.049252,
     "end_time": "2022-07-07T12:50:39.508797",
     "exception": false,
     "start_time": "2022-07-07T12:50:39.459545",
     "status": "completed"
    },
    "tags": []
   },
   "outputs": [
    {
     "name": "stdout",
     "output_type": "stream",
     "text": [
      "                            OLS Regression Results                            \n",
      "==============================================================================\n",
      "Dep. Variable:       tension_strenght   R-squared:                       0.718\n",
      "Model:                            OLS   Adj. R-squared:                  0.654\n",
      "Method:                 Least Squares   F-statistic:                     11.30\n",
      "Date:                Thu, 18 Apr 2024   Prob (F-statistic):           1.54e-08\n",
      "Time:                        00:31:56   Log-Likelihood:                -148.26\n",
      "No. Observations:                  50   AIC:                             316.5\n",
      "Df Residuals:                      40   BIC:                             335.6\n",
      "Df Model:                           9                                         \n",
      "Covariance Type:            nonrobust                                         \n",
      "======================================================================================\n",
      "                         coef    std err          t      P>|t|      [0.025      0.975]\n",
      "--------------------------------------------------------------------------------------\n",
      "const                 -0.0781      0.164     -0.477      0.636      -0.409       0.253\n",
      "layer_height          56.6034     11.884      4.763      0.000      32.585      80.622\n",
      "wall_thickness         1.1375      0.271      4.191      0.000       0.589       1.686\n",
      "infill_density         0.1587      0.033      4.868      0.000       0.093       0.225\n",
      "nozzle_temperature     0.0004      0.001      0.482      0.633      -0.001       0.002\n",
      "bed_temperature       -4.3166      8.863     -0.487      0.629     -22.229      13.595\n",
      "material             -29.9509    502.401     -0.060      0.953   -1045.341     985.440\n",
      "fan_speed              1.8551      4.876      0.380      0.706      -8.000      11.711\n",
      "interct_mn             0.2557      2.295      0.111      0.912      -4.382       4.893\n",
      "interact_bn            0.0199      0.040      0.494      0.624      -0.062       0.101\n",
      "interact_fn           -0.0120      0.031     -0.389      0.700      -0.074       0.050\n",
      "interact_fb            0.0062      0.024      0.256      0.800      -0.043       0.056\n",
      "==============================================================================\n",
      "Omnibus:                        0.143   Durbin-Watson:                   1.471\n",
      "Prob(Omnibus):                  0.931   Jarque-Bera (JB):                0.217\n",
      "Skew:                          -0.118   Prob(JB):                        0.897\n",
      "Kurtosis:                       2.779   Cond. No.                     3.89e+20\n",
      "==============================================================================\n",
      "\n",
      "Notes:\n",
      "[1] Standard Errors assume that the covariance matrix of the errors is correctly specified.\n",
      "[2] The smallest eigenvalue is 1.46e-31. This might indicate that there are\n",
      "strong multicollinearity problems or that the design matrix is singular.\n"
     ]
    }
   ],
   "source": [
    "linear_Regression(interaction,y)"
   ]
  },
  {
   "cell_type": "markdown",
   "id": "79e21f4f",
   "metadata": {
    "papermill": {
     "duration": 0.022461,
     "end_time": "2022-07-07T12:50:39.554347",
     "exception": false,
     "start_time": "2022-07-07T12:50:39.531886",
     "status": "completed"
    },
    "tags": []
   },
   "source": [
    "## Elonagtion and Tension_strength are strongly correlated to one another and both don't behave linearly."
   ]
  },
  {
   "cell_type": "markdown",
   "id": "49439acf",
   "metadata": {},
   "source": [
    "# Type material prediction"
   ]
  },
  {
   "cell_type": "code",
   "execution_count": 155,
   "id": "d68f0c1b",
   "metadata": {},
   "outputs": [
    {
     "data": {
      "text/html": [
       "<div>\n",
       "<style scoped>\n",
       "    .dataframe tbody tr th:only-of-type {\n",
       "        vertical-align: middle;\n",
       "    }\n",
       "\n",
       "    .dataframe tbody tr th {\n",
       "        vertical-align: top;\n",
       "    }\n",
       "\n",
       "    .dataframe thead th {\n",
       "        text-align: right;\n",
       "    }\n",
       "</style>\n",
       "<table border=\"1\" class=\"dataframe\">\n",
       "  <thead>\n",
       "    <tr style=\"text-align: right;\">\n",
       "      <th></th>\n",
       "      <th>layer_height</th>\n",
       "      <th>wall_thickness</th>\n",
       "      <th>infill_density</th>\n",
       "      <th>infill_pattern</th>\n",
       "      <th>nozzle_temperature</th>\n",
       "      <th>bed_temperature</th>\n",
       "      <th>print_speed</th>\n",
       "      <th>material</th>\n",
       "      <th>fan_speed</th>\n",
       "      <th>roughness</th>\n",
       "      <th>tension_strenght</th>\n",
       "      <th>elongation</th>\n",
       "    </tr>\n",
       "  </thead>\n",
       "  <tbody>\n",
       "    <tr>\n",
       "      <th>0</th>\n",
       "      <td>0.02</td>\n",
       "      <td>8</td>\n",
       "      <td>90</td>\n",
       "      <td>0</td>\n",
       "      <td>220</td>\n",
       "      <td>60</td>\n",
       "      <td>40</td>\n",
       "      <td>0</td>\n",
       "      <td>0</td>\n",
       "      <td>25</td>\n",
       "      <td>18</td>\n",
       "      <td>1.2</td>\n",
       "    </tr>\n",
       "    <tr>\n",
       "      <th>1</th>\n",
       "      <td>0.02</td>\n",
       "      <td>7</td>\n",
       "      <td>90</td>\n",
       "      <td>1</td>\n",
       "      <td>225</td>\n",
       "      <td>65</td>\n",
       "      <td>40</td>\n",
       "      <td>0</td>\n",
       "      <td>25</td>\n",
       "      <td>32</td>\n",
       "      <td>16</td>\n",
       "      <td>1.4</td>\n",
       "    </tr>\n",
       "    <tr>\n",
       "      <th>2</th>\n",
       "      <td>0.02</td>\n",
       "      <td>1</td>\n",
       "      <td>80</td>\n",
       "      <td>0</td>\n",
       "      <td>230</td>\n",
       "      <td>70</td>\n",
       "      <td>40</td>\n",
       "      <td>0</td>\n",
       "      <td>50</td>\n",
       "      <td>40</td>\n",
       "      <td>8</td>\n",
       "      <td>0.8</td>\n",
       "    </tr>\n",
       "    <tr>\n",
       "      <th>3</th>\n",
       "      <td>0.02</td>\n",
       "      <td>4</td>\n",
       "      <td>70</td>\n",
       "      <td>1</td>\n",
       "      <td>240</td>\n",
       "      <td>75</td>\n",
       "      <td>40</td>\n",
       "      <td>0</td>\n",
       "      <td>75</td>\n",
       "      <td>68</td>\n",
       "      <td>10</td>\n",
       "      <td>0.5</td>\n",
       "    </tr>\n",
       "    <tr>\n",
       "      <th>4</th>\n",
       "      <td>0.02</td>\n",
       "      <td>6</td>\n",
       "      <td>90</td>\n",
       "      <td>0</td>\n",
       "      <td>250</td>\n",
       "      <td>80</td>\n",
       "      <td>40</td>\n",
       "      <td>0</td>\n",
       "      <td>100</td>\n",
       "      <td>92</td>\n",
       "      <td>5</td>\n",
       "      <td>0.7</td>\n",
       "    </tr>\n",
       "  </tbody>\n",
       "</table>\n",
       "</div>"
      ],
      "text/plain": [
       "   layer_height  wall_thickness  infill_density  infill_pattern  \\\n",
       "0          0.02               8              90               0   \n",
       "1          0.02               7              90               1   \n",
       "2          0.02               1              80               0   \n",
       "3          0.02               4              70               1   \n",
       "4          0.02               6              90               0   \n",
       "\n",
       "   nozzle_temperature  bed_temperature  print_speed  material  fan_speed  \\\n",
       "0                 220               60           40         0          0   \n",
       "1                 225               65           40         0         25   \n",
       "2                 230               70           40         0         50   \n",
       "3                 240               75           40         0         75   \n",
       "4                 250               80           40         0        100   \n",
       "\n",
       "   roughness  tension_strenght  elongation  \n",
       "0         25                18         1.2  \n",
       "1         32                16         1.4  \n",
       "2         40                 8         0.8  \n",
       "3         68                10         0.5  \n",
       "4         92                 5         0.7  "
      ]
     },
     "execution_count": 155,
     "metadata": {},
     "output_type": "execute_result"
    }
   ],
   "source": [
    "printer.layer_height = printer.layer_height\n",
    "printer.elongation = printer.elongation\n",
    "printer.head()"
   ]
  },
  {
   "cell_type": "markdown",
   "id": "37801ef7",
   "metadata": {},
   "source": [
    "converting the fractions into percentages"
   ]
  },
  {
   "cell_type": "code",
   "execution_count": 146,
   "metadata": {},
   "outputs": [],
   "source": [
    "x = printer.drop([\"material\"], axis = 1)\n",
    "y = printer.material.values\n",
    "x_norm = (x-x.mean())/(x.std())"
   ]
  },
  {
   "cell_type": "markdown",
   "id": "b22016f0",
   "metadata": {},
   "source": [
    "## Create function for metrics and confusion matrix"
   ]
  },
  {
   "cell_type": "code",
   "execution_count": 148,
   "id": "f8babb68",
   "metadata": {},
   "outputs": [],
   "source": [
    "from sklearn.metrics import accuracy_score, precision_score, recall_score, f1_score, confusion_matrix\n",
    "def plot_confusion_matrix(conf_matrix):\n",
    "    \"\"\"\n",
    "    Plotea la matriz de confusión.\n",
    "    \n",
    "    Args:\n",
    "    conf_matrix (np.array): Matriz de confusión a visualizar.\n",
    "    \"\"\"\n",
    "    plt.figure(figsize=(8, 6))\n",
    "    sns.heatmap(conf_matrix, annot=True, fmt=\"d\", cmap='Blues', cbar=False)\n",
    "    plt.xlabel('Predicted')\n",
    "    plt.ylabel('True')\n",
    "    plt.title('Confusion Matrix')\n",
    "    plt.show()\n",
    "\n",
    "def evaluate_metrics(y_true, y_pred):\n",
    "    \"\"\"\n",
    "    Calcula y devuelve un diccionario con las métricas de precisión, exactitud, \n",
    "    sensibilidad (recall) y puntuación F1, junto con la matriz de confusión.\n",
    "    \"\"\"\n",
    "    accuracy = accuracy_score(y_true, y_pred)\n",
    "    precision = precision_score(y_true, y_pred, average='binary')\n",
    "    recall = recall_score(y_true, y_pred, average='binary')\n",
    "    f1 = f1_score(y_true, y_pred, average='binary')\n",
    "    conf_matrix = confusion_matrix(y_true, y_pred)\n",
    "    return {\n",
    "        'accuracy': accuracy,\n",
    "        'precision': precision,\n",
    "        'recall': recall,\n",
    "        'f1_score': f1,\n",
    "        'confusion_matrix': conf_matrix\n",
    "    }"
   ]
  },
  {
   "cell_type": "markdown",
   "id": "b80525af",
   "metadata": {},
   "source": [
    "## Model Lineal Regression and Logistic Regression"
   ]
  },
  {
   "cell_type": "code",
   "execution_count": 152,
   "id": "98dcc554",
   "metadata": {},
   "outputs": [
    {
     "name": "stdout",
     "output_type": "stream",
     "text": [
      "Métricas en el conjunto de prueba: {'accuracy': 1.0, 'precision': 1.0, 'recall': 1.0, 'f1_score': 1.0, 'confusion_matrix': array([[6, 0],\n",
      "       [0, 9]], dtype=int64)}\n"
     ]
    },
    {
     "data": {
      "image/png": "[encoded data removed]",
      "text/plain": [
       "<Figure size 800x600 with 1 Axes>"
      ]
     },
     "metadata": {},
     "output_type": "display_data"
    }
   ],
   "source": [
    "from sklearn.model_selection import train_test_split\n",
    "from sklearn.linear_model import LinearRegression\n",
    "\n",
    "# Split the dataset into training and test sets\n",
    "x_train, x_test, y_train, y_test = train_test_split(x_norm, y, test_size=0.3, random_state=1)\n",
    "lin_reg = LinearRegression().fit(x_train, y_train)\n",
    "\n",
    "# Function to convert continuous predictions into binary categories\n",
    "def predict_binary(X, model, threshold=0.5):\n",
    "    y_pred = model.predict(X)\n",
    "    y_pred_binary = (y_pred > threshold).astype(int)  # Convert predictions to 0 or 1 based on the threshold\n",
    "    return y_pred_binary\n",
    "\n",
    "# Make binary predictions on the test set\n",
    "y_pred_test = predict_binary(x_test, lin_reg)\n",
    "\n",
    "# Evaluate the model's performance on the test set\n",
    "metrics_test = evaluate_metrics(y_test, y_pred_test)\n",
    "\n",
    "print(\"Metrics on the test set:\", metrics_test)\n",
    "\n",
    "# Plot the confusion matrix\n",
    "plot_confusion_matrix(metrics_test['confusion_matrix'])"
   ]
  },
  {
   "cell_type": "code",
   "execution_count": 156,
   "id": "d7705d37",
   "metadata": {},
   "outputs": [
    {
     "name": "stdout",
     "output_type": "stream",
     "text": [
      "Metrics on the test set: {'accuracy': 1.0, 'precision': 1.0, 'recall': 1.0, 'f1_score': 1.0, 'confusion_matrix': array([[6, 0],\n",
      "       [0, 9]], dtype=int64)}\n"
     ]
    },
    {
     "data": {
      "image/png": "[encoded data removed]",
      "text/plain": [
       "<Figure size 800x600 with 1 Axes>"
      ]
     },
     "metadata": {},
     "output_type": "display_data"
    }
   ],
   "source": [
    "from sklearn.model_selection import train_test_split\n",
    "from sklearn.linear_model import LogisticRegression\n",
    "\n",
    "# Split the data into training and test sets\n",
    "x_train, x_test, y_train, y_test = train_test_split(x_norm, y, test_size=0.3, random_state=2) \n",
    "logreg = LogisticRegression().fit(x_train, y_train)\n",
    "\n",
    "# Predict on the test set\n",
    "y_pred_test = logreg.predict(x_test)\n",
    "\n",
    "# Evaluate the model on the test set\n",
    "metrics_test = evaluate_metrics(y_test, y_pred_test)\n",
    "\n",
    "print(\"Metrics on the test set:\", metrics_test)\n",
    "\n",
    "# Plot the confusion matrix\n",
    "plot_confusion_matrix(metrics_test['confusion_matrix'])\n"
   ]
  },
  {
   "cell_type": "markdown",
   "id": "b1dc83e4",
   "metadata": {
    "papermill": {
     "duration": 0.022603,
     "end_time": "2022-07-07T12:50:39.599905",
     "exception": false,
     "start_time": "2022-07-07T12:50:39.577302",
     "status": "completed"
    },
    "tags": []
   },
   "source": [
    "# Summary\n",
    "\n",
    "1. In this notebook, we have studied about the relationship between the 9 features and the 3 features.\n",
    "2. The label roughness behaves perfectly with the 9 features whereas tension strength and elongation behave linearly only for about 72% each which is pretty good but not quite accurate. They can be resolved by polynomial regression which is not the case of interest in here.\n",
    "3. So, this is how you perform a Linear regression study on a given dataset."
   ]
  },
  {
   "cell_type": "markdown",
   "id": "bca58ac3",
   "metadata": {
    "papermill": {
     "duration": 0.02165,
     "end_time": "2022-07-07T12:50:39.643719",
     "exception": false,
     "start_time": "2022-07-07T12:50:39.622069",
     "status": "completed"
    },
    "tags": []
   },
   "source": [
    "## If you like the work, consider leaving an upvote.\n",
    "\n",
    "# THANKS!!!"
   ]
  }
 ],
 "metadata": {
  "kernelspec": {
   "display_name": "Python 3",
   "language": "python",
   "name": "python3"
  },
  "language_info": {
   "codemirror_mode": {
    "name": "ipython",
    "version": 3
   },
   "file_extension": ".py",
   "mimetype": "text/x-python",
   "name": "python",
   "nbconvert_exporter": "python",
   "pygments_lexer": "ipython3",
   "version": "3.11.9"
  },
  "papermill": {
   "default_parameters": {},
   "duration": 19.641035,
   "end_time": "2022-07-07T12:50:40.791810",
   "environment_variables": {},
   "exception": null,
   "input_path": "__notebook__.ipynb",
   "output_path": "__notebook__.ipynb",
   "parameters": {},
   "start_time": "2022-07-07T12:50:21.150775",
   "version": "2.3.4"
  }
 },
 "nbformat": 4,
 "nbformat_minor": 5
}
